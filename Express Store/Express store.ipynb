{
 "cells": [
  {
   "cell_type": "code",
   "execution_count": 1,
   "id": "be214b7e-7e07-4ddb-978c-797e99861f0b",
   "metadata": {},
   "outputs": [],
   "source": [
    "import pandas as pd \n",
    "import numpy as np\n",
    "import matplotlib.pyplot as plt\n",
    "import seaborn as sns"
   ]
  },
  {
   "cell_type": "code",
   "execution_count": 2,
   "id": "3286837c-5c01-4c7d-ab34-9b3a0655e43f",
   "metadata": {},
   "outputs": [],
   "source": [
    "df = pd.read_excel('express-store.xlsx')"
   ]
  },
  {
   "cell_type": "code",
   "execution_count": 3,
   "id": "326679fb-1147-4781-aebe-02fd1f9d3aa1",
   "metadata": {
    "scrolled": true
   },
   "outputs": [
    {
     "data": {
      "text/html": [
       "<div>\n",
       "<style scoped>\n",
       "    .dataframe tbody tr th:only-of-type {\n",
       "        vertical-align: middle;\n",
       "    }\n",
       "\n",
       "    .dataframe tbody tr th {\n",
       "        vertical-align: top;\n",
       "    }\n",
       "\n",
       "    .dataframe thead th {\n",
       "        text-align: right;\n",
       "    }\n",
       "</style>\n",
       "<table border=\"1\" class=\"dataframe\">\n",
       "  <thead>\n",
       "    <tr style=\"text-align: right;\">\n",
       "      <th></th>\n",
       "      <th>user_id</th>\n",
       "      <th>assignment_date</th>\n",
       "      <th>express</th>\n",
       "      <th>loyalty</th>\n",
       "      <th>zip_code</th>\n",
       "      <th>address_type</th>\n",
       "      <th>experiment_group</th>\n",
       "      <th>grp_code</th>\n",
       "      <th>orders_placed</th>\n",
       "      <th>avg_order_value</th>\n",
       "      <th>total_spend</th>\n",
       "    </tr>\n",
       "  </thead>\n",
       "  <tbody>\n",
       "    <tr>\n",
       "      <th>0</th>\n",
       "      <td>1</td>\n",
       "      <td>2022-01-18</td>\n",
       "      <td>0</td>\n",
       "      <td>0</td>\n",
       "      <td>37214</td>\n",
       "      <td>Residential</td>\n",
       "      <td>variant 2 (VC $10 min)</td>\n",
       "      <td>v2</td>\n",
       "      <td>1</td>\n",
       "      <td>141.89</td>\n",
       "      <td>141.89</td>\n",
       "    </tr>\n",
       "    <tr>\n",
       "      <th>1</th>\n",
       "      <td>2</td>\n",
       "      <td>2022-02-22</td>\n",
       "      <td>1</td>\n",
       "      <td>0</td>\n",
       "      <td>37209</td>\n",
       "      <td>Residential</td>\n",
       "      <td>control (no VC $35 min)</td>\n",
       "      <td>c0</td>\n",
       "      <td>1</td>\n",
       "      <td>71.15</td>\n",
       "      <td>71.15</td>\n",
       "    </tr>\n",
       "    <tr>\n",
       "      <th>2</th>\n",
       "      <td>3</td>\n",
       "      <td>2022-01-15</td>\n",
       "      <td>1</td>\n",
       "      <td>1</td>\n",
       "      <td>37217</td>\n",
       "      <td>Residential</td>\n",
       "      <td>control (no VC $35 min)</td>\n",
       "      <td>c0</td>\n",
       "      <td>6</td>\n",
       "      <td>189.84</td>\n",
       "      <td>1139.07</td>\n",
       "    </tr>\n",
       "    <tr>\n",
       "      <th>3</th>\n",
       "      <td>4</td>\n",
       "      <td>2022-02-17</td>\n",
       "      <td>0</td>\n",
       "      <td>0</td>\n",
       "      <td>37215</td>\n",
       "      <td>Residential</td>\n",
       "      <td>variant 1 (VC $35 min)</td>\n",
       "      <td>v1</td>\n",
       "      <td>0</td>\n",
       "      <td>0.00</td>\n",
       "      <td>0.00</td>\n",
       "    </tr>\n",
       "    <tr>\n",
       "      <th>4</th>\n",
       "      <td>5</td>\n",
       "      <td>2022-02-06</td>\n",
       "      <td>0</td>\n",
       "      <td>0</td>\n",
       "      <td>37211</td>\n",
       "      <td>Residential</td>\n",
       "      <td>variant 2 (VC $10 min)</td>\n",
       "      <td>v2</td>\n",
       "      <td>1</td>\n",
       "      <td>58.21</td>\n",
       "      <td>58.21</td>\n",
       "    </tr>\n",
       "  </tbody>\n",
       "</table>\n",
       "</div>"
      ],
      "text/plain": [
       "   user_id assignment_date  express  loyalty  zip_code address_type  \\\n",
       "0        1      2022-01-18        0        0     37214  Residential   \n",
       "1        2      2022-02-22        1        0     37209  Residential   \n",
       "2        3      2022-01-15        1        1     37217  Residential   \n",
       "3        4      2022-02-17        0        0     37215  Residential   \n",
       "4        5      2022-02-06        0        0     37211  Residential   \n",
       "\n",
       "          experiment_group grp_code  orders_placed  avg_order_value  \\\n",
       "0   variant 2 (VC $10 min)       v2              1           141.89   \n",
       "1  control (no VC $35 min)       c0              1            71.15   \n",
       "2  control (no VC $35 min)       c0              6           189.84   \n",
       "3   variant 1 (VC $35 min)       v1              0             0.00   \n",
       "4   variant 2 (VC $10 min)       v2              1            58.21   \n",
       "\n",
       "   total_spend  \n",
       "0       141.89  \n",
       "1        71.15  \n",
       "2      1139.07  \n",
       "3         0.00  \n",
       "4        58.21  "
      ]
     },
     "execution_count": 3,
     "metadata": {},
     "output_type": "execute_result"
    }
   ],
   "source": [
    "df.head()"
   ]
  },
  {
   "cell_type": "code",
   "execution_count": 4,
   "id": "9750390b-1701-4753-b82f-70d1d8a566c3",
   "metadata": {},
   "outputs": [
    {
     "data": {
      "text/plain": [
       "100000"
      ]
     },
     "execution_count": 4,
     "metadata": {},
     "output_type": "execute_result"
    }
   ],
   "source": [
    "len(df)"
   ]
  },
  {
   "cell_type": "code",
   "execution_count": 5,
   "id": "5c6cdf06-3780-4fd5-897e-2733d4cbc1f1",
   "metadata": {},
   "outputs": [
    {
     "data": {
      "text/plain": [
       "user_id             0\n",
       "assignment_date     0\n",
       "express             0\n",
       "loyalty             0\n",
       "zip_code            0\n",
       "address_type        0\n",
       "experiment_group    0\n",
       "grp_code            0\n",
       "orders_placed       0\n",
       "avg_order_value     0\n",
       "total_spend         0\n",
       "dtype: int64"
      ]
     },
     "execution_count": 5,
     "metadata": {},
     "output_type": "execute_result"
    }
   ],
   "source": [
    "df.isnull().sum()"
   ]
  },
  {
   "cell_type": "code",
   "execution_count": 6,
   "id": "b55b5507-9033-40bf-b20a-c6fe5e3ae07a",
   "metadata": {},
   "outputs": [
    {
     "data": {
      "text/plain": [
       "Index(['user_id', 'assignment_date', 'express', 'loyalty', 'zip_code',\n",
       "       'address_type', 'experiment_group', 'grp_code', 'orders_placed',\n",
       "       'avg_order_value', 'total_spend'],\n",
       "      dtype='object')"
      ]
     },
     "execution_count": 6,
     "metadata": {},
     "output_type": "execute_result"
    }
   ],
   "source": [
    "df.columns"
   ]
  },
  {
   "cell_type": "code",
   "execution_count": 7,
   "id": "858b0e6c-d912-4e9a-9da4-5a08a945c0b8",
   "metadata": {},
   "outputs": [
    {
     "data": {
      "text/plain": [
       "array([     1,      2,      3, ...,  99998,  99999, 100000], dtype=int64)"
      ]
     },
     "execution_count": 7,
     "metadata": {},
     "output_type": "execute_result"
    }
   ],
   "source": [
    "df['user_id'].unique()"
   ]
  },
  {
   "cell_type": "code",
   "execution_count": 8,
   "id": "728aacd6-0d7b-4ce1-b480-384a4a08a94f",
   "metadata": {},
   "outputs": [
    {
     "data": {
      "text/plain": [
       "<DatetimeArray>\n",
       "['2022-01-18 00:00:00', '2022-02-22 00:00:00', '2022-01-15 00:00:00',\n",
       " '2022-02-17 00:00:00', '2022-02-06 00:00:00', '2022-02-26 00:00:00',\n",
       " '2022-01-28 00:00:00', '2022-02-01 00:00:00', '2022-02-16 00:00:00',\n",
       " '2022-02-04 00:00:00', '2022-02-25 00:00:00', '2022-03-01 00:00:00',\n",
       " '2022-01-24 00:00:00', '2022-01-21 00:00:00', '2022-01-23 00:00:00',\n",
       " '2022-01-29 00:00:00', '2022-02-20 00:00:00', '2022-02-24 00:00:00',\n",
       " '2022-02-08 00:00:00', '2022-02-27 00:00:00', '2022-02-03 00:00:00',\n",
       " '2022-02-18 00:00:00', '2022-01-20 00:00:00', '2022-02-21 00:00:00',\n",
       " '2022-02-11 00:00:00', '2022-02-23 00:00:00', '2022-02-07 00:00:00',\n",
       " '2022-02-15 00:00:00', '2022-01-16 00:00:00', '2022-02-28 00:00:00',\n",
       " '2022-02-05 00:00:00', '2022-01-25 00:00:00', '2022-01-31 00:00:00',\n",
       " '2022-02-19 00:00:00', '2022-01-27 00:00:00', '2022-02-12 00:00:00',\n",
       " '2022-02-14 00:00:00', '2022-02-02 00:00:00', '2022-02-09 00:00:00',\n",
       " '2022-02-13 00:00:00', '2022-01-26 00:00:00', '2022-01-17 00:00:00',\n",
       " '2022-02-10 00:00:00', '2022-01-30 00:00:00', '2022-01-19 00:00:00',\n",
       " '2022-01-22 00:00:00']\n",
       "Length: 46, dtype: datetime64[ns]"
      ]
     },
     "execution_count": 8,
     "metadata": {},
     "output_type": "execute_result"
    }
   ],
   "source": [
    "df['assignment_date'].unique()"
   ]
  },
  {
   "cell_type": "code",
   "execution_count": 9,
   "id": "cad2d00d-a7b3-4a3a-a2ac-7f7dcdc094ad",
   "metadata": {},
   "outputs": [
    {
     "data": {
      "text/plain": [
       "express\n",
       "0    50627\n",
       "1    49373\n",
       "Name: count, dtype: int64"
      ]
     },
     "execution_count": 9,
     "metadata": {},
     "output_type": "execute_result"
    }
   ],
   "source": [
    "df['express'].value_counts()"
   ]
  },
  {
   "cell_type": "code",
   "execution_count": 10,
   "id": "2f3cd9a1-dcee-4846-bff4-2c2d598e9f29",
   "metadata": {},
   "outputs": [
    {
     "data": {
      "text/plain": [
       "loyalty\n",
       "0    82989\n",
       "1    17011\n",
       "Name: count, dtype: int64"
      ]
     },
     "execution_count": 10,
     "metadata": {},
     "output_type": "execute_result"
    }
   ],
   "source": [
    "df['loyalty'].value_counts()"
   ]
  },
  {
   "cell_type": "code",
   "execution_count": 11,
   "id": "30eca382-e5dc-4ac0-be93-ad4cfdc77835",
   "metadata": {},
   "outputs": [
    {
     "data": {
      "text/plain": [
       "zip_code\n",
       "37211    17543\n",
       "37221     8519\n",
       "37209     8233\n",
       "37207     8177\n",
       "37217     6872\n",
       "37214     6560\n",
       "37206     5958\n",
       "37205     5590\n",
       "37215     4931\n",
       "37212     4693\n",
       "37216     4089\n",
       "37210     3707\n",
       "37208     3644\n",
       "37218     3384\n",
       "37204     2822\n",
       "37203     2726\n",
       "37220     1338\n",
       "37201      498\n",
       "37228      243\n",
       "37219      238\n",
       "37240      176\n",
       "37213       59\n",
       "Name: count, dtype: int64"
      ]
     },
     "execution_count": 11,
     "metadata": {},
     "output_type": "execute_result"
    }
   ],
   "source": [
    "df['zip_code'].value_counts()"
   ]
  },
  {
   "cell_type": "code",
   "execution_count": 12,
   "id": "1c53588e-7831-4ff7-9d3d-c5aabc190d87",
   "metadata": {},
   "outputs": [
    {
     "data": {
      "text/plain": [
       "address_type\n",
       "Residential    92000\n",
       "Business        8000\n",
       "Name: count, dtype: int64"
      ]
     },
     "execution_count": 12,
     "metadata": {},
     "output_type": "execute_result"
    }
   ],
   "source": [
    "df['address_type'].value_counts()"
   ]
  },
  {
   "cell_type": "code",
   "execution_count": 13,
   "id": "9028602d-4e04-4da2-9810-bac00a158776",
   "metadata": {},
   "outputs": [
    {
     "data": {
      "text/plain": [
       "experiment_group\n",
       "control (no VC $35 min)    49715\n",
       "variant 2 (VC $10 min)     25151\n",
       "variant 1 (VC $35 min)     25134\n",
       "Name: count, dtype: int64"
      ]
     },
     "execution_count": 13,
     "metadata": {},
     "output_type": "execute_result"
    }
   ],
   "source": [
    "df['experiment_group'].value_counts()"
   ]
  },
  {
   "cell_type": "code",
   "execution_count": 14,
   "id": "7a368271-520e-498e-8726-c73b6baf9472",
   "metadata": {},
   "outputs": [
    {
     "data": {
      "text/plain": [
       "grp_code\n",
       "c0    49715\n",
       "v2    25151\n",
       "v1    25134\n",
       "Name: count, dtype: int64"
      ]
     },
     "execution_count": 14,
     "metadata": {},
     "output_type": "execute_result"
    }
   ],
   "source": [
    "df['grp_code'].value_counts()"
   ]
  },
  {
   "cell_type": "code",
   "execution_count": 15,
   "id": "26791d5a-b355-4e43-a4ed-5826f93c664d",
   "metadata": {},
   "outputs": [
    {
     "data": {
      "text/plain": [
       "orders_placed\n",
       "0     35399\n",
       "1     25858\n",
       "2     16772\n",
       "3     10204\n",
       "4      5815\n",
       "5      3132\n",
       "6      1551\n",
       "7       759\n",
       "8       312\n",
       "9       115\n",
       "10       51\n",
       "11       19\n",
       "12       12\n",
       "13        1\n",
       "Name: count, dtype: int64"
      ]
     },
     "execution_count": 15,
     "metadata": {},
     "output_type": "execute_result"
    }
   ],
   "source": [
    "df['orders_placed'].value_counts()"
   ]
  },
  {
   "cell_type": "code",
   "execution_count": 16,
   "id": "25c09664-4cb0-4eec-8f0c-da3b4436f747",
   "metadata": {},
   "outputs": [
    {
     "data": {
      "text/plain": [
       "avg_order_value\n",
       "0.00      35399\n",
       "127.71       13\n",
       "101.34       13\n",
       "130.84       13\n",
       "99.90        12\n",
       "          ...  \n",
       "292.43        1\n",
       "189.83        1\n",
       "225.22        1\n",
       "203.65        1\n",
       "300.83        1\n",
       "Name: count, Length: 22885, dtype: int64"
      ]
     },
     "execution_count": 16,
     "metadata": {},
     "output_type": "execute_result"
    }
   ],
   "source": [
    "df['avg_order_value'].value_counts()"
   ]
  },
  {
   "cell_type": "code",
   "execution_count": 17,
   "id": "8a810474-55cb-4bdb-91b4-913f9b1a08a5",
   "metadata": {},
   "outputs": [
    {
     "data": {
      "text/plain": [
       "total_spend\n",
       "0.00      35399\n",
       "102.68       12\n",
       "89.94         9\n",
       "165.39        9\n",
       "156.34        9\n",
       "          ...  \n",
       "718.12        1\n",
       "147.39        1\n",
       "750.27        1\n",
       "18.22         1\n",
       "856.31        1\n",
       "Name: count, Length: 38946, dtype: int64"
      ]
     },
     "execution_count": 17,
     "metadata": {},
     "output_type": "execute_result"
    }
   ],
   "source": [
    "df['total_spend'].value_counts()"
   ]
  },
  {
   "cell_type": "code",
   "execution_count": 18,
   "id": "6034c827-4100-415d-9c04-873771f19652",
   "metadata": {},
   "outputs": [
    {
     "data": {
      "text/plain": [
       "experiment_group\n",
       "control (no VC $35 min)    49715\n",
       "variant 2 (VC $10 min)     25151\n",
       "variant 1 (VC $35 min)     25134\n",
       "Name: count, dtype: int64"
      ]
     },
     "execution_count": 18,
     "metadata": {},
     "output_type": "execute_result"
    }
   ],
   "source": [
    "df['experiment_group'].value_counts()"
   ]
  },
  {
   "cell_type": "code",
   "execution_count": 20,
   "id": "1d319c7b-5b42-404b-afe7-65ac99714cb4",
   "metadata": {},
   "outputs": [],
   "source": [
    "control_o_the_control_group = df[df['experiment_group']==\"control (no VC $35 min)\"]"
   ]
  },
  {
   "cell_type": "code",
   "execution_count": 54,
   "id": "732731a7-a5b0-40c0-bffb-753949c0bc7a",
   "metadata": {
    "scrolled": true
   },
   "outputs": [
    {
     "data": {
      "text/html": [
       "<div>\n",
       "<style scoped>\n",
       "    .dataframe tbody tr th:only-of-type {\n",
       "        vertical-align: middle;\n",
       "    }\n",
       "\n",
       "    .dataframe tbody tr th {\n",
       "        vertical-align: top;\n",
       "    }\n",
       "\n",
       "    .dataframe thead th {\n",
       "        text-align: right;\n",
       "    }\n",
       "</style>\n",
       "<table border=\"1\" class=\"dataframe\">\n",
       "  <thead>\n",
       "    <tr style=\"text-align: right;\">\n",
       "      <th></th>\n",
       "      <th>user_id</th>\n",
       "      <th>assignment_date</th>\n",
       "      <th>express</th>\n",
       "      <th>loyalty</th>\n",
       "      <th>zip_code</th>\n",
       "      <th>address_type</th>\n",
       "      <th>experiment_group</th>\n",
       "      <th>grp_code</th>\n",
       "      <th>orders_placed</th>\n",
       "      <th>avg_order_value</th>\n",
       "      <th>total_spend</th>\n",
       "    </tr>\n",
       "  </thead>\n",
       "  <tbody>\n",
       "    <tr>\n",
       "      <th>1</th>\n",
       "      <td>2</td>\n",
       "      <td>2022-02-22</td>\n",
       "      <td>1</td>\n",
       "      <td>0</td>\n",
       "      <td>37209</td>\n",
       "      <td>Residential</td>\n",
       "      <td>control (no VC $35 min)</td>\n",
       "      <td>c0</td>\n",
       "      <td>1</td>\n",
       "      <td>71.15</td>\n",
       "      <td>71.15</td>\n",
       "    </tr>\n",
       "    <tr>\n",
       "      <th>2</th>\n",
       "      <td>3</td>\n",
       "      <td>2022-01-15</td>\n",
       "      <td>1</td>\n",
       "      <td>1</td>\n",
       "      <td>37217</td>\n",
       "      <td>Residential</td>\n",
       "      <td>control (no VC $35 min)</td>\n",
       "      <td>c0</td>\n",
       "      <td>6</td>\n",
       "      <td>189.84</td>\n",
       "      <td>1139.07</td>\n",
       "    </tr>\n",
       "    <tr>\n",
       "      <th>5</th>\n",
       "      <td>6</td>\n",
       "      <td>2022-02-26</td>\n",
       "      <td>1</td>\n",
       "      <td>0</td>\n",
       "      <td>37221</td>\n",
       "      <td>Business</td>\n",
       "      <td>control (no VC $35 min)</td>\n",
       "      <td>c0</td>\n",
       "      <td>0</td>\n",
       "      <td>0.00</td>\n",
       "      <td>0.00</td>\n",
       "    </tr>\n",
       "    <tr>\n",
       "      <th>8</th>\n",
       "      <td>9</td>\n",
       "      <td>2022-02-16</td>\n",
       "      <td>0</td>\n",
       "      <td>1</td>\n",
       "      <td>37206</td>\n",
       "      <td>Residential</td>\n",
       "      <td>control (no VC $35 min)</td>\n",
       "      <td>c0</td>\n",
       "      <td>0</td>\n",
       "      <td>0.00</td>\n",
       "      <td>0.00</td>\n",
       "    </tr>\n",
       "    <tr>\n",
       "      <th>9</th>\n",
       "      <td>10</td>\n",
       "      <td>2022-02-04</td>\n",
       "      <td>0</td>\n",
       "      <td>0</td>\n",
       "      <td>37217</td>\n",
       "      <td>Residential</td>\n",
       "      <td>control (no VC $35 min)</td>\n",
       "      <td>c0</td>\n",
       "      <td>2</td>\n",
       "      <td>61.01</td>\n",
       "      <td>122.02</td>\n",
       "    </tr>\n",
       "  </tbody>\n",
       "</table>\n",
       "</div>"
      ],
      "text/plain": [
       "   user_id assignment_date  express  loyalty  zip_code address_type  \\\n",
       "1        2      2022-02-22        1        0     37209  Residential   \n",
       "2        3      2022-01-15        1        1     37217  Residential   \n",
       "5        6      2022-02-26        1        0     37221     Business   \n",
       "8        9      2022-02-16        0        1     37206  Residential   \n",
       "9       10      2022-02-04        0        0     37217  Residential   \n",
       "\n",
       "          experiment_group grp_code  orders_placed  avg_order_value  \\\n",
       "1  control (no VC $35 min)       c0              1            71.15   \n",
       "2  control (no VC $35 min)       c0              6           189.84   \n",
       "5  control (no VC $35 min)       c0              0             0.00   \n",
       "8  control (no VC $35 min)       c0              0             0.00   \n",
       "9  control (no VC $35 min)       c0              2            61.01   \n",
       "\n",
       "   total_spend  \n",
       "1        71.15  \n",
       "2      1139.07  \n",
       "5         0.00  \n",
       "8         0.00  \n",
       "9       122.02  "
      ]
     },
     "execution_count": 54,
     "metadata": {},
     "output_type": "execute_result"
    }
   ],
   "source": [
    "control_o_the_control_group.head()"
   ]
  },
  {
   "cell_type": "code",
   "execution_count": 83,
   "id": "ddec4251-c1be-41c6-be9b-7e9506947958",
   "metadata": {},
   "outputs": [],
   "source": [
    "control_o_the_control_group_express_0 = control_o_the_control_group[control_o_the_control_group[\"express\"]== 0]"
   ]
  },
  {
   "cell_type": "code",
   "execution_count": 84,
   "id": "d74dc6a9-52f1-442e-bb77-6b6cf9581e16",
   "metadata": {},
   "outputs": [
    {
     "data": {
      "text/html": [
       "<div>\n",
       "<style scoped>\n",
       "    .dataframe tbody tr th:only-of-type {\n",
       "        vertical-align: middle;\n",
       "    }\n",
       "\n",
       "    .dataframe tbody tr th {\n",
       "        vertical-align: top;\n",
       "    }\n",
       "\n",
       "    .dataframe thead th {\n",
       "        text-align: right;\n",
       "    }\n",
       "</style>\n",
       "<table border=\"1\" class=\"dataframe\">\n",
       "  <thead>\n",
       "    <tr style=\"text-align: right;\">\n",
       "      <th></th>\n",
       "      <th>user_id</th>\n",
       "      <th>assignment_date</th>\n",
       "      <th>express</th>\n",
       "      <th>loyalty</th>\n",
       "      <th>zip_code</th>\n",
       "      <th>address_type</th>\n",
       "      <th>experiment_group</th>\n",
       "      <th>grp_code</th>\n",
       "      <th>orders_placed</th>\n",
       "      <th>avg_order_value</th>\n",
       "      <th>total_spend</th>\n",
       "    </tr>\n",
       "  </thead>\n",
       "  <tbody>\n",
       "    <tr>\n",
       "      <th>8</th>\n",
       "      <td>9</td>\n",
       "      <td>2022-02-16</td>\n",
       "      <td>0</td>\n",
       "      <td>1</td>\n",
       "      <td>37206</td>\n",
       "      <td>Residential</td>\n",
       "      <td>control (no VC $35 min)</td>\n",
       "      <td>c0</td>\n",
       "      <td>0</td>\n",
       "      <td>0.00</td>\n",
       "      <td>0.00</td>\n",
       "    </tr>\n",
       "    <tr>\n",
       "      <th>9</th>\n",
       "      <td>10</td>\n",
       "      <td>2022-02-04</td>\n",
       "      <td>0</td>\n",
       "      <td>0</td>\n",
       "      <td>37217</td>\n",
       "      <td>Residential</td>\n",
       "      <td>control (no VC $35 min)</td>\n",
       "      <td>c0</td>\n",
       "      <td>2</td>\n",
       "      <td>61.01</td>\n",
       "      <td>122.02</td>\n",
       "    </tr>\n",
       "    <tr>\n",
       "      <th>10</th>\n",
       "      <td>11</td>\n",
       "      <td>2022-02-04</td>\n",
       "      <td>0</td>\n",
       "      <td>0</td>\n",
       "      <td>37205</td>\n",
       "      <td>Residential</td>\n",
       "      <td>control (no VC $35 min)</td>\n",
       "      <td>c0</td>\n",
       "      <td>2</td>\n",
       "      <td>142.12</td>\n",
       "      <td>284.24</td>\n",
       "    </tr>\n",
       "    <tr>\n",
       "      <th>14</th>\n",
       "      <td>15</td>\n",
       "      <td>2022-01-21</td>\n",
       "      <td>0</td>\n",
       "      <td>0</td>\n",
       "      <td>37207</td>\n",
       "      <td>Residential</td>\n",
       "      <td>control (no VC $35 min)</td>\n",
       "      <td>c0</td>\n",
       "      <td>1</td>\n",
       "      <td>116.22</td>\n",
       "      <td>116.22</td>\n",
       "    </tr>\n",
       "    <tr>\n",
       "      <th>24</th>\n",
       "      <td>25</td>\n",
       "      <td>2022-02-17</td>\n",
       "      <td>0</td>\n",
       "      <td>0</td>\n",
       "      <td>37207</td>\n",
       "      <td>Residential</td>\n",
       "      <td>control (no VC $35 min)</td>\n",
       "      <td>c0</td>\n",
       "      <td>0</td>\n",
       "      <td>0.00</td>\n",
       "      <td>0.00</td>\n",
       "    </tr>\n",
       "  </tbody>\n",
       "</table>\n",
       "</div>"
      ],
      "text/plain": [
       "    user_id assignment_date  express  loyalty  zip_code address_type  \\\n",
       "8         9      2022-02-16        0        1     37206  Residential   \n",
       "9        10      2022-02-04        0        0     37217  Residential   \n",
       "10       11      2022-02-04        0        0     37205  Residential   \n",
       "14       15      2022-01-21        0        0     37207  Residential   \n",
       "24       25      2022-02-17        0        0     37207  Residential   \n",
       "\n",
       "           experiment_group grp_code  orders_placed  avg_order_value  \\\n",
       "8   control (no VC $35 min)       c0              0             0.00   \n",
       "9   control (no VC $35 min)       c0              2            61.01   \n",
       "10  control (no VC $35 min)       c0              2           142.12   \n",
       "14  control (no VC $35 min)       c0              1           116.22   \n",
       "24  control (no VC $35 min)       c0              0             0.00   \n",
       "\n",
       "    total_spend  \n",
       "8          0.00  \n",
       "9        122.02  \n",
       "10       284.24  \n",
       "14       116.22  \n",
       "24         0.00  "
      ]
     },
     "execution_count": 84,
     "metadata": {},
     "output_type": "execute_result"
    }
   ],
   "source": [
    "control_o_the_control_group_express_0.head()"
   ]
  },
  {
   "cell_type": "code",
   "execution_count": 85,
   "id": "acfed47d-f742-447f-a59f-d40f3f36ba37",
   "metadata": {},
   "outputs": [],
   "source": [
    "control_o_the_control_group_express_1 = control_o_the_control_group[control_o_the_control_group[\"express\"]== 1]"
   ]
  },
  {
   "cell_type": "code",
   "execution_count": 86,
   "id": "f56915f9-643f-4dcd-beaf-8b4a60a27bea",
   "metadata": {},
   "outputs": [
    {
     "data": {
      "text/html": [
       "<div>\n",
       "<style scoped>\n",
       "    .dataframe tbody tr th:only-of-type {\n",
       "        vertical-align: middle;\n",
       "    }\n",
       "\n",
       "    .dataframe tbody tr th {\n",
       "        vertical-align: top;\n",
       "    }\n",
       "\n",
       "    .dataframe thead th {\n",
       "        text-align: right;\n",
       "    }\n",
       "</style>\n",
       "<table border=\"1\" class=\"dataframe\">\n",
       "  <thead>\n",
       "    <tr style=\"text-align: right;\">\n",
       "      <th></th>\n",
       "      <th>user_id</th>\n",
       "      <th>assignment_date</th>\n",
       "      <th>express</th>\n",
       "      <th>loyalty</th>\n",
       "      <th>zip_code</th>\n",
       "      <th>address_type</th>\n",
       "      <th>experiment_group</th>\n",
       "      <th>grp_code</th>\n",
       "      <th>orders_placed</th>\n",
       "      <th>avg_order_value</th>\n",
       "      <th>total_spend</th>\n",
       "    </tr>\n",
       "  </thead>\n",
       "  <tbody>\n",
       "    <tr>\n",
       "      <th>1</th>\n",
       "      <td>2</td>\n",
       "      <td>2022-02-22</td>\n",
       "      <td>1</td>\n",
       "      <td>0</td>\n",
       "      <td>37209</td>\n",
       "      <td>Residential</td>\n",
       "      <td>control (no VC $35 min)</td>\n",
       "      <td>c0</td>\n",
       "      <td>1</td>\n",
       "      <td>71.15</td>\n",
       "      <td>71.15</td>\n",
       "    </tr>\n",
       "    <tr>\n",
       "      <th>2</th>\n",
       "      <td>3</td>\n",
       "      <td>2022-01-15</td>\n",
       "      <td>1</td>\n",
       "      <td>1</td>\n",
       "      <td>37217</td>\n",
       "      <td>Residential</td>\n",
       "      <td>control (no VC $35 min)</td>\n",
       "      <td>c0</td>\n",
       "      <td>6</td>\n",
       "      <td>189.84</td>\n",
       "      <td>1139.07</td>\n",
       "    </tr>\n",
       "    <tr>\n",
       "      <th>5</th>\n",
       "      <td>6</td>\n",
       "      <td>2022-02-26</td>\n",
       "      <td>1</td>\n",
       "      <td>0</td>\n",
       "      <td>37221</td>\n",
       "      <td>Business</td>\n",
       "      <td>control (no VC $35 min)</td>\n",
       "      <td>c0</td>\n",
       "      <td>0</td>\n",
       "      <td>0.00</td>\n",
       "      <td>0.00</td>\n",
       "    </tr>\n",
       "    <tr>\n",
       "      <th>11</th>\n",
       "      <td>12</td>\n",
       "      <td>2022-02-25</td>\n",
       "      <td>1</td>\n",
       "      <td>0</td>\n",
       "      <td>37206</td>\n",
       "      <td>Residential</td>\n",
       "      <td>control (no VC $35 min)</td>\n",
       "      <td>c0</td>\n",
       "      <td>0</td>\n",
       "      <td>0.00</td>\n",
       "      <td>0.00</td>\n",
       "    </tr>\n",
       "    <tr>\n",
       "      <th>13</th>\n",
       "      <td>14</td>\n",
       "      <td>2022-01-24</td>\n",
       "      <td>1</td>\n",
       "      <td>0</td>\n",
       "      <td>37206</td>\n",
       "      <td>Residential</td>\n",
       "      <td>control (no VC $35 min)</td>\n",
       "      <td>c0</td>\n",
       "      <td>2</td>\n",
       "      <td>179.34</td>\n",
       "      <td>358.68</td>\n",
       "    </tr>\n",
       "  </tbody>\n",
       "</table>\n",
       "</div>"
      ],
      "text/plain": [
       "    user_id assignment_date  express  loyalty  zip_code address_type  \\\n",
       "1         2      2022-02-22        1        0     37209  Residential   \n",
       "2         3      2022-01-15        1        1     37217  Residential   \n",
       "5         6      2022-02-26        1        0     37221     Business   \n",
       "11       12      2022-02-25        1        0     37206  Residential   \n",
       "13       14      2022-01-24        1        0     37206  Residential   \n",
       "\n",
       "           experiment_group grp_code  orders_placed  avg_order_value  \\\n",
       "1   control (no VC $35 min)       c0              1            71.15   \n",
       "2   control (no VC $35 min)       c0              6           189.84   \n",
       "5   control (no VC $35 min)       c0              0             0.00   \n",
       "11  control (no VC $35 min)       c0              0             0.00   \n",
       "13  control (no VC $35 min)       c0              2           179.34   \n",
       "\n",
       "    total_spend  \n",
       "1         71.15  \n",
       "2       1139.07  \n",
       "5          0.00  \n",
       "11         0.00  \n",
       "13       358.68  "
      ]
     },
     "execution_count": 86,
     "metadata": {},
     "output_type": "execute_result"
    }
   ],
   "source": [
    "control_o_the_control_group_express_1.head()"
   ]
  },
  {
   "cell_type": "code",
   "execution_count": 87,
   "id": "3715f34f-5c68-4e59-816f-df420c2ba54c",
   "metadata": {},
   "outputs": [],
   "source": [
    "control_o_the_control_group_loyalty_0 = control_o_the_control_group[control_o_the_control_group[\"loyalty\"]==0]"
   ]
  },
  {
   "cell_type": "code",
   "execution_count": 88,
   "id": "869f3503-48ef-4b7e-be73-af12b2a5d870",
   "metadata": {
    "scrolled": true
   },
   "outputs": [
    {
     "data": {
      "text/html": [
       "<div>\n",
       "<style scoped>\n",
       "    .dataframe tbody tr th:only-of-type {\n",
       "        vertical-align: middle;\n",
       "    }\n",
       "\n",
       "    .dataframe tbody tr th {\n",
       "        vertical-align: top;\n",
       "    }\n",
       "\n",
       "    .dataframe thead th {\n",
       "        text-align: right;\n",
       "    }\n",
       "</style>\n",
       "<table border=\"1\" class=\"dataframe\">\n",
       "  <thead>\n",
       "    <tr style=\"text-align: right;\">\n",
       "      <th></th>\n",
       "      <th>user_id</th>\n",
       "      <th>assignment_date</th>\n",
       "      <th>express</th>\n",
       "      <th>loyalty</th>\n",
       "      <th>zip_code</th>\n",
       "      <th>address_type</th>\n",
       "      <th>experiment_group</th>\n",
       "      <th>grp_code</th>\n",
       "      <th>orders_placed</th>\n",
       "      <th>avg_order_value</th>\n",
       "      <th>total_spend</th>\n",
       "    </tr>\n",
       "  </thead>\n",
       "  <tbody>\n",
       "    <tr>\n",
       "      <th>1</th>\n",
       "      <td>2</td>\n",
       "      <td>2022-02-22</td>\n",
       "      <td>1</td>\n",
       "      <td>0</td>\n",
       "      <td>37209</td>\n",
       "      <td>Residential</td>\n",
       "      <td>control (no VC $35 min)</td>\n",
       "      <td>c0</td>\n",
       "      <td>1</td>\n",
       "      <td>71.15</td>\n",
       "      <td>71.15</td>\n",
       "    </tr>\n",
       "    <tr>\n",
       "      <th>5</th>\n",
       "      <td>6</td>\n",
       "      <td>2022-02-26</td>\n",
       "      <td>1</td>\n",
       "      <td>0</td>\n",
       "      <td>37221</td>\n",
       "      <td>Business</td>\n",
       "      <td>control (no VC $35 min)</td>\n",
       "      <td>c0</td>\n",
       "      <td>0</td>\n",
       "      <td>0.00</td>\n",
       "      <td>0.00</td>\n",
       "    </tr>\n",
       "    <tr>\n",
       "      <th>9</th>\n",
       "      <td>10</td>\n",
       "      <td>2022-02-04</td>\n",
       "      <td>0</td>\n",
       "      <td>0</td>\n",
       "      <td>37217</td>\n",
       "      <td>Residential</td>\n",
       "      <td>control (no VC $35 min)</td>\n",
       "      <td>c0</td>\n",
       "      <td>2</td>\n",
       "      <td>61.01</td>\n",
       "      <td>122.02</td>\n",
       "    </tr>\n",
       "    <tr>\n",
       "      <th>10</th>\n",
       "      <td>11</td>\n",
       "      <td>2022-02-04</td>\n",
       "      <td>0</td>\n",
       "      <td>0</td>\n",
       "      <td>37205</td>\n",
       "      <td>Residential</td>\n",
       "      <td>control (no VC $35 min)</td>\n",
       "      <td>c0</td>\n",
       "      <td>2</td>\n",
       "      <td>142.12</td>\n",
       "      <td>284.24</td>\n",
       "    </tr>\n",
       "    <tr>\n",
       "      <th>11</th>\n",
       "      <td>12</td>\n",
       "      <td>2022-02-25</td>\n",
       "      <td>1</td>\n",
       "      <td>0</td>\n",
       "      <td>37206</td>\n",
       "      <td>Residential</td>\n",
       "      <td>control (no VC $35 min)</td>\n",
       "      <td>c0</td>\n",
       "      <td>0</td>\n",
       "      <td>0.00</td>\n",
       "      <td>0.00</td>\n",
       "    </tr>\n",
       "  </tbody>\n",
       "</table>\n",
       "</div>"
      ],
      "text/plain": [
       "    user_id assignment_date  express  loyalty  zip_code address_type  \\\n",
       "1         2      2022-02-22        1        0     37209  Residential   \n",
       "5         6      2022-02-26        1        0     37221     Business   \n",
       "9        10      2022-02-04        0        0     37217  Residential   \n",
       "10       11      2022-02-04        0        0     37205  Residential   \n",
       "11       12      2022-02-25        1        0     37206  Residential   \n",
       "\n",
       "           experiment_group grp_code  orders_placed  avg_order_value  \\\n",
       "1   control (no VC $35 min)       c0              1            71.15   \n",
       "5   control (no VC $35 min)       c0              0             0.00   \n",
       "9   control (no VC $35 min)       c0              2            61.01   \n",
       "10  control (no VC $35 min)       c0              2           142.12   \n",
       "11  control (no VC $35 min)       c0              0             0.00   \n",
       "\n",
       "    total_spend  \n",
       "1         71.15  \n",
       "5          0.00  \n",
       "9        122.02  \n",
       "10       284.24  \n",
       "11         0.00  "
      ]
     },
     "execution_count": 88,
     "metadata": {},
     "output_type": "execute_result"
    }
   ],
   "source": [
    "control_o_the_control_group_loyalty_0.head()"
   ]
  },
  {
   "cell_type": "code",
   "execution_count": 89,
   "id": "26e11918-fbbc-4a22-9212-c9a488374829",
   "metadata": {},
   "outputs": [],
   "source": [
    "control_o_the_control_group_loyalty_1 = control_o_the_control_group[control_o_the_control_group[\"loyalty\"]==1]"
   ]
  },
  {
   "cell_type": "code",
   "execution_count": 90,
   "id": "f1f64023-2d1a-49fe-8238-5b6b91da4ee5",
   "metadata": {},
   "outputs": [
    {
     "data": {
      "text/html": [
       "<div>\n",
       "<style scoped>\n",
       "    .dataframe tbody tr th:only-of-type {\n",
       "        vertical-align: middle;\n",
       "    }\n",
       "\n",
       "    .dataframe tbody tr th {\n",
       "        vertical-align: top;\n",
       "    }\n",
       "\n",
       "    .dataframe thead th {\n",
       "        text-align: right;\n",
       "    }\n",
       "</style>\n",
       "<table border=\"1\" class=\"dataframe\">\n",
       "  <thead>\n",
       "    <tr style=\"text-align: right;\">\n",
       "      <th></th>\n",
       "      <th>user_id</th>\n",
       "      <th>assignment_date</th>\n",
       "      <th>express</th>\n",
       "      <th>loyalty</th>\n",
       "      <th>zip_code</th>\n",
       "      <th>address_type</th>\n",
       "      <th>experiment_group</th>\n",
       "      <th>grp_code</th>\n",
       "      <th>orders_placed</th>\n",
       "      <th>avg_order_value</th>\n",
       "      <th>total_spend</th>\n",
       "    </tr>\n",
       "  </thead>\n",
       "  <tbody>\n",
       "    <tr>\n",
       "      <th>2</th>\n",
       "      <td>3</td>\n",
       "      <td>2022-01-15</td>\n",
       "      <td>1</td>\n",
       "      <td>1</td>\n",
       "      <td>37217</td>\n",
       "      <td>Residential</td>\n",
       "      <td>control (no VC $35 min)</td>\n",
       "      <td>c0</td>\n",
       "      <td>6</td>\n",
       "      <td>189.84</td>\n",
       "      <td>1139.07</td>\n",
       "    </tr>\n",
       "    <tr>\n",
       "      <th>8</th>\n",
       "      <td>9</td>\n",
       "      <td>2022-02-16</td>\n",
       "      <td>0</td>\n",
       "      <td>1</td>\n",
       "      <td>37206</td>\n",
       "      <td>Residential</td>\n",
       "      <td>control (no VC $35 min)</td>\n",
       "      <td>c0</td>\n",
       "      <td>0</td>\n",
       "      <td>0.00</td>\n",
       "      <td>0.00</td>\n",
       "    </tr>\n",
       "    <tr>\n",
       "      <th>17</th>\n",
       "      <td>18</td>\n",
       "      <td>2022-02-04</td>\n",
       "      <td>1</td>\n",
       "      <td>1</td>\n",
       "      <td>37209</td>\n",
       "      <td>Residential</td>\n",
       "      <td>control (no VC $35 min)</td>\n",
       "      <td>c0</td>\n",
       "      <td>3</td>\n",
       "      <td>166.98</td>\n",
       "      <td>500.93</td>\n",
       "    </tr>\n",
       "    <tr>\n",
       "      <th>19</th>\n",
       "      <td>20</td>\n",
       "      <td>2022-02-24</td>\n",
       "      <td>1</td>\n",
       "      <td>1</td>\n",
       "      <td>37208</td>\n",
       "      <td>Residential</td>\n",
       "      <td>control (no VC $35 min)</td>\n",
       "      <td>c0</td>\n",
       "      <td>1</td>\n",
       "      <td>145.30</td>\n",
       "      <td>145.30</td>\n",
       "    </tr>\n",
       "    <tr>\n",
       "      <th>27</th>\n",
       "      <td>28</td>\n",
       "      <td>2022-02-27</td>\n",
       "      <td>0</td>\n",
       "      <td>1</td>\n",
       "      <td>37221</td>\n",
       "      <td>Residential</td>\n",
       "      <td>control (no VC $35 min)</td>\n",
       "      <td>c0</td>\n",
       "      <td>0</td>\n",
       "      <td>0.00</td>\n",
       "      <td>0.00</td>\n",
       "    </tr>\n",
       "  </tbody>\n",
       "</table>\n",
       "</div>"
      ],
      "text/plain": [
       "    user_id assignment_date  express  loyalty  zip_code address_type  \\\n",
       "2         3      2022-01-15        1        1     37217  Residential   \n",
       "8         9      2022-02-16        0        1     37206  Residential   \n",
       "17       18      2022-02-04        1        1     37209  Residential   \n",
       "19       20      2022-02-24        1        1     37208  Residential   \n",
       "27       28      2022-02-27        0        1     37221  Residential   \n",
       "\n",
       "           experiment_group grp_code  orders_placed  avg_order_value  \\\n",
       "2   control (no VC $35 min)       c0              6           189.84   \n",
       "8   control (no VC $35 min)       c0              0             0.00   \n",
       "17  control (no VC $35 min)       c0              3           166.98   \n",
       "19  control (no VC $35 min)       c0              1           145.30   \n",
       "27  control (no VC $35 min)       c0              0             0.00   \n",
       "\n",
       "    total_spend  \n",
       "2       1139.07  \n",
       "8          0.00  \n",
       "17       500.93  \n",
       "19       145.30  \n",
       "27         0.00  "
      ]
     },
     "execution_count": 90,
     "metadata": {},
     "output_type": "execute_result"
    }
   ],
   "source": [
    "control_o_the_control_group_loyalty_1.head()"
   ]
  },
  {
   "cell_type": "code",
   "execution_count": 93,
   "id": "3f944c1d-33b7-45c1-89af-6763cd1c34b4",
   "metadata": {},
   "outputs": [],
   "source": [
    "control_o_the_control_group_express_0_loyalty_1 = control_o_the_control_group_express_0[control_o_the_control_group_express_0[\"loyalty\"]== 1]"
   ]
  },
  {
   "cell_type": "code",
   "execution_count": 94,
   "id": "d7638288-fae8-4a15-bb1e-8aca530fae99",
   "metadata": {
    "scrolled": true
   },
   "outputs": [
    {
     "data": {
      "text/html": [
       "<div>\n",
       "<style scoped>\n",
       "    .dataframe tbody tr th:only-of-type {\n",
       "        vertical-align: middle;\n",
       "    }\n",
       "\n",
       "    .dataframe tbody tr th {\n",
       "        vertical-align: top;\n",
       "    }\n",
       "\n",
       "    .dataframe thead th {\n",
       "        text-align: right;\n",
       "    }\n",
       "</style>\n",
       "<table border=\"1\" class=\"dataframe\">\n",
       "  <thead>\n",
       "    <tr style=\"text-align: right;\">\n",
       "      <th></th>\n",
       "      <th>user_id</th>\n",
       "      <th>assignment_date</th>\n",
       "      <th>express</th>\n",
       "      <th>loyalty</th>\n",
       "      <th>zip_code</th>\n",
       "      <th>address_type</th>\n",
       "      <th>experiment_group</th>\n",
       "      <th>grp_code</th>\n",
       "      <th>orders_placed</th>\n",
       "      <th>avg_order_value</th>\n",
       "      <th>total_spend</th>\n",
       "    </tr>\n",
       "  </thead>\n",
       "  <tbody>\n",
       "    <tr>\n",
       "      <th>8</th>\n",
       "      <td>9</td>\n",
       "      <td>2022-02-16</td>\n",
       "      <td>0</td>\n",
       "      <td>1</td>\n",
       "      <td>37206</td>\n",
       "      <td>Residential</td>\n",
       "      <td>control (no VC $35 min)</td>\n",
       "      <td>c0</td>\n",
       "      <td>0</td>\n",
       "      <td>0.00</td>\n",
       "      <td>0.00</td>\n",
       "    </tr>\n",
       "    <tr>\n",
       "      <th>27</th>\n",
       "      <td>28</td>\n",
       "      <td>2022-02-27</td>\n",
       "      <td>0</td>\n",
       "      <td>1</td>\n",
       "      <td>37221</td>\n",
       "      <td>Residential</td>\n",
       "      <td>control (no VC $35 min)</td>\n",
       "      <td>c0</td>\n",
       "      <td>0</td>\n",
       "      <td>0.00</td>\n",
       "      <td>0.00</td>\n",
       "    </tr>\n",
       "    <tr>\n",
       "      <th>29</th>\n",
       "      <td>30</td>\n",
       "      <td>2022-02-16</td>\n",
       "      <td>0</td>\n",
       "      <td>1</td>\n",
       "      <td>37207</td>\n",
       "      <td>Residential</td>\n",
       "      <td>control (no VC $35 min)</td>\n",
       "      <td>c0</td>\n",
       "      <td>2</td>\n",
       "      <td>303.98</td>\n",
       "      <td>607.96</td>\n",
       "    </tr>\n",
       "    <tr>\n",
       "      <th>53</th>\n",
       "      <td>54</td>\n",
       "      <td>2022-02-28</td>\n",
       "      <td>0</td>\n",
       "      <td>1</td>\n",
       "      <td>37217</td>\n",
       "      <td>Residential</td>\n",
       "      <td>control (no VC $35 min)</td>\n",
       "      <td>c0</td>\n",
       "      <td>0</td>\n",
       "      <td>0.00</td>\n",
       "      <td>0.00</td>\n",
       "    </tr>\n",
       "    <tr>\n",
       "      <th>64</th>\n",
       "      <td>65</td>\n",
       "      <td>2022-02-23</td>\n",
       "      <td>0</td>\n",
       "      <td>1</td>\n",
       "      <td>37208</td>\n",
       "      <td>Residential</td>\n",
       "      <td>control (no VC $35 min)</td>\n",
       "      <td>c0</td>\n",
       "      <td>0</td>\n",
       "      <td>0.00</td>\n",
       "      <td>0.00</td>\n",
       "    </tr>\n",
       "  </tbody>\n",
       "</table>\n",
       "</div>"
      ],
      "text/plain": [
       "    user_id assignment_date  express  loyalty  zip_code address_type  \\\n",
       "8         9      2022-02-16        0        1     37206  Residential   \n",
       "27       28      2022-02-27        0        1     37221  Residential   \n",
       "29       30      2022-02-16        0        1     37207  Residential   \n",
       "53       54      2022-02-28        0        1     37217  Residential   \n",
       "64       65      2022-02-23        0        1     37208  Residential   \n",
       "\n",
       "           experiment_group grp_code  orders_placed  avg_order_value  \\\n",
       "8   control (no VC $35 min)       c0              0             0.00   \n",
       "27  control (no VC $35 min)       c0              0             0.00   \n",
       "29  control (no VC $35 min)       c0              2           303.98   \n",
       "53  control (no VC $35 min)       c0              0             0.00   \n",
       "64  control (no VC $35 min)       c0              0             0.00   \n",
       "\n",
       "    total_spend  \n",
       "8          0.00  \n",
       "27         0.00  \n",
       "29       607.96  \n",
       "53         0.00  \n",
       "64         0.00  "
      ]
     },
     "execution_count": 94,
     "metadata": {},
     "output_type": "execute_result"
    }
   ],
   "source": [
    "control_o_the_control_group_express_0_loyalty_1.head()"
   ]
  },
  {
   "cell_type": "code",
   "execution_count": 97,
   "id": "41150157-aeed-4b09-ac52-d856f692dd9f",
   "metadata": {},
   "outputs": [],
   "source": [
    "control_o_the_control_group_express_0_loyalty_0 = control_o_the_control_group_express_0[control_o_the_control_group_express_0[\"loyalty\"]== 0]"
   ]
  },
  {
   "cell_type": "code",
   "execution_count": 98,
   "id": "0e8905d5-aaa2-4f97-bfe4-c396aab31450",
   "metadata": {},
   "outputs": [
    {
     "data": {
      "text/html": [
       "<div>\n",
       "<style scoped>\n",
       "    .dataframe tbody tr th:only-of-type {\n",
       "        vertical-align: middle;\n",
       "    }\n",
       "\n",
       "    .dataframe tbody tr th {\n",
       "        vertical-align: top;\n",
       "    }\n",
       "\n",
       "    .dataframe thead th {\n",
       "        text-align: right;\n",
       "    }\n",
       "</style>\n",
       "<table border=\"1\" class=\"dataframe\">\n",
       "  <thead>\n",
       "    <tr style=\"text-align: right;\">\n",
       "      <th></th>\n",
       "      <th>user_id</th>\n",
       "      <th>assignment_date</th>\n",
       "      <th>express</th>\n",
       "      <th>loyalty</th>\n",
       "      <th>zip_code</th>\n",
       "      <th>address_type</th>\n",
       "      <th>experiment_group</th>\n",
       "      <th>grp_code</th>\n",
       "      <th>orders_placed</th>\n",
       "      <th>avg_order_value</th>\n",
       "      <th>total_spend</th>\n",
       "    </tr>\n",
       "  </thead>\n",
       "  <tbody>\n",
       "    <tr>\n",
       "      <th>9</th>\n",
       "      <td>10</td>\n",
       "      <td>2022-02-04</td>\n",
       "      <td>0</td>\n",
       "      <td>0</td>\n",
       "      <td>37217</td>\n",
       "      <td>Residential</td>\n",
       "      <td>control (no VC $35 min)</td>\n",
       "      <td>c0</td>\n",
       "      <td>2</td>\n",
       "      <td>61.01</td>\n",
       "      <td>122.02</td>\n",
       "    </tr>\n",
       "    <tr>\n",
       "      <th>10</th>\n",
       "      <td>11</td>\n",
       "      <td>2022-02-04</td>\n",
       "      <td>0</td>\n",
       "      <td>0</td>\n",
       "      <td>37205</td>\n",
       "      <td>Residential</td>\n",
       "      <td>control (no VC $35 min)</td>\n",
       "      <td>c0</td>\n",
       "      <td>2</td>\n",
       "      <td>142.12</td>\n",
       "      <td>284.24</td>\n",
       "    </tr>\n",
       "    <tr>\n",
       "      <th>14</th>\n",
       "      <td>15</td>\n",
       "      <td>2022-01-21</td>\n",
       "      <td>0</td>\n",
       "      <td>0</td>\n",
       "      <td>37207</td>\n",
       "      <td>Residential</td>\n",
       "      <td>control (no VC $35 min)</td>\n",
       "      <td>c0</td>\n",
       "      <td>1</td>\n",
       "      <td>116.22</td>\n",
       "      <td>116.22</td>\n",
       "    </tr>\n",
       "    <tr>\n",
       "      <th>24</th>\n",
       "      <td>25</td>\n",
       "      <td>2022-02-17</td>\n",
       "      <td>0</td>\n",
       "      <td>0</td>\n",
       "      <td>37207</td>\n",
       "      <td>Residential</td>\n",
       "      <td>control (no VC $35 min)</td>\n",
       "      <td>c0</td>\n",
       "      <td>0</td>\n",
       "      <td>0.00</td>\n",
       "      <td>0.00</td>\n",
       "    </tr>\n",
       "    <tr>\n",
       "      <th>28</th>\n",
       "      <td>29</td>\n",
       "      <td>2022-01-29</td>\n",
       "      <td>0</td>\n",
       "      <td>0</td>\n",
       "      <td>37216</td>\n",
       "      <td>Residential</td>\n",
       "      <td>control (no VC $35 min)</td>\n",
       "      <td>c0</td>\n",
       "      <td>0</td>\n",
       "      <td>0.00</td>\n",
       "      <td>0.00</td>\n",
       "    </tr>\n",
       "  </tbody>\n",
       "</table>\n",
       "</div>"
      ],
      "text/plain": [
       "    user_id assignment_date  express  loyalty  zip_code address_type  \\\n",
       "9        10      2022-02-04        0        0     37217  Residential   \n",
       "10       11      2022-02-04        0        0     37205  Residential   \n",
       "14       15      2022-01-21        0        0     37207  Residential   \n",
       "24       25      2022-02-17        0        0     37207  Residential   \n",
       "28       29      2022-01-29        0        0     37216  Residential   \n",
       "\n",
       "           experiment_group grp_code  orders_placed  avg_order_value  \\\n",
       "9   control (no VC $35 min)       c0              2            61.01   \n",
       "10  control (no VC $35 min)       c0              2           142.12   \n",
       "14  control (no VC $35 min)       c0              1           116.22   \n",
       "24  control (no VC $35 min)       c0              0             0.00   \n",
       "28  control (no VC $35 min)       c0              0             0.00   \n",
       "\n",
       "    total_spend  \n",
       "9        122.02  \n",
       "10       284.24  \n",
       "14       116.22  \n",
       "24         0.00  \n",
       "28         0.00  "
      ]
     },
     "execution_count": 98,
     "metadata": {},
     "output_type": "execute_result"
    }
   ],
   "source": [
    "control_o_the_control_group_express_0_loyalty_0.head()"
   ]
  },
  {
   "cell_type": "code",
   "execution_count": 95,
   "id": "986c6a5b-2b89-48d4-b61d-76514b8dc5d5",
   "metadata": {},
   "outputs": [],
   "source": [
    "control_o_the_control_group_express_1_loyalty_0  = control_o_the_control_group_express_1[control_o_the_control_group_express_1[\"loyalty\"]== 0]"
   ]
  },
  {
   "cell_type": "code",
   "execution_count": 96,
   "id": "0a3e29e3-d536-40c6-a6c9-4b8aa142c6dd",
   "metadata": {
    "scrolled": true
   },
   "outputs": [
    {
     "data": {
      "text/html": [
       "<div>\n",
       "<style scoped>\n",
       "    .dataframe tbody tr th:only-of-type {\n",
       "        vertical-align: middle;\n",
       "    }\n",
       "\n",
       "    .dataframe tbody tr th {\n",
       "        vertical-align: top;\n",
       "    }\n",
       "\n",
       "    .dataframe thead th {\n",
       "        text-align: right;\n",
       "    }\n",
       "</style>\n",
       "<table border=\"1\" class=\"dataframe\">\n",
       "  <thead>\n",
       "    <tr style=\"text-align: right;\">\n",
       "      <th></th>\n",
       "      <th>user_id</th>\n",
       "      <th>assignment_date</th>\n",
       "      <th>express</th>\n",
       "      <th>loyalty</th>\n",
       "      <th>zip_code</th>\n",
       "      <th>address_type</th>\n",
       "      <th>experiment_group</th>\n",
       "      <th>grp_code</th>\n",
       "      <th>orders_placed</th>\n",
       "      <th>avg_order_value</th>\n",
       "      <th>total_spend</th>\n",
       "    </tr>\n",
       "  </thead>\n",
       "  <tbody>\n",
       "    <tr>\n",
       "      <th>1</th>\n",
       "      <td>2</td>\n",
       "      <td>2022-02-22</td>\n",
       "      <td>1</td>\n",
       "      <td>0</td>\n",
       "      <td>37209</td>\n",
       "      <td>Residential</td>\n",
       "      <td>control (no VC $35 min)</td>\n",
       "      <td>c0</td>\n",
       "      <td>1</td>\n",
       "      <td>71.15</td>\n",
       "      <td>71.15</td>\n",
       "    </tr>\n",
       "    <tr>\n",
       "      <th>5</th>\n",
       "      <td>6</td>\n",
       "      <td>2022-02-26</td>\n",
       "      <td>1</td>\n",
       "      <td>0</td>\n",
       "      <td>37221</td>\n",
       "      <td>Business</td>\n",
       "      <td>control (no VC $35 min)</td>\n",
       "      <td>c0</td>\n",
       "      <td>0</td>\n",
       "      <td>0.00</td>\n",
       "      <td>0.00</td>\n",
       "    </tr>\n",
       "    <tr>\n",
       "      <th>11</th>\n",
       "      <td>12</td>\n",
       "      <td>2022-02-25</td>\n",
       "      <td>1</td>\n",
       "      <td>0</td>\n",
       "      <td>37206</td>\n",
       "      <td>Residential</td>\n",
       "      <td>control (no VC $35 min)</td>\n",
       "      <td>c0</td>\n",
       "      <td>0</td>\n",
       "      <td>0.00</td>\n",
       "      <td>0.00</td>\n",
       "    </tr>\n",
       "    <tr>\n",
       "      <th>13</th>\n",
       "      <td>14</td>\n",
       "      <td>2022-01-24</td>\n",
       "      <td>1</td>\n",
       "      <td>0</td>\n",
       "      <td>37206</td>\n",
       "      <td>Residential</td>\n",
       "      <td>control (no VC $35 min)</td>\n",
       "      <td>c0</td>\n",
       "      <td>2</td>\n",
       "      <td>179.34</td>\n",
       "      <td>358.68</td>\n",
       "    </tr>\n",
       "    <tr>\n",
       "      <th>18</th>\n",
       "      <td>19</td>\n",
       "      <td>2022-02-20</td>\n",
       "      <td>1</td>\n",
       "      <td>0</td>\n",
       "      <td>37207</td>\n",
       "      <td>Residential</td>\n",
       "      <td>control (no VC $35 min)</td>\n",
       "      <td>c0</td>\n",
       "      <td>0</td>\n",
       "      <td>0.00</td>\n",
       "      <td>0.00</td>\n",
       "    </tr>\n",
       "  </tbody>\n",
       "</table>\n",
       "</div>"
      ],
      "text/plain": [
       "    user_id assignment_date  express  loyalty  zip_code address_type  \\\n",
       "1         2      2022-02-22        1        0     37209  Residential   \n",
       "5         6      2022-02-26        1        0     37221     Business   \n",
       "11       12      2022-02-25        1        0     37206  Residential   \n",
       "13       14      2022-01-24        1        0     37206  Residential   \n",
       "18       19      2022-02-20        1        0     37207  Residential   \n",
       "\n",
       "           experiment_group grp_code  orders_placed  avg_order_value  \\\n",
       "1   control (no VC $35 min)       c0              1            71.15   \n",
       "5   control (no VC $35 min)       c0              0             0.00   \n",
       "11  control (no VC $35 min)       c0              0             0.00   \n",
       "13  control (no VC $35 min)       c0              2           179.34   \n",
       "18  control (no VC $35 min)       c0              0             0.00   \n",
       "\n",
       "    total_spend  \n",
       "1         71.15  \n",
       "5          0.00  \n",
       "11         0.00  \n",
       "13       358.68  \n",
       "18         0.00  "
      ]
     },
     "execution_count": 96,
     "metadata": {},
     "output_type": "execute_result"
    }
   ],
   "source": [
    "control_o_the_control_group_express_1_loyalty_0.head()"
   ]
  },
  {
   "cell_type": "code",
   "execution_count": 100,
   "id": "e9a89d1f-3b42-41c5-bbba-807489a46ef3",
   "metadata": {},
   "outputs": [],
   "source": [
    "control_o_the_control_group_express_1_loyalty_1  = control_o_the_control_group_express_1[control_o_the_control_group_express_1[\"loyalty\"]== 1]"
   ]
  },
  {
   "cell_type": "code",
   "execution_count": 101,
   "id": "6e3eb3bc-d98c-40fd-bc88-16ab56fc654c",
   "metadata": {},
   "outputs": [
    {
     "data": {
      "text/html": [
       "<div>\n",
       "<style scoped>\n",
       "    .dataframe tbody tr th:only-of-type {\n",
       "        vertical-align: middle;\n",
       "    }\n",
       "\n",
       "    .dataframe tbody tr th {\n",
       "        vertical-align: top;\n",
       "    }\n",
       "\n",
       "    .dataframe thead th {\n",
       "        text-align: right;\n",
       "    }\n",
       "</style>\n",
       "<table border=\"1\" class=\"dataframe\">\n",
       "  <thead>\n",
       "    <tr style=\"text-align: right;\">\n",
       "      <th></th>\n",
       "      <th>user_id</th>\n",
       "      <th>assignment_date</th>\n",
       "      <th>express</th>\n",
       "      <th>loyalty</th>\n",
       "      <th>zip_code</th>\n",
       "      <th>address_type</th>\n",
       "      <th>experiment_group</th>\n",
       "      <th>grp_code</th>\n",
       "      <th>orders_placed</th>\n",
       "      <th>avg_order_value</th>\n",
       "      <th>total_spend</th>\n",
       "    </tr>\n",
       "  </thead>\n",
       "  <tbody>\n",
       "    <tr>\n",
       "      <th>2</th>\n",
       "      <td>3</td>\n",
       "      <td>2022-01-15</td>\n",
       "      <td>1</td>\n",
       "      <td>1</td>\n",
       "      <td>37217</td>\n",
       "      <td>Residential</td>\n",
       "      <td>control (no VC $35 min)</td>\n",
       "      <td>c0</td>\n",
       "      <td>6</td>\n",
       "      <td>189.84</td>\n",
       "      <td>1139.07</td>\n",
       "    </tr>\n",
       "    <tr>\n",
       "      <th>17</th>\n",
       "      <td>18</td>\n",
       "      <td>2022-02-04</td>\n",
       "      <td>1</td>\n",
       "      <td>1</td>\n",
       "      <td>37209</td>\n",
       "      <td>Residential</td>\n",
       "      <td>control (no VC $35 min)</td>\n",
       "      <td>c0</td>\n",
       "      <td>3</td>\n",
       "      <td>166.98</td>\n",
       "      <td>500.93</td>\n",
       "    </tr>\n",
       "    <tr>\n",
       "      <th>19</th>\n",
       "      <td>20</td>\n",
       "      <td>2022-02-24</td>\n",
       "      <td>1</td>\n",
       "      <td>1</td>\n",
       "      <td>37208</td>\n",
       "      <td>Residential</td>\n",
       "      <td>control (no VC $35 min)</td>\n",
       "      <td>c0</td>\n",
       "      <td>1</td>\n",
       "      <td>145.30</td>\n",
       "      <td>145.30</td>\n",
       "    </tr>\n",
       "    <tr>\n",
       "      <th>44</th>\n",
       "      <td>45</td>\n",
       "      <td>2022-02-08</td>\n",
       "      <td>1</td>\n",
       "      <td>1</td>\n",
       "      <td>37221</td>\n",
       "      <td>Residential</td>\n",
       "      <td>control (no VC $35 min)</td>\n",
       "      <td>c0</td>\n",
       "      <td>3</td>\n",
       "      <td>147.95</td>\n",
       "      <td>443.84</td>\n",
       "    </tr>\n",
       "    <tr>\n",
       "      <th>54</th>\n",
       "      <td>55</td>\n",
       "      <td>2022-02-01</td>\n",
       "      <td>1</td>\n",
       "      <td>1</td>\n",
       "      <td>37221</td>\n",
       "      <td>Residential</td>\n",
       "      <td>control (no VC $35 min)</td>\n",
       "      <td>c0</td>\n",
       "      <td>4</td>\n",
       "      <td>37.42</td>\n",
       "      <td>149.66</td>\n",
       "    </tr>\n",
       "  </tbody>\n",
       "</table>\n",
       "</div>"
      ],
      "text/plain": [
       "    user_id assignment_date  express  loyalty  zip_code address_type  \\\n",
       "2         3      2022-01-15        1        1     37217  Residential   \n",
       "17       18      2022-02-04        1        1     37209  Residential   \n",
       "19       20      2022-02-24        1        1     37208  Residential   \n",
       "44       45      2022-02-08        1        1     37221  Residential   \n",
       "54       55      2022-02-01        1        1     37221  Residential   \n",
       "\n",
       "           experiment_group grp_code  orders_placed  avg_order_value  \\\n",
       "2   control (no VC $35 min)       c0              6           189.84   \n",
       "17  control (no VC $35 min)       c0              3           166.98   \n",
       "19  control (no VC $35 min)       c0              1           145.30   \n",
       "44  control (no VC $35 min)       c0              3           147.95   \n",
       "54  control (no VC $35 min)       c0              4            37.42   \n",
       "\n",
       "    total_spend  \n",
       "2       1139.07  \n",
       "17       500.93  \n",
       "19       145.30  \n",
       "44       443.84  \n",
       "54       149.66  "
      ]
     },
     "execution_count": 101,
     "metadata": {},
     "output_type": "execute_result"
    }
   ],
   "source": [
    "control_o_the_control_group_express_1_loyalty_1.head()"
   ]
  },
  {
   "cell_type": "markdown",
   "id": "d057b461-f71e-4260-b655-da48206bad24",
   "metadata": {},
   "source": [
    "## Experiment 2"
   ]
  },
  {
   "cell_type": "code",
   "execution_count": 107,
   "id": "fd9b7583-b47a-48f0-8138-82da7eef3fcc",
   "metadata": {},
   "outputs": [],
   "source": [
    "variant_1 = df[df['experiment_group']==\"variant 1 (VC $35 min)\"]"
   ]
  },
  {
   "cell_type": "code",
   "execution_count": 108,
   "id": "e5bf7455-18f0-405a-8848-aafb16f84409",
   "metadata": {},
   "outputs": [
    {
     "data": {
      "text/html": [
       "<div>\n",
       "<style scoped>\n",
       "    .dataframe tbody tr th:only-of-type {\n",
       "        vertical-align: middle;\n",
       "    }\n",
       "\n",
       "    .dataframe tbody tr th {\n",
       "        vertical-align: top;\n",
       "    }\n",
       "\n",
       "    .dataframe thead th {\n",
       "        text-align: right;\n",
       "    }\n",
       "</style>\n",
       "<table border=\"1\" class=\"dataframe\">\n",
       "  <thead>\n",
       "    <tr style=\"text-align: right;\">\n",
       "      <th></th>\n",
       "      <th>user_id</th>\n",
       "      <th>assignment_date</th>\n",
       "      <th>express</th>\n",
       "      <th>loyalty</th>\n",
       "      <th>zip_code</th>\n",
       "      <th>address_type</th>\n",
       "      <th>experiment_group</th>\n",
       "      <th>grp_code</th>\n",
       "      <th>orders_placed</th>\n",
       "      <th>avg_order_value</th>\n",
       "      <th>total_spend</th>\n",
       "    </tr>\n",
       "  </thead>\n",
       "  <tbody>\n",
       "    <tr>\n",
       "      <th>3</th>\n",
       "      <td>4</td>\n",
       "      <td>2022-02-17</td>\n",
       "      <td>0</td>\n",
       "      <td>0</td>\n",
       "      <td>37215</td>\n",
       "      <td>Residential</td>\n",
       "      <td>variant 1 (VC $35 min)</td>\n",
       "      <td>v1</td>\n",
       "      <td>0</td>\n",
       "      <td>0.00</td>\n",
       "      <td>0.00</td>\n",
       "    </tr>\n",
       "    <tr>\n",
       "      <th>16</th>\n",
       "      <td>17</td>\n",
       "      <td>2022-01-29</td>\n",
       "      <td>0</td>\n",
       "      <td>0</td>\n",
       "      <td>37211</td>\n",
       "      <td>Residential</td>\n",
       "      <td>variant 1 (VC $35 min)</td>\n",
       "      <td>v1</td>\n",
       "      <td>2</td>\n",
       "      <td>149.22</td>\n",
       "      <td>298.45</td>\n",
       "    </tr>\n",
       "    <tr>\n",
       "      <th>23</th>\n",
       "      <td>24</td>\n",
       "      <td>2022-02-20</td>\n",
       "      <td>0</td>\n",
       "      <td>0</td>\n",
       "      <td>37207</td>\n",
       "      <td>Residential</td>\n",
       "      <td>variant 1 (VC $35 min)</td>\n",
       "      <td>v1</td>\n",
       "      <td>0</td>\n",
       "      <td>0.00</td>\n",
       "      <td>0.00</td>\n",
       "    </tr>\n",
       "    <tr>\n",
       "      <th>41</th>\n",
       "      <td>42</td>\n",
       "      <td>2022-01-20</td>\n",
       "      <td>0</td>\n",
       "      <td>0</td>\n",
       "      <td>37221</td>\n",
       "      <td>Residential</td>\n",
       "      <td>variant 1 (VC $35 min)</td>\n",
       "      <td>v1</td>\n",
       "      <td>1</td>\n",
       "      <td>205.10</td>\n",
       "      <td>205.10</td>\n",
       "    </tr>\n",
       "    <tr>\n",
       "      <th>46</th>\n",
       "      <td>47</td>\n",
       "      <td>2022-02-22</td>\n",
       "      <td>1</td>\n",
       "      <td>0</td>\n",
       "      <td>37211</td>\n",
       "      <td>Business</td>\n",
       "      <td>variant 1 (VC $35 min)</td>\n",
       "      <td>v1</td>\n",
       "      <td>0</td>\n",
       "      <td>0.00</td>\n",
       "      <td>0.00</td>\n",
       "    </tr>\n",
       "  </tbody>\n",
       "</table>\n",
       "</div>"
      ],
      "text/plain": [
       "    user_id assignment_date  express  loyalty  zip_code address_type  \\\n",
       "3         4      2022-02-17        0        0     37215  Residential   \n",
       "16       17      2022-01-29        0        0     37211  Residential   \n",
       "23       24      2022-02-20        0        0     37207  Residential   \n",
       "41       42      2022-01-20        0        0     37221  Residential   \n",
       "46       47      2022-02-22        1        0     37211     Business   \n",
       "\n",
       "          experiment_group grp_code  orders_placed  avg_order_value  \\\n",
       "3   variant 1 (VC $35 min)       v1              0             0.00   \n",
       "16  variant 1 (VC $35 min)       v1              2           149.22   \n",
       "23  variant 1 (VC $35 min)       v1              0             0.00   \n",
       "41  variant 1 (VC $35 min)       v1              1           205.10   \n",
       "46  variant 1 (VC $35 min)       v1              0             0.00   \n",
       "\n",
       "    total_spend  \n",
       "3          0.00  \n",
       "16       298.45  \n",
       "23         0.00  \n",
       "41       205.10  \n",
       "46         0.00  "
      ]
     },
     "execution_count": 108,
     "metadata": {},
     "output_type": "execute_result"
    }
   ],
   "source": [
    "variant_1.head()"
   ]
  },
  {
   "cell_type": "code",
   "execution_count": 110,
   "id": "b81673fb-d4c3-4141-845e-550b460414f5",
   "metadata": {},
   "outputs": [
    {
     "data": {
      "text/html": [
       "<div>\n",
       "<style scoped>\n",
       "    .dataframe tbody tr th:only-of-type {\n",
       "        vertical-align: middle;\n",
       "    }\n",
       "\n",
       "    .dataframe tbody tr th {\n",
       "        vertical-align: top;\n",
       "    }\n",
       "\n",
       "    .dataframe thead th {\n",
       "        text-align: right;\n",
       "    }\n",
       "</style>\n",
       "<table border=\"1\" class=\"dataframe\">\n",
       "  <thead>\n",
       "    <tr style=\"text-align: right;\">\n",
       "      <th></th>\n",
       "      <th>user_id</th>\n",
       "      <th>assignment_date</th>\n",
       "      <th>express</th>\n",
       "      <th>loyalty</th>\n",
       "      <th>zip_code</th>\n",
       "      <th>address_type</th>\n",
       "      <th>experiment_group</th>\n",
       "      <th>grp_code</th>\n",
       "      <th>orders_placed</th>\n",
       "      <th>avg_order_value</th>\n",
       "      <th>total_spend</th>\n",
       "    </tr>\n",
       "  </thead>\n",
       "  <tbody>\n",
       "    <tr>\n",
       "      <th>3</th>\n",
       "      <td>4</td>\n",
       "      <td>2022-02-17</td>\n",
       "      <td>0</td>\n",
       "      <td>0</td>\n",
       "      <td>37215</td>\n",
       "      <td>Residential</td>\n",
       "      <td>variant 1 (VC $35 min)</td>\n",
       "      <td>v1</td>\n",
       "      <td>0</td>\n",
       "      <td>0.00</td>\n",
       "      <td>0.00</td>\n",
       "    </tr>\n",
       "    <tr>\n",
       "      <th>16</th>\n",
       "      <td>17</td>\n",
       "      <td>2022-01-29</td>\n",
       "      <td>0</td>\n",
       "      <td>0</td>\n",
       "      <td>37211</td>\n",
       "      <td>Residential</td>\n",
       "      <td>variant 1 (VC $35 min)</td>\n",
       "      <td>v1</td>\n",
       "      <td>2</td>\n",
       "      <td>149.22</td>\n",
       "      <td>298.45</td>\n",
       "    </tr>\n",
       "    <tr>\n",
       "      <th>23</th>\n",
       "      <td>24</td>\n",
       "      <td>2022-02-20</td>\n",
       "      <td>0</td>\n",
       "      <td>0</td>\n",
       "      <td>37207</td>\n",
       "      <td>Residential</td>\n",
       "      <td>variant 1 (VC $35 min)</td>\n",
       "      <td>v1</td>\n",
       "      <td>0</td>\n",
       "      <td>0.00</td>\n",
       "      <td>0.00</td>\n",
       "    </tr>\n",
       "    <tr>\n",
       "      <th>41</th>\n",
       "      <td>42</td>\n",
       "      <td>2022-01-20</td>\n",
       "      <td>0</td>\n",
       "      <td>0</td>\n",
       "      <td>37221</td>\n",
       "      <td>Residential</td>\n",
       "      <td>variant 1 (VC $35 min)</td>\n",
       "      <td>v1</td>\n",
       "      <td>1</td>\n",
       "      <td>205.10</td>\n",
       "      <td>205.10</td>\n",
       "    </tr>\n",
       "    <tr>\n",
       "      <th>50</th>\n",
       "      <td>51</td>\n",
       "      <td>2022-02-15</td>\n",
       "      <td>0</td>\n",
       "      <td>0</td>\n",
       "      <td>37207</td>\n",
       "      <td>Residential</td>\n",
       "      <td>variant 1 (VC $35 min)</td>\n",
       "      <td>v1</td>\n",
       "      <td>0</td>\n",
       "      <td>0.00</td>\n",
       "      <td>0.00</td>\n",
       "    </tr>\n",
       "  </tbody>\n",
       "</table>\n",
       "</div>"
      ],
      "text/plain": [
       "    user_id assignment_date  express  loyalty  zip_code address_type  \\\n",
       "3         4      2022-02-17        0        0     37215  Residential   \n",
       "16       17      2022-01-29        0        0     37211  Residential   \n",
       "23       24      2022-02-20        0        0     37207  Residential   \n",
       "41       42      2022-01-20        0        0     37221  Residential   \n",
       "50       51      2022-02-15        0        0     37207  Residential   \n",
       "\n",
       "          experiment_group grp_code  orders_placed  avg_order_value  \\\n",
       "3   variant 1 (VC $35 min)       v1              0             0.00   \n",
       "16  variant 1 (VC $35 min)       v1              2           149.22   \n",
       "23  variant 1 (VC $35 min)       v1              0             0.00   \n",
       "41  variant 1 (VC $35 min)       v1              1           205.10   \n",
       "50  variant 1 (VC $35 min)       v1              0             0.00   \n",
       "\n",
       "    total_spend  \n",
       "3          0.00  \n",
       "16       298.45  \n",
       "23         0.00  \n",
       "41       205.10  \n",
       "50         0.00  "
      ]
     },
     "execution_count": 110,
     "metadata": {},
     "output_type": "execute_result"
    }
   ],
   "source": [
    "variant_1_express_0 = variant_1[variant_1[\"express\"]== 0]\n",
    "variant_1_express_0.head()"
   ]
  },
  {
   "cell_type": "code",
   "execution_count": 115,
   "id": "92519072-3de6-4e7a-b41e-eccbf7503e3b",
   "metadata": {},
   "outputs": [
    {
     "data": {
      "text/plain": [
       "loyalty\n",
       "0    11218\n",
       "1     1512\n",
       "Name: count, dtype: int64"
      ]
     },
     "execution_count": 115,
     "metadata": {},
     "output_type": "execute_result"
    }
   ],
   "source": [
    "variant_1_express_0['loyalty'].value_counts()"
   ]
  },
  {
   "cell_type": "code",
   "execution_count": 116,
   "id": "39c29850-34b4-4722-8690-66ed8e0824b5",
   "metadata": {},
   "outputs": [
    {
     "data": {
      "text/html": [
       "<div>\n",
       "<style scoped>\n",
       "    .dataframe tbody tr th:only-of-type {\n",
       "        vertical-align: middle;\n",
       "    }\n",
       "\n",
       "    .dataframe tbody tr th {\n",
       "        vertical-align: top;\n",
       "    }\n",
       "\n",
       "    .dataframe thead th {\n",
       "        text-align: right;\n",
       "    }\n",
       "</style>\n",
       "<table border=\"1\" class=\"dataframe\">\n",
       "  <thead>\n",
       "    <tr style=\"text-align: right;\">\n",
       "      <th></th>\n",
       "      <th>user_id</th>\n",
       "      <th>assignment_date</th>\n",
       "      <th>express</th>\n",
       "      <th>loyalty</th>\n",
       "      <th>zip_code</th>\n",
       "      <th>address_type</th>\n",
       "      <th>experiment_group</th>\n",
       "      <th>grp_code</th>\n",
       "      <th>orders_placed</th>\n",
       "      <th>avg_order_value</th>\n",
       "      <th>total_spend</th>\n",
       "    </tr>\n",
       "  </thead>\n",
       "  <tbody>\n",
       "    <tr>\n",
       "      <th>46</th>\n",
       "      <td>47</td>\n",
       "      <td>2022-02-22</td>\n",
       "      <td>1</td>\n",
       "      <td>0</td>\n",
       "      <td>37211</td>\n",
       "      <td>Business</td>\n",
       "      <td>variant 1 (VC $35 min)</td>\n",
       "      <td>v1</td>\n",
       "      <td>0</td>\n",
       "      <td>0.00</td>\n",
       "      <td>0.00</td>\n",
       "    </tr>\n",
       "    <tr>\n",
       "      <th>49</th>\n",
       "      <td>50</td>\n",
       "      <td>2022-02-07</td>\n",
       "      <td>1</td>\n",
       "      <td>0</td>\n",
       "      <td>37216</td>\n",
       "      <td>Residential</td>\n",
       "      <td>variant 1 (VC $35 min)</td>\n",
       "      <td>v1</td>\n",
       "      <td>0</td>\n",
       "      <td>0.00</td>\n",
       "      <td>0.00</td>\n",
       "    </tr>\n",
       "    <tr>\n",
       "      <th>51</th>\n",
       "      <td>52</td>\n",
       "      <td>2022-01-28</td>\n",
       "      <td>1</td>\n",
       "      <td>0</td>\n",
       "      <td>37204</td>\n",
       "      <td>Residential</td>\n",
       "      <td>variant 1 (VC $35 min)</td>\n",
       "      <td>v1</td>\n",
       "      <td>1</td>\n",
       "      <td>106.91</td>\n",
       "      <td>106.91</td>\n",
       "    </tr>\n",
       "    <tr>\n",
       "      <th>69</th>\n",
       "      <td>70</td>\n",
       "      <td>2022-01-27</td>\n",
       "      <td>1</td>\n",
       "      <td>0</td>\n",
       "      <td>37221</td>\n",
       "      <td>Residential</td>\n",
       "      <td>variant 1 (VC $35 min)</td>\n",
       "      <td>v1</td>\n",
       "      <td>2</td>\n",
       "      <td>123.22</td>\n",
       "      <td>246.44</td>\n",
       "    </tr>\n",
       "    <tr>\n",
       "      <th>71</th>\n",
       "      <td>72</td>\n",
       "      <td>2022-02-08</td>\n",
       "      <td>1</td>\n",
       "      <td>0</td>\n",
       "      <td>37214</td>\n",
       "      <td>Residential</td>\n",
       "      <td>variant 1 (VC $35 min)</td>\n",
       "      <td>v1</td>\n",
       "      <td>2</td>\n",
       "      <td>34.21</td>\n",
       "      <td>68.42</td>\n",
       "    </tr>\n",
       "  </tbody>\n",
       "</table>\n",
       "</div>"
      ],
      "text/plain": [
       "    user_id assignment_date  express  loyalty  zip_code address_type  \\\n",
       "46       47      2022-02-22        1        0     37211     Business   \n",
       "49       50      2022-02-07        1        0     37216  Residential   \n",
       "51       52      2022-01-28        1        0     37204  Residential   \n",
       "69       70      2022-01-27        1        0     37221  Residential   \n",
       "71       72      2022-02-08        1        0     37214  Residential   \n",
       "\n",
       "          experiment_group grp_code  orders_placed  avg_order_value  \\\n",
       "46  variant 1 (VC $35 min)       v1              0             0.00   \n",
       "49  variant 1 (VC $35 min)       v1              0             0.00   \n",
       "51  variant 1 (VC $35 min)       v1              1           106.91   \n",
       "69  variant 1 (VC $35 min)       v1              2           123.22   \n",
       "71  variant 1 (VC $35 min)       v1              2            34.21   \n",
       "\n",
       "    total_spend  \n",
       "46         0.00  \n",
       "49         0.00  \n",
       "51       106.91  \n",
       "69       246.44  \n",
       "71        68.42  "
      ]
     },
     "execution_count": 116,
     "metadata": {},
     "output_type": "execute_result"
    }
   ],
   "source": [
    "variant_1_express_1 = variant_1[variant_1[\"express\"]== 1]\n",
    "variant_1_express_1.head()"
   ]
  },
  {
   "cell_type": "code",
   "execution_count": 117,
   "id": "342ac21f-2758-4865-b907-95dc04a0b6bb",
   "metadata": {},
   "outputs": [
    {
     "data": {
      "text/html": [
       "<div>\n",
       "<style scoped>\n",
       "    .dataframe tbody tr th:only-of-type {\n",
       "        vertical-align: middle;\n",
       "    }\n",
       "\n",
       "    .dataframe tbody tr th {\n",
       "        vertical-align: top;\n",
       "    }\n",
       "\n",
       "    .dataframe thead th {\n",
       "        text-align: right;\n",
       "    }\n",
       "</style>\n",
       "<table border=\"1\" class=\"dataframe\">\n",
       "  <thead>\n",
       "    <tr style=\"text-align: right;\">\n",
       "      <th></th>\n",
       "      <th>user_id</th>\n",
       "      <th>assignment_date</th>\n",
       "      <th>express</th>\n",
       "      <th>loyalty</th>\n",
       "      <th>zip_code</th>\n",
       "      <th>address_type</th>\n",
       "      <th>experiment_group</th>\n",
       "      <th>grp_code</th>\n",
       "      <th>orders_placed</th>\n",
       "      <th>avg_order_value</th>\n",
       "      <th>total_spend</th>\n",
       "    </tr>\n",
       "  </thead>\n",
       "  <tbody>\n",
       "    <tr>\n",
       "      <th>3</th>\n",
       "      <td>4</td>\n",
       "      <td>2022-02-17</td>\n",
       "      <td>0</td>\n",
       "      <td>0</td>\n",
       "      <td>37215</td>\n",
       "      <td>Residential</td>\n",
       "      <td>variant 1 (VC $35 min)</td>\n",
       "      <td>v1</td>\n",
       "      <td>0</td>\n",
       "      <td>0.00</td>\n",
       "      <td>0.00</td>\n",
       "    </tr>\n",
       "    <tr>\n",
       "      <th>16</th>\n",
       "      <td>17</td>\n",
       "      <td>2022-01-29</td>\n",
       "      <td>0</td>\n",
       "      <td>0</td>\n",
       "      <td>37211</td>\n",
       "      <td>Residential</td>\n",
       "      <td>variant 1 (VC $35 min)</td>\n",
       "      <td>v1</td>\n",
       "      <td>2</td>\n",
       "      <td>149.22</td>\n",
       "      <td>298.45</td>\n",
       "    </tr>\n",
       "    <tr>\n",
       "      <th>23</th>\n",
       "      <td>24</td>\n",
       "      <td>2022-02-20</td>\n",
       "      <td>0</td>\n",
       "      <td>0</td>\n",
       "      <td>37207</td>\n",
       "      <td>Residential</td>\n",
       "      <td>variant 1 (VC $35 min)</td>\n",
       "      <td>v1</td>\n",
       "      <td>0</td>\n",
       "      <td>0.00</td>\n",
       "      <td>0.00</td>\n",
       "    </tr>\n",
       "    <tr>\n",
       "      <th>41</th>\n",
       "      <td>42</td>\n",
       "      <td>2022-01-20</td>\n",
       "      <td>0</td>\n",
       "      <td>0</td>\n",
       "      <td>37221</td>\n",
       "      <td>Residential</td>\n",
       "      <td>variant 1 (VC $35 min)</td>\n",
       "      <td>v1</td>\n",
       "      <td>1</td>\n",
       "      <td>205.10</td>\n",
       "      <td>205.10</td>\n",
       "    </tr>\n",
       "    <tr>\n",
       "      <th>46</th>\n",
       "      <td>47</td>\n",
       "      <td>2022-02-22</td>\n",
       "      <td>1</td>\n",
       "      <td>0</td>\n",
       "      <td>37211</td>\n",
       "      <td>Business</td>\n",
       "      <td>variant 1 (VC $35 min)</td>\n",
       "      <td>v1</td>\n",
       "      <td>0</td>\n",
       "      <td>0.00</td>\n",
       "      <td>0.00</td>\n",
       "    </tr>\n",
       "  </tbody>\n",
       "</table>\n",
       "</div>"
      ],
      "text/plain": [
       "    user_id assignment_date  express  loyalty  zip_code address_type  \\\n",
       "3         4      2022-02-17        0        0     37215  Residential   \n",
       "16       17      2022-01-29        0        0     37211  Residential   \n",
       "23       24      2022-02-20        0        0     37207  Residential   \n",
       "41       42      2022-01-20        0        0     37221  Residential   \n",
       "46       47      2022-02-22        1        0     37211     Business   \n",
       "\n",
       "          experiment_group grp_code  orders_placed  avg_order_value  \\\n",
       "3   variant 1 (VC $35 min)       v1              0             0.00   \n",
       "16  variant 1 (VC $35 min)       v1              2           149.22   \n",
       "23  variant 1 (VC $35 min)       v1              0             0.00   \n",
       "41  variant 1 (VC $35 min)       v1              1           205.10   \n",
       "46  variant 1 (VC $35 min)       v1              0             0.00   \n",
       "\n",
       "    total_spend  \n",
       "3          0.00  \n",
       "16       298.45  \n",
       "23         0.00  \n",
       "41       205.10  \n",
       "46         0.00  "
      ]
     },
     "execution_count": 117,
     "metadata": {},
     "output_type": "execute_result"
    }
   ],
   "source": [
    "variant_1_loyalty_0 = variant_1[variant_1[\"loyalty\"]==0]\n",
    "variant_1_loyalty_0.head()"
   ]
  },
  {
   "cell_type": "code",
   "execution_count": 118,
   "id": "5a0de5e7-24f1-4271-9b5c-76b6d2ccf368",
   "metadata": {},
   "outputs": [
    {
     "data": {
      "text/html": [
       "<div>\n",
       "<style scoped>\n",
       "    .dataframe tbody tr th:only-of-type {\n",
       "        vertical-align: middle;\n",
       "    }\n",
       "\n",
       "    .dataframe tbody tr th {\n",
       "        vertical-align: top;\n",
       "    }\n",
       "\n",
       "    .dataframe thead th {\n",
       "        text-align: right;\n",
       "    }\n",
       "</style>\n",
       "<table border=\"1\" class=\"dataframe\">\n",
       "  <thead>\n",
       "    <tr style=\"text-align: right;\">\n",
       "      <th></th>\n",
       "      <th>user_id</th>\n",
       "      <th>assignment_date</th>\n",
       "      <th>express</th>\n",
       "      <th>loyalty</th>\n",
       "      <th>zip_code</th>\n",
       "      <th>address_type</th>\n",
       "      <th>experiment_group</th>\n",
       "      <th>grp_code</th>\n",
       "      <th>orders_placed</th>\n",
       "      <th>avg_order_value</th>\n",
       "      <th>total_spend</th>\n",
       "    </tr>\n",
       "  </thead>\n",
       "  <tbody>\n",
       "    <tr>\n",
       "      <th>171</th>\n",
       "      <td>172</td>\n",
       "      <td>2022-02-20</td>\n",
       "      <td>1</td>\n",
       "      <td>1</td>\n",
       "      <td>37212</td>\n",
       "      <td>Residential</td>\n",
       "      <td>variant 1 (VC $35 min)</td>\n",
       "      <td>v1</td>\n",
       "      <td>0</td>\n",
       "      <td>0.00</td>\n",
       "      <td>0.00</td>\n",
       "    </tr>\n",
       "    <tr>\n",
       "      <th>177</th>\n",
       "      <td>178</td>\n",
       "      <td>2022-02-12</td>\n",
       "      <td>0</td>\n",
       "      <td>1</td>\n",
       "      <td>37221</td>\n",
       "      <td>Residential</td>\n",
       "      <td>variant 1 (VC $35 min)</td>\n",
       "      <td>v1</td>\n",
       "      <td>3</td>\n",
       "      <td>153.71</td>\n",
       "      <td>461.13</td>\n",
       "    </tr>\n",
       "    <tr>\n",
       "      <th>193</th>\n",
       "      <td>194</td>\n",
       "      <td>2022-02-27</td>\n",
       "      <td>1</td>\n",
       "      <td>1</td>\n",
       "      <td>37214</td>\n",
       "      <td>Residential</td>\n",
       "      <td>variant 1 (VC $35 min)</td>\n",
       "      <td>v1</td>\n",
       "      <td>1</td>\n",
       "      <td>13.03</td>\n",
       "      <td>13.03</td>\n",
       "    </tr>\n",
       "    <tr>\n",
       "      <th>257</th>\n",
       "      <td>258</td>\n",
       "      <td>2022-02-16</td>\n",
       "      <td>0</td>\n",
       "      <td>1</td>\n",
       "      <td>37217</td>\n",
       "      <td>Business</td>\n",
       "      <td>variant 1 (VC $35 min)</td>\n",
       "      <td>v1</td>\n",
       "      <td>0</td>\n",
       "      <td>0.00</td>\n",
       "      <td>0.00</td>\n",
       "    </tr>\n",
       "    <tr>\n",
       "      <th>260</th>\n",
       "      <td>261</td>\n",
       "      <td>2022-02-08</td>\n",
       "      <td>1</td>\n",
       "      <td>1</td>\n",
       "      <td>37204</td>\n",
       "      <td>Residential</td>\n",
       "      <td>variant 1 (VC $35 min)</td>\n",
       "      <td>v1</td>\n",
       "      <td>1</td>\n",
       "      <td>82.48</td>\n",
       "      <td>82.48</td>\n",
       "    </tr>\n",
       "  </tbody>\n",
       "</table>\n",
       "</div>"
      ],
      "text/plain": [
       "     user_id assignment_date  express  loyalty  zip_code address_type  \\\n",
       "171      172      2022-02-20        1        1     37212  Residential   \n",
       "177      178      2022-02-12        0        1     37221  Residential   \n",
       "193      194      2022-02-27        1        1     37214  Residential   \n",
       "257      258      2022-02-16        0        1     37217     Business   \n",
       "260      261      2022-02-08        1        1     37204  Residential   \n",
       "\n",
       "           experiment_group grp_code  orders_placed  avg_order_value  \\\n",
       "171  variant 1 (VC $35 min)       v1              0             0.00   \n",
       "177  variant 1 (VC $35 min)       v1              3           153.71   \n",
       "193  variant 1 (VC $35 min)       v1              1            13.03   \n",
       "257  variant 1 (VC $35 min)       v1              0             0.00   \n",
       "260  variant 1 (VC $35 min)       v1              1            82.48   \n",
       "\n",
       "     total_spend  \n",
       "171         0.00  \n",
       "177       461.13  \n",
       "193        13.03  \n",
       "257         0.00  \n",
       "260        82.48  "
      ]
     },
     "execution_count": 118,
     "metadata": {},
     "output_type": "execute_result"
    }
   ],
   "source": [
    "variant_1_loyalty_1 = variant_1[variant_1[\"loyalty\"]==1]\n",
    "variant_1_loyalty_1.head()"
   ]
  },
  {
   "cell_type": "code",
   "execution_count": 119,
   "id": "8a97912a-0405-4445-8584-d21e460d952d",
   "metadata": {},
   "outputs": [
    {
     "data": {
      "text/html": [
       "<div>\n",
       "<style scoped>\n",
       "    .dataframe tbody tr th:only-of-type {\n",
       "        vertical-align: middle;\n",
       "    }\n",
       "\n",
       "    .dataframe tbody tr th {\n",
       "        vertical-align: top;\n",
       "    }\n",
       "\n",
       "    .dataframe thead th {\n",
       "        text-align: right;\n",
       "    }\n",
       "</style>\n",
       "<table border=\"1\" class=\"dataframe\">\n",
       "  <thead>\n",
       "    <tr style=\"text-align: right;\">\n",
       "      <th></th>\n",
       "      <th>user_id</th>\n",
       "      <th>assignment_date</th>\n",
       "      <th>express</th>\n",
       "      <th>loyalty</th>\n",
       "      <th>zip_code</th>\n",
       "      <th>address_type</th>\n",
       "      <th>experiment_group</th>\n",
       "      <th>grp_code</th>\n",
       "      <th>orders_placed</th>\n",
       "      <th>avg_order_value</th>\n",
       "      <th>total_spend</th>\n",
       "    </tr>\n",
       "  </thead>\n",
       "  <tbody>\n",
       "    <tr>\n",
       "      <th>177</th>\n",
       "      <td>178</td>\n",
       "      <td>2022-02-12</td>\n",
       "      <td>0</td>\n",
       "      <td>1</td>\n",
       "      <td>37221</td>\n",
       "      <td>Residential</td>\n",
       "      <td>variant 1 (VC $35 min)</td>\n",
       "      <td>v1</td>\n",
       "      <td>3</td>\n",
       "      <td>153.71</td>\n",
       "      <td>461.13</td>\n",
       "    </tr>\n",
       "    <tr>\n",
       "      <th>257</th>\n",
       "      <td>258</td>\n",
       "      <td>2022-02-16</td>\n",
       "      <td>0</td>\n",
       "      <td>1</td>\n",
       "      <td>37217</td>\n",
       "      <td>Business</td>\n",
       "      <td>variant 1 (VC $35 min)</td>\n",
       "      <td>v1</td>\n",
       "      <td>0</td>\n",
       "      <td>0.00</td>\n",
       "      <td>0.00</td>\n",
       "    </tr>\n",
       "    <tr>\n",
       "      <th>360</th>\n",
       "      <td>361</td>\n",
       "      <td>2022-02-24</td>\n",
       "      <td>0</td>\n",
       "      <td>1</td>\n",
       "      <td>37205</td>\n",
       "      <td>Residential</td>\n",
       "      <td>variant 1 (VC $35 min)</td>\n",
       "      <td>v1</td>\n",
       "      <td>2</td>\n",
       "      <td>128.32</td>\n",
       "      <td>256.64</td>\n",
       "    </tr>\n",
       "    <tr>\n",
       "      <th>530</th>\n",
       "      <td>531</td>\n",
       "      <td>2022-02-27</td>\n",
       "      <td>0</td>\n",
       "      <td>1</td>\n",
       "      <td>37216</td>\n",
       "      <td>Residential</td>\n",
       "      <td>variant 1 (VC $35 min)</td>\n",
       "      <td>v1</td>\n",
       "      <td>0</td>\n",
       "      <td>0.00</td>\n",
       "      <td>0.00</td>\n",
       "    </tr>\n",
       "    <tr>\n",
       "      <th>701</th>\n",
       "      <td>702</td>\n",
       "      <td>2022-02-23</td>\n",
       "      <td>0</td>\n",
       "      <td>1</td>\n",
       "      <td>37206</td>\n",
       "      <td>Residential</td>\n",
       "      <td>variant 1 (VC $35 min)</td>\n",
       "      <td>v1</td>\n",
       "      <td>0</td>\n",
       "      <td>0.00</td>\n",
       "      <td>0.00</td>\n",
       "    </tr>\n",
       "  </tbody>\n",
       "</table>\n",
       "</div>"
      ],
      "text/plain": [
       "     user_id assignment_date  express  loyalty  zip_code address_type  \\\n",
       "177      178      2022-02-12        0        1     37221  Residential   \n",
       "257      258      2022-02-16        0        1     37217     Business   \n",
       "360      361      2022-02-24        0        1     37205  Residential   \n",
       "530      531      2022-02-27        0        1     37216  Residential   \n",
       "701      702      2022-02-23        0        1     37206  Residential   \n",
       "\n",
       "           experiment_group grp_code  orders_placed  avg_order_value  \\\n",
       "177  variant 1 (VC $35 min)       v1              3           153.71   \n",
       "257  variant 1 (VC $35 min)       v1              0             0.00   \n",
       "360  variant 1 (VC $35 min)       v1              2           128.32   \n",
       "530  variant 1 (VC $35 min)       v1              0             0.00   \n",
       "701  variant 1 (VC $35 min)       v1              0             0.00   \n",
       "\n",
       "     total_spend  \n",
       "177       461.13  \n",
       "257         0.00  \n",
       "360       256.64  \n",
       "530         0.00  \n",
       "701         0.00  "
      ]
     },
     "execution_count": 119,
     "metadata": {},
     "output_type": "execute_result"
    }
   ],
   "source": [
    "variant_1_express_0_loyalty_1 = variant_1_express_0[variant_1_express_0[\"loyalty\"]== 1]\n",
    "variant_1_express_0_loyalty_1.head()"
   ]
  },
  {
   "cell_type": "code",
   "execution_count": 120,
   "id": "06a35546-70fb-49f7-9193-569cad26972c",
   "metadata": {},
   "outputs": [
    {
     "data": {
      "text/html": [
       "<div>\n",
       "<style scoped>\n",
       "    .dataframe tbody tr th:only-of-type {\n",
       "        vertical-align: middle;\n",
       "    }\n",
       "\n",
       "    .dataframe tbody tr th {\n",
       "        vertical-align: top;\n",
       "    }\n",
       "\n",
       "    .dataframe thead th {\n",
       "        text-align: right;\n",
       "    }\n",
       "</style>\n",
       "<table border=\"1\" class=\"dataframe\">\n",
       "  <thead>\n",
       "    <tr style=\"text-align: right;\">\n",
       "      <th></th>\n",
       "      <th>user_id</th>\n",
       "      <th>assignment_date</th>\n",
       "      <th>express</th>\n",
       "      <th>loyalty</th>\n",
       "      <th>zip_code</th>\n",
       "      <th>address_type</th>\n",
       "      <th>experiment_group</th>\n",
       "      <th>grp_code</th>\n",
       "      <th>orders_placed</th>\n",
       "      <th>avg_order_value</th>\n",
       "      <th>total_spend</th>\n",
       "    </tr>\n",
       "  </thead>\n",
       "  <tbody>\n",
       "    <tr>\n",
       "      <th>3</th>\n",
       "      <td>4</td>\n",
       "      <td>2022-02-17</td>\n",
       "      <td>0</td>\n",
       "      <td>0</td>\n",
       "      <td>37215</td>\n",
       "      <td>Residential</td>\n",
       "      <td>variant 1 (VC $35 min)</td>\n",
       "      <td>v1</td>\n",
       "      <td>0</td>\n",
       "      <td>0.00</td>\n",
       "      <td>0.00</td>\n",
       "    </tr>\n",
       "    <tr>\n",
       "      <th>16</th>\n",
       "      <td>17</td>\n",
       "      <td>2022-01-29</td>\n",
       "      <td>0</td>\n",
       "      <td>0</td>\n",
       "      <td>37211</td>\n",
       "      <td>Residential</td>\n",
       "      <td>variant 1 (VC $35 min)</td>\n",
       "      <td>v1</td>\n",
       "      <td>2</td>\n",
       "      <td>149.22</td>\n",
       "      <td>298.45</td>\n",
       "    </tr>\n",
       "    <tr>\n",
       "      <th>23</th>\n",
       "      <td>24</td>\n",
       "      <td>2022-02-20</td>\n",
       "      <td>0</td>\n",
       "      <td>0</td>\n",
       "      <td>37207</td>\n",
       "      <td>Residential</td>\n",
       "      <td>variant 1 (VC $35 min)</td>\n",
       "      <td>v1</td>\n",
       "      <td>0</td>\n",
       "      <td>0.00</td>\n",
       "      <td>0.00</td>\n",
       "    </tr>\n",
       "    <tr>\n",
       "      <th>41</th>\n",
       "      <td>42</td>\n",
       "      <td>2022-01-20</td>\n",
       "      <td>0</td>\n",
       "      <td>0</td>\n",
       "      <td>37221</td>\n",
       "      <td>Residential</td>\n",
       "      <td>variant 1 (VC $35 min)</td>\n",
       "      <td>v1</td>\n",
       "      <td>1</td>\n",
       "      <td>205.10</td>\n",
       "      <td>205.10</td>\n",
       "    </tr>\n",
       "    <tr>\n",
       "      <th>50</th>\n",
       "      <td>51</td>\n",
       "      <td>2022-02-15</td>\n",
       "      <td>0</td>\n",
       "      <td>0</td>\n",
       "      <td>37207</td>\n",
       "      <td>Residential</td>\n",
       "      <td>variant 1 (VC $35 min)</td>\n",
       "      <td>v1</td>\n",
       "      <td>0</td>\n",
       "      <td>0.00</td>\n",
       "      <td>0.00</td>\n",
       "    </tr>\n",
       "  </tbody>\n",
       "</table>\n",
       "</div>"
      ],
      "text/plain": [
       "    user_id assignment_date  express  loyalty  zip_code address_type  \\\n",
       "3         4      2022-02-17        0        0     37215  Residential   \n",
       "16       17      2022-01-29        0        0     37211  Residential   \n",
       "23       24      2022-02-20        0        0     37207  Residential   \n",
       "41       42      2022-01-20        0        0     37221  Residential   \n",
       "50       51      2022-02-15        0        0     37207  Residential   \n",
       "\n",
       "          experiment_group grp_code  orders_placed  avg_order_value  \\\n",
       "3   variant 1 (VC $35 min)       v1              0             0.00   \n",
       "16  variant 1 (VC $35 min)       v1              2           149.22   \n",
       "23  variant 1 (VC $35 min)       v1              0             0.00   \n",
       "41  variant 1 (VC $35 min)       v1              1           205.10   \n",
       "50  variant 1 (VC $35 min)       v1              0             0.00   \n",
       "\n",
       "    total_spend  \n",
       "3          0.00  \n",
       "16       298.45  \n",
       "23         0.00  \n",
       "41       205.10  \n",
       "50         0.00  "
      ]
     },
     "execution_count": 120,
     "metadata": {},
     "output_type": "execute_result"
    }
   ],
   "source": [
    "variant_1_express_0_loyalty_0 = variant_1_express_0[variant_1_express_0[\"express\"]== 0]\n",
    "variant_1_express_0_loyalty_0.head()"
   ]
  },
  {
   "cell_type": "code",
   "execution_count": 121,
   "id": "65608026-a266-41c6-8448-fe4507a03bf9",
   "metadata": {},
   "outputs": [
    {
     "data": {
      "text/html": [
       "<div>\n",
       "<style scoped>\n",
       "    .dataframe tbody tr th:only-of-type {\n",
       "        vertical-align: middle;\n",
       "    }\n",
       "\n",
       "    .dataframe tbody tr th {\n",
       "        vertical-align: top;\n",
       "    }\n",
       "\n",
       "    .dataframe thead th {\n",
       "        text-align: right;\n",
       "    }\n",
       "</style>\n",
       "<table border=\"1\" class=\"dataframe\">\n",
       "  <thead>\n",
       "    <tr style=\"text-align: right;\">\n",
       "      <th></th>\n",
       "      <th>user_id</th>\n",
       "      <th>assignment_date</th>\n",
       "      <th>express</th>\n",
       "      <th>loyalty</th>\n",
       "      <th>zip_code</th>\n",
       "      <th>address_type</th>\n",
       "      <th>experiment_group</th>\n",
       "      <th>grp_code</th>\n",
       "      <th>orders_placed</th>\n",
       "      <th>avg_order_value</th>\n",
       "      <th>total_spend</th>\n",
       "    </tr>\n",
       "  </thead>\n",
       "  <tbody>\n",
       "    <tr>\n",
       "      <th>46</th>\n",
       "      <td>47</td>\n",
       "      <td>2022-02-22</td>\n",
       "      <td>1</td>\n",
       "      <td>0</td>\n",
       "      <td>37211</td>\n",
       "      <td>Business</td>\n",
       "      <td>variant 1 (VC $35 min)</td>\n",
       "      <td>v1</td>\n",
       "      <td>0</td>\n",
       "      <td>0.00</td>\n",
       "      <td>0.00</td>\n",
       "    </tr>\n",
       "    <tr>\n",
       "      <th>49</th>\n",
       "      <td>50</td>\n",
       "      <td>2022-02-07</td>\n",
       "      <td>1</td>\n",
       "      <td>0</td>\n",
       "      <td>37216</td>\n",
       "      <td>Residential</td>\n",
       "      <td>variant 1 (VC $35 min)</td>\n",
       "      <td>v1</td>\n",
       "      <td>0</td>\n",
       "      <td>0.00</td>\n",
       "      <td>0.00</td>\n",
       "    </tr>\n",
       "    <tr>\n",
       "      <th>51</th>\n",
       "      <td>52</td>\n",
       "      <td>2022-01-28</td>\n",
       "      <td>1</td>\n",
       "      <td>0</td>\n",
       "      <td>37204</td>\n",
       "      <td>Residential</td>\n",
       "      <td>variant 1 (VC $35 min)</td>\n",
       "      <td>v1</td>\n",
       "      <td>1</td>\n",
       "      <td>106.91</td>\n",
       "      <td>106.91</td>\n",
       "    </tr>\n",
       "    <tr>\n",
       "      <th>69</th>\n",
       "      <td>70</td>\n",
       "      <td>2022-01-27</td>\n",
       "      <td>1</td>\n",
       "      <td>0</td>\n",
       "      <td>37221</td>\n",
       "      <td>Residential</td>\n",
       "      <td>variant 1 (VC $35 min)</td>\n",
       "      <td>v1</td>\n",
       "      <td>2</td>\n",
       "      <td>123.22</td>\n",
       "      <td>246.44</td>\n",
       "    </tr>\n",
       "    <tr>\n",
       "      <th>71</th>\n",
       "      <td>72</td>\n",
       "      <td>2022-02-08</td>\n",
       "      <td>1</td>\n",
       "      <td>0</td>\n",
       "      <td>37214</td>\n",
       "      <td>Residential</td>\n",
       "      <td>variant 1 (VC $35 min)</td>\n",
       "      <td>v1</td>\n",
       "      <td>2</td>\n",
       "      <td>34.21</td>\n",
       "      <td>68.42</td>\n",
       "    </tr>\n",
       "  </tbody>\n",
       "</table>\n",
       "</div>"
      ],
      "text/plain": [
       "    user_id assignment_date  express  loyalty  zip_code address_type  \\\n",
       "46       47      2022-02-22        1        0     37211     Business   \n",
       "49       50      2022-02-07        1        0     37216  Residential   \n",
       "51       52      2022-01-28        1        0     37204  Residential   \n",
       "69       70      2022-01-27        1        0     37221  Residential   \n",
       "71       72      2022-02-08        1        0     37214  Residential   \n",
       "\n",
       "          experiment_group grp_code  orders_placed  avg_order_value  \\\n",
       "46  variant 1 (VC $35 min)       v1              0             0.00   \n",
       "49  variant 1 (VC $35 min)       v1              0             0.00   \n",
       "51  variant 1 (VC $35 min)       v1              1           106.91   \n",
       "69  variant 1 (VC $35 min)       v1              2           123.22   \n",
       "71  variant 1 (VC $35 min)       v1              2            34.21   \n",
       "\n",
       "    total_spend  \n",
       "46         0.00  \n",
       "49         0.00  \n",
       "51       106.91  \n",
       "69       246.44  \n",
       "71        68.42  "
      ]
     },
     "execution_count": 121,
     "metadata": {},
     "output_type": "execute_result"
    }
   ],
   "source": [
    "variant_1_express_1_loyalty_0 = variant_1_express_1[variant_1_express_1[\"loyalty\"]== 0]\n",
    "variant_1_express_1_loyalty_0.head()"
   ]
  },
  {
   "cell_type": "code",
   "execution_count": 122,
   "id": "a8dad446-dceb-4516-ab05-78d5a4b431a9",
   "metadata": {},
   "outputs": [
    {
     "data": {
      "text/html": [
       "<div>\n",
       "<style scoped>\n",
       "    .dataframe tbody tr th:only-of-type {\n",
       "        vertical-align: middle;\n",
       "    }\n",
       "\n",
       "    .dataframe tbody tr th {\n",
       "        vertical-align: top;\n",
       "    }\n",
       "\n",
       "    .dataframe thead th {\n",
       "        text-align: right;\n",
       "    }\n",
       "</style>\n",
       "<table border=\"1\" class=\"dataframe\">\n",
       "  <thead>\n",
       "    <tr style=\"text-align: right;\">\n",
       "      <th></th>\n",
       "      <th>user_id</th>\n",
       "      <th>assignment_date</th>\n",
       "      <th>express</th>\n",
       "      <th>loyalty</th>\n",
       "      <th>zip_code</th>\n",
       "      <th>address_type</th>\n",
       "      <th>experiment_group</th>\n",
       "      <th>grp_code</th>\n",
       "      <th>orders_placed</th>\n",
       "      <th>avg_order_value</th>\n",
       "      <th>total_spend</th>\n",
       "    </tr>\n",
       "  </thead>\n",
       "  <tbody>\n",
       "    <tr>\n",
       "      <th>171</th>\n",
       "      <td>172</td>\n",
       "      <td>2022-02-20</td>\n",
       "      <td>1</td>\n",
       "      <td>1</td>\n",
       "      <td>37212</td>\n",
       "      <td>Residential</td>\n",
       "      <td>variant 1 (VC $35 min)</td>\n",
       "      <td>v1</td>\n",
       "      <td>0</td>\n",
       "      <td>0.00</td>\n",
       "      <td>0.00</td>\n",
       "    </tr>\n",
       "    <tr>\n",
       "      <th>193</th>\n",
       "      <td>194</td>\n",
       "      <td>2022-02-27</td>\n",
       "      <td>1</td>\n",
       "      <td>1</td>\n",
       "      <td>37214</td>\n",
       "      <td>Residential</td>\n",
       "      <td>variant 1 (VC $35 min)</td>\n",
       "      <td>v1</td>\n",
       "      <td>1</td>\n",
       "      <td>13.03</td>\n",
       "      <td>13.03</td>\n",
       "    </tr>\n",
       "    <tr>\n",
       "      <th>260</th>\n",
       "      <td>261</td>\n",
       "      <td>2022-02-08</td>\n",
       "      <td>1</td>\n",
       "      <td>1</td>\n",
       "      <td>37204</td>\n",
       "      <td>Residential</td>\n",
       "      <td>variant 1 (VC $35 min)</td>\n",
       "      <td>v1</td>\n",
       "      <td>1</td>\n",
       "      <td>82.48</td>\n",
       "      <td>82.48</td>\n",
       "    </tr>\n",
       "    <tr>\n",
       "      <th>299</th>\n",
       "      <td>300</td>\n",
       "      <td>2022-02-02</td>\n",
       "      <td>1</td>\n",
       "      <td>1</td>\n",
       "      <td>37211</td>\n",
       "      <td>Residential</td>\n",
       "      <td>variant 1 (VC $35 min)</td>\n",
       "      <td>v1</td>\n",
       "      <td>1</td>\n",
       "      <td>114.85</td>\n",
       "      <td>114.85</td>\n",
       "    </tr>\n",
       "    <tr>\n",
       "      <th>309</th>\n",
       "      <td>310</td>\n",
       "      <td>2022-02-12</td>\n",
       "      <td>1</td>\n",
       "      <td>1</td>\n",
       "      <td>37208</td>\n",
       "      <td>Business</td>\n",
       "      <td>variant 1 (VC $35 min)</td>\n",
       "      <td>v1</td>\n",
       "      <td>0</td>\n",
       "      <td>0.00</td>\n",
       "      <td>0.00</td>\n",
       "    </tr>\n",
       "  </tbody>\n",
       "</table>\n",
       "</div>"
      ],
      "text/plain": [
       "     user_id assignment_date  express  loyalty  zip_code address_type  \\\n",
       "171      172      2022-02-20        1        1     37212  Residential   \n",
       "193      194      2022-02-27        1        1     37214  Residential   \n",
       "260      261      2022-02-08        1        1     37204  Residential   \n",
       "299      300      2022-02-02        1        1     37211  Residential   \n",
       "309      310      2022-02-12        1        1     37208     Business   \n",
       "\n",
       "           experiment_group grp_code  orders_placed  avg_order_value  \\\n",
       "171  variant 1 (VC $35 min)       v1              0             0.00   \n",
       "193  variant 1 (VC $35 min)       v1              1            13.03   \n",
       "260  variant 1 (VC $35 min)       v1              1            82.48   \n",
       "299  variant 1 (VC $35 min)       v1              1           114.85   \n",
       "309  variant 1 (VC $35 min)       v1              0             0.00   \n",
       "\n",
       "     total_spend  \n",
       "171         0.00  \n",
       "193        13.03  \n",
       "260        82.48  \n",
       "299       114.85  \n",
       "309         0.00  "
      ]
     },
     "execution_count": 122,
     "metadata": {},
     "output_type": "execute_result"
    }
   ],
   "source": [
    "variant_1_express_1_loyalty_1 = variant_1_express_1[variant_1_express_1[\"loyalty\"]== 1]\n",
    "variant_1_express_1_loyalty_1.head()"
   ]
  },
  {
   "cell_type": "markdown",
   "id": "b12c2777-cffa-435f-92fb-5b5223d4caac",
   "metadata": {},
   "source": [
    "## Experiment 3"
   ]
  },
  {
   "cell_type": "code",
   "execution_count": 123,
   "id": "fec02d4e-26cd-4325-9f92-a40aa79021b1",
   "metadata": {},
   "outputs": [
    {
     "data": {
      "text/html": [
       "<div>\n",
       "<style scoped>\n",
       "    .dataframe tbody tr th:only-of-type {\n",
       "        vertical-align: middle;\n",
       "    }\n",
       "\n",
       "    .dataframe tbody tr th {\n",
       "        vertical-align: top;\n",
       "    }\n",
       "\n",
       "    .dataframe thead th {\n",
       "        text-align: right;\n",
       "    }\n",
       "</style>\n",
       "<table border=\"1\" class=\"dataframe\">\n",
       "  <thead>\n",
       "    <tr style=\"text-align: right;\">\n",
       "      <th></th>\n",
       "      <th>user_id</th>\n",
       "      <th>assignment_date</th>\n",
       "      <th>express</th>\n",
       "      <th>loyalty</th>\n",
       "      <th>zip_code</th>\n",
       "      <th>address_type</th>\n",
       "      <th>experiment_group</th>\n",
       "      <th>grp_code</th>\n",
       "      <th>orders_placed</th>\n",
       "      <th>avg_order_value</th>\n",
       "      <th>total_spend</th>\n",
       "    </tr>\n",
       "  </thead>\n",
       "  <tbody>\n",
       "    <tr>\n",
       "      <th>0</th>\n",
       "      <td>1</td>\n",
       "      <td>2022-01-18</td>\n",
       "      <td>0</td>\n",
       "      <td>0</td>\n",
       "      <td>37214</td>\n",
       "      <td>Residential</td>\n",
       "      <td>variant 2 (VC $10 min)</td>\n",
       "      <td>v2</td>\n",
       "      <td>1</td>\n",
       "      <td>141.89</td>\n",
       "      <td>141.89</td>\n",
       "    </tr>\n",
       "    <tr>\n",
       "      <th>4</th>\n",
       "      <td>5</td>\n",
       "      <td>2022-02-06</td>\n",
       "      <td>0</td>\n",
       "      <td>0</td>\n",
       "      <td>37211</td>\n",
       "      <td>Residential</td>\n",
       "      <td>variant 2 (VC $10 min)</td>\n",
       "      <td>v2</td>\n",
       "      <td>1</td>\n",
       "      <td>58.21</td>\n",
       "      <td>58.21</td>\n",
       "    </tr>\n",
       "    <tr>\n",
       "      <th>6</th>\n",
       "      <td>7</td>\n",
       "      <td>2022-01-28</td>\n",
       "      <td>1</td>\n",
       "      <td>0</td>\n",
       "      <td>37209</td>\n",
       "      <td>Residential</td>\n",
       "      <td>variant 2 (VC $10 min)</td>\n",
       "      <td>v2</td>\n",
       "      <td>7</td>\n",
       "      <td>54.94</td>\n",
       "      <td>384.61</td>\n",
       "    </tr>\n",
       "    <tr>\n",
       "      <th>7</th>\n",
       "      <td>8</td>\n",
       "      <td>2022-02-01</td>\n",
       "      <td>1</td>\n",
       "      <td>0</td>\n",
       "      <td>37209</td>\n",
       "      <td>Residential</td>\n",
       "      <td>variant 2 (VC $10 min)</td>\n",
       "      <td>v2</td>\n",
       "      <td>1</td>\n",
       "      <td>175.93</td>\n",
       "      <td>175.93</td>\n",
       "    </tr>\n",
       "    <tr>\n",
       "      <th>12</th>\n",
       "      <td>13</td>\n",
       "      <td>2022-03-01</td>\n",
       "      <td>0</td>\n",
       "      <td>0</td>\n",
       "      <td>37211</td>\n",
       "      <td>Business</td>\n",
       "      <td>variant 2 (VC $10 min)</td>\n",
       "      <td>v2</td>\n",
       "      <td>0</td>\n",
       "      <td>0.00</td>\n",
       "      <td>0.00</td>\n",
       "    </tr>\n",
       "  </tbody>\n",
       "</table>\n",
       "</div>"
      ],
      "text/plain": [
       "    user_id assignment_date  express  loyalty  zip_code address_type  \\\n",
       "0         1      2022-01-18        0        0     37214  Residential   \n",
       "4         5      2022-02-06        0        0     37211  Residential   \n",
       "6         7      2022-01-28        1        0     37209  Residential   \n",
       "7         8      2022-02-01        1        0     37209  Residential   \n",
       "12       13      2022-03-01        0        0     37211     Business   \n",
       "\n",
       "          experiment_group grp_code  orders_placed  avg_order_value  \\\n",
       "0   variant 2 (VC $10 min)       v2              1           141.89   \n",
       "4   variant 2 (VC $10 min)       v2              1            58.21   \n",
       "6   variant 2 (VC $10 min)       v2              7            54.94   \n",
       "7   variant 2 (VC $10 min)       v2              1           175.93   \n",
       "12  variant 2 (VC $10 min)       v2              0             0.00   \n",
       "\n",
       "    total_spend  \n",
       "0        141.89  \n",
       "4         58.21  \n",
       "6        384.61  \n",
       "7        175.93  \n",
       "12         0.00  "
      ]
     },
     "execution_count": 123,
     "metadata": {},
     "output_type": "execute_result"
    }
   ],
   "source": [
    "variant_2 = df[df['experiment_group']==\"variant 2 (VC $10 min)\"]\n",
    "variant_2.head()"
   ]
  },
  {
   "cell_type": "code",
   "execution_count": 125,
   "id": "f7ffe5bf-a03d-4299-81e8-c0f085c1341d",
   "metadata": {},
   "outputs": [
    {
     "data": {
      "text/html": [
       "<div>\n",
       "<style scoped>\n",
       "    .dataframe tbody tr th:only-of-type {\n",
       "        vertical-align: middle;\n",
       "    }\n",
       "\n",
       "    .dataframe tbody tr th {\n",
       "        vertical-align: top;\n",
       "    }\n",
       "\n",
       "    .dataframe thead th {\n",
       "        text-align: right;\n",
       "    }\n",
       "</style>\n",
       "<table border=\"1\" class=\"dataframe\">\n",
       "  <thead>\n",
       "    <tr style=\"text-align: right;\">\n",
       "      <th></th>\n",
       "      <th>user_id</th>\n",
       "      <th>assignment_date</th>\n",
       "      <th>express</th>\n",
       "      <th>loyalty</th>\n",
       "      <th>zip_code</th>\n",
       "      <th>address_type</th>\n",
       "      <th>experiment_group</th>\n",
       "      <th>grp_code</th>\n",
       "      <th>orders_placed</th>\n",
       "      <th>avg_order_value</th>\n",
       "      <th>total_spend</th>\n",
       "    </tr>\n",
       "  </thead>\n",
       "  <tbody>\n",
       "    <tr>\n",
       "      <th>0</th>\n",
       "      <td>1</td>\n",
       "      <td>2022-01-18</td>\n",
       "      <td>0</td>\n",
       "      <td>0</td>\n",
       "      <td>37214</td>\n",
       "      <td>Residential</td>\n",
       "      <td>variant 2 (VC $10 min)</td>\n",
       "      <td>v2</td>\n",
       "      <td>1</td>\n",
       "      <td>141.89</td>\n",
       "      <td>141.89</td>\n",
       "    </tr>\n",
       "    <tr>\n",
       "      <th>4</th>\n",
       "      <td>5</td>\n",
       "      <td>2022-02-06</td>\n",
       "      <td>0</td>\n",
       "      <td>0</td>\n",
       "      <td>37211</td>\n",
       "      <td>Residential</td>\n",
       "      <td>variant 2 (VC $10 min)</td>\n",
       "      <td>v2</td>\n",
       "      <td>1</td>\n",
       "      <td>58.21</td>\n",
       "      <td>58.21</td>\n",
       "    </tr>\n",
       "    <tr>\n",
       "      <th>12</th>\n",
       "      <td>13</td>\n",
       "      <td>2022-03-01</td>\n",
       "      <td>0</td>\n",
       "      <td>0</td>\n",
       "      <td>37211</td>\n",
       "      <td>Business</td>\n",
       "      <td>variant 2 (VC $10 min)</td>\n",
       "      <td>v2</td>\n",
       "      <td>0</td>\n",
       "      <td>0.00</td>\n",
       "      <td>0.00</td>\n",
       "    </tr>\n",
       "    <tr>\n",
       "      <th>15</th>\n",
       "      <td>16</td>\n",
       "      <td>2022-01-23</td>\n",
       "      <td>0</td>\n",
       "      <td>0</td>\n",
       "      <td>37217</td>\n",
       "      <td>Residential</td>\n",
       "      <td>variant 2 (VC $10 min)</td>\n",
       "      <td>v2</td>\n",
       "      <td>4</td>\n",
       "      <td>193.39</td>\n",
       "      <td>773.55</td>\n",
       "    </tr>\n",
       "    <tr>\n",
       "      <th>22</th>\n",
       "      <td>23</td>\n",
       "      <td>2022-02-20</td>\n",
       "      <td>0</td>\n",
       "      <td>0</td>\n",
       "      <td>37216</td>\n",
       "      <td>Residential</td>\n",
       "      <td>variant 2 (VC $10 min)</td>\n",
       "      <td>v2</td>\n",
       "      <td>0</td>\n",
       "      <td>0.00</td>\n",
       "      <td>0.00</td>\n",
       "    </tr>\n",
       "  </tbody>\n",
       "</table>\n",
       "</div>"
      ],
      "text/plain": [
       "    user_id assignment_date  express  loyalty  zip_code address_type  \\\n",
       "0         1      2022-01-18        0        0     37214  Residential   \n",
       "4         5      2022-02-06        0        0     37211  Residential   \n",
       "12       13      2022-03-01        0        0     37211     Business   \n",
       "15       16      2022-01-23        0        0     37217  Residential   \n",
       "22       23      2022-02-20        0        0     37216  Residential   \n",
       "\n",
       "          experiment_group grp_code  orders_placed  avg_order_value  \\\n",
       "0   variant 2 (VC $10 min)       v2              1           141.89   \n",
       "4   variant 2 (VC $10 min)       v2              1            58.21   \n",
       "12  variant 2 (VC $10 min)       v2              0             0.00   \n",
       "15  variant 2 (VC $10 min)       v2              4           193.39   \n",
       "22  variant 2 (VC $10 min)       v2              0             0.00   \n",
       "\n",
       "    total_spend  \n",
       "0        141.89  \n",
       "4         58.21  \n",
       "12         0.00  \n",
       "15       773.55  \n",
       "22         0.00  "
      ]
     },
     "execution_count": 125,
     "metadata": {},
     "output_type": "execute_result"
    }
   ],
   "source": [
    "\n",
    "variant_2_express_0 = variant_2[variant_2[\"express\"]== 0]\n",
    "variant_2_express_0.head()"
   ]
  },
  {
   "cell_type": "code",
   "execution_count": 126,
   "id": "5301f466-885e-43cf-b791-5bff499dc381",
   "metadata": {},
   "outputs": [
    {
     "data": {
      "text/html": [
       "<div>\n",
       "<style scoped>\n",
       "    .dataframe tbody tr th:only-of-type {\n",
       "        vertical-align: middle;\n",
       "    }\n",
       "\n",
       "    .dataframe tbody tr th {\n",
       "        vertical-align: top;\n",
       "    }\n",
       "\n",
       "    .dataframe thead th {\n",
       "        text-align: right;\n",
       "    }\n",
       "</style>\n",
       "<table border=\"1\" class=\"dataframe\">\n",
       "  <thead>\n",
       "    <tr style=\"text-align: right;\">\n",
       "      <th></th>\n",
       "      <th>user_id</th>\n",
       "      <th>assignment_date</th>\n",
       "      <th>express</th>\n",
       "      <th>loyalty</th>\n",
       "      <th>zip_code</th>\n",
       "      <th>address_type</th>\n",
       "      <th>experiment_group</th>\n",
       "      <th>grp_code</th>\n",
       "      <th>orders_placed</th>\n",
       "      <th>avg_order_value</th>\n",
       "      <th>total_spend</th>\n",
       "    </tr>\n",
       "  </thead>\n",
       "  <tbody>\n",
       "    <tr>\n",
       "      <th>6</th>\n",
       "      <td>7</td>\n",
       "      <td>2022-01-28</td>\n",
       "      <td>1</td>\n",
       "      <td>0</td>\n",
       "      <td>37209</td>\n",
       "      <td>Residential</td>\n",
       "      <td>variant 2 (VC $10 min)</td>\n",
       "      <td>v2</td>\n",
       "      <td>7</td>\n",
       "      <td>54.94</td>\n",
       "      <td>384.61</td>\n",
       "    </tr>\n",
       "    <tr>\n",
       "      <th>7</th>\n",
       "      <td>8</td>\n",
       "      <td>2022-02-01</td>\n",
       "      <td>1</td>\n",
       "      <td>0</td>\n",
       "      <td>37209</td>\n",
       "      <td>Residential</td>\n",
       "      <td>variant 2 (VC $10 min)</td>\n",
       "      <td>v2</td>\n",
       "      <td>1</td>\n",
       "      <td>175.93</td>\n",
       "      <td>175.93</td>\n",
       "    </tr>\n",
       "    <tr>\n",
       "      <th>20</th>\n",
       "      <td>21</td>\n",
       "      <td>2022-02-08</td>\n",
       "      <td>1</td>\n",
       "      <td>1</td>\n",
       "      <td>37210</td>\n",
       "      <td>Residential</td>\n",
       "      <td>variant 2 (VC $10 min)</td>\n",
       "      <td>v2</td>\n",
       "      <td>5</td>\n",
       "      <td>72.44</td>\n",
       "      <td>362.22</td>\n",
       "    </tr>\n",
       "    <tr>\n",
       "      <th>25</th>\n",
       "      <td>26</td>\n",
       "      <td>2022-02-25</td>\n",
       "      <td>1</td>\n",
       "      <td>0</td>\n",
       "      <td>37215</td>\n",
       "      <td>Residential</td>\n",
       "      <td>variant 2 (VC $10 min)</td>\n",
       "      <td>v2</td>\n",
       "      <td>0</td>\n",
       "      <td>0.00</td>\n",
       "      <td>0.00</td>\n",
       "    </tr>\n",
       "    <tr>\n",
       "      <th>35</th>\n",
       "      <td>36</td>\n",
       "      <td>2022-02-21</td>\n",
       "      <td>1</td>\n",
       "      <td>0</td>\n",
       "      <td>37212</td>\n",
       "      <td>Residential</td>\n",
       "      <td>variant 2 (VC $10 min)</td>\n",
       "      <td>v2</td>\n",
       "      <td>0</td>\n",
       "      <td>0.00</td>\n",
       "      <td>0.00</td>\n",
       "    </tr>\n",
       "  </tbody>\n",
       "</table>\n",
       "</div>"
      ],
      "text/plain": [
       "    user_id assignment_date  express  loyalty  zip_code address_type  \\\n",
       "6         7      2022-01-28        1        0     37209  Residential   \n",
       "7         8      2022-02-01        1        0     37209  Residential   \n",
       "20       21      2022-02-08        1        1     37210  Residential   \n",
       "25       26      2022-02-25        1        0     37215  Residential   \n",
       "35       36      2022-02-21        1        0     37212  Residential   \n",
       "\n",
       "          experiment_group grp_code  orders_placed  avg_order_value  \\\n",
       "6   variant 2 (VC $10 min)       v2              7            54.94   \n",
       "7   variant 2 (VC $10 min)       v2              1           175.93   \n",
       "20  variant 2 (VC $10 min)       v2              5            72.44   \n",
       "25  variant 2 (VC $10 min)       v2              0             0.00   \n",
       "35  variant 2 (VC $10 min)       v2              0             0.00   \n",
       "\n",
       "    total_spend  \n",
       "6        384.61  \n",
       "7        175.93  \n",
       "20       362.22  \n",
       "25         0.00  \n",
       "35         0.00  "
      ]
     },
     "execution_count": 126,
     "metadata": {},
     "output_type": "execute_result"
    }
   ],
   "source": [
    "variant_2_express_1 = variant_2[variant_2[\"express\"]== 1]\n",
    "variant_2_express_1.head()"
   ]
  },
  {
   "cell_type": "code",
   "execution_count": 127,
   "id": "713bb5db-4a02-48fe-80b4-94c7d3f3aa56",
   "metadata": {},
   "outputs": [
    {
     "data": {
      "text/html": [
       "<div>\n",
       "<style scoped>\n",
       "    .dataframe tbody tr th:only-of-type {\n",
       "        vertical-align: middle;\n",
       "    }\n",
       "\n",
       "    .dataframe tbody tr th {\n",
       "        vertical-align: top;\n",
       "    }\n",
       "\n",
       "    .dataframe thead th {\n",
       "        text-align: right;\n",
       "    }\n",
       "</style>\n",
       "<table border=\"1\" class=\"dataframe\">\n",
       "  <thead>\n",
       "    <tr style=\"text-align: right;\">\n",
       "      <th></th>\n",
       "      <th>user_id</th>\n",
       "      <th>assignment_date</th>\n",
       "      <th>express</th>\n",
       "      <th>loyalty</th>\n",
       "      <th>zip_code</th>\n",
       "      <th>address_type</th>\n",
       "      <th>experiment_group</th>\n",
       "      <th>grp_code</th>\n",
       "      <th>orders_placed</th>\n",
       "      <th>avg_order_value</th>\n",
       "      <th>total_spend</th>\n",
       "    </tr>\n",
       "  </thead>\n",
       "  <tbody>\n",
       "    <tr>\n",
       "      <th>0</th>\n",
       "      <td>1</td>\n",
       "      <td>2022-01-18</td>\n",
       "      <td>0</td>\n",
       "      <td>0</td>\n",
       "      <td>37214</td>\n",
       "      <td>Residential</td>\n",
       "      <td>variant 2 (VC $10 min)</td>\n",
       "      <td>v2</td>\n",
       "      <td>1</td>\n",
       "      <td>141.89</td>\n",
       "      <td>141.89</td>\n",
       "    </tr>\n",
       "    <tr>\n",
       "      <th>4</th>\n",
       "      <td>5</td>\n",
       "      <td>2022-02-06</td>\n",
       "      <td>0</td>\n",
       "      <td>0</td>\n",
       "      <td>37211</td>\n",
       "      <td>Residential</td>\n",
       "      <td>variant 2 (VC $10 min)</td>\n",
       "      <td>v2</td>\n",
       "      <td>1</td>\n",
       "      <td>58.21</td>\n",
       "      <td>58.21</td>\n",
       "    </tr>\n",
       "    <tr>\n",
       "      <th>6</th>\n",
       "      <td>7</td>\n",
       "      <td>2022-01-28</td>\n",
       "      <td>1</td>\n",
       "      <td>0</td>\n",
       "      <td>37209</td>\n",
       "      <td>Residential</td>\n",
       "      <td>variant 2 (VC $10 min)</td>\n",
       "      <td>v2</td>\n",
       "      <td>7</td>\n",
       "      <td>54.94</td>\n",
       "      <td>384.61</td>\n",
       "    </tr>\n",
       "    <tr>\n",
       "      <th>7</th>\n",
       "      <td>8</td>\n",
       "      <td>2022-02-01</td>\n",
       "      <td>1</td>\n",
       "      <td>0</td>\n",
       "      <td>37209</td>\n",
       "      <td>Residential</td>\n",
       "      <td>variant 2 (VC $10 min)</td>\n",
       "      <td>v2</td>\n",
       "      <td>1</td>\n",
       "      <td>175.93</td>\n",
       "      <td>175.93</td>\n",
       "    </tr>\n",
       "    <tr>\n",
       "      <th>12</th>\n",
       "      <td>13</td>\n",
       "      <td>2022-03-01</td>\n",
       "      <td>0</td>\n",
       "      <td>0</td>\n",
       "      <td>37211</td>\n",
       "      <td>Business</td>\n",
       "      <td>variant 2 (VC $10 min)</td>\n",
       "      <td>v2</td>\n",
       "      <td>0</td>\n",
       "      <td>0.00</td>\n",
       "      <td>0.00</td>\n",
       "    </tr>\n",
       "  </tbody>\n",
       "</table>\n",
       "</div>"
      ],
      "text/plain": [
       "    user_id assignment_date  express  loyalty  zip_code address_type  \\\n",
       "0         1      2022-01-18        0        0     37214  Residential   \n",
       "4         5      2022-02-06        0        0     37211  Residential   \n",
       "6         7      2022-01-28        1        0     37209  Residential   \n",
       "7         8      2022-02-01        1        0     37209  Residential   \n",
       "12       13      2022-03-01        0        0     37211     Business   \n",
       "\n",
       "          experiment_group grp_code  orders_placed  avg_order_value  \\\n",
       "0   variant 2 (VC $10 min)       v2              1           141.89   \n",
       "4   variant 2 (VC $10 min)       v2              1            58.21   \n",
       "6   variant 2 (VC $10 min)       v2              7            54.94   \n",
       "7   variant 2 (VC $10 min)       v2              1           175.93   \n",
       "12  variant 2 (VC $10 min)       v2              0             0.00   \n",
       "\n",
       "    total_spend  \n",
       "0        141.89  \n",
       "4         58.21  \n",
       "6        384.61  \n",
       "7        175.93  \n",
       "12         0.00  "
      ]
     },
     "execution_count": 127,
     "metadata": {},
     "output_type": "execute_result"
    }
   ],
   "source": [
    "variant_2_loyalty_0 = variant_2[variant_2[\"loyalty\"]==0]\n",
    "variant_2_loyalty_0.head()"
   ]
  },
  {
   "cell_type": "code",
   "execution_count": 128,
   "id": "34e97949-948e-4b17-bd47-4cbae305c4f9",
   "metadata": {},
   "outputs": [
    {
     "data": {
      "text/html": [
       "<div>\n",
       "<style scoped>\n",
       "    .dataframe tbody tr th:only-of-type {\n",
       "        vertical-align: middle;\n",
       "    }\n",
       "\n",
       "    .dataframe tbody tr th {\n",
       "        vertical-align: top;\n",
       "    }\n",
       "\n",
       "    .dataframe thead th {\n",
       "        text-align: right;\n",
       "    }\n",
       "</style>\n",
       "<table border=\"1\" class=\"dataframe\">\n",
       "  <thead>\n",
       "    <tr style=\"text-align: right;\">\n",
       "      <th></th>\n",
       "      <th>user_id</th>\n",
       "      <th>assignment_date</th>\n",
       "      <th>express</th>\n",
       "      <th>loyalty</th>\n",
       "      <th>zip_code</th>\n",
       "      <th>address_type</th>\n",
       "      <th>experiment_group</th>\n",
       "      <th>grp_code</th>\n",
       "      <th>orders_placed</th>\n",
       "      <th>avg_order_value</th>\n",
       "      <th>total_spend</th>\n",
       "    </tr>\n",
       "  </thead>\n",
       "  <tbody>\n",
       "    <tr>\n",
       "      <th>20</th>\n",
       "      <td>21</td>\n",
       "      <td>2022-02-08</td>\n",
       "      <td>1</td>\n",
       "      <td>1</td>\n",
       "      <td>37210</td>\n",
       "      <td>Residential</td>\n",
       "      <td>variant 2 (VC $10 min)</td>\n",
       "      <td>v2</td>\n",
       "      <td>5</td>\n",
       "      <td>72.44</td>\n",
       "      <td>362.22</td>\n",
       "    </tr>\n",
       "    <tr>\n",
       "      <th>52</th>\n",
       "      <td>53</td>\n",
       "      <td>2022-01-16</td>\n",
       "      <td>1</td>\n",
       "      <td>1</td>\n",
       "      <td>37221</td>\n",
       "      <td>Residential</td>\n",
       "      <td>variant 2 (VC $10 min)</td>\n",
       "      <td>v2</td>\n",
       "      <td>5</td>\n",
       "      <td>179.56</td>\n",
       "      <td>897.78</td>\n",
       "    </tr>\n",
       "    <tr>\n",
       "      <th>63</th>\n",
       "      <td>64</td>\n",
       "      <td>2022-01-20</td>\n",
       "      <td>0</td>\n",
       "      <td>1</td>\n",
       "      <td>37207</td>\n",
       "      <td>Residential</td>\n",
       "      <td>variant 2 (VC $10 min)</td>\n",
       "      <td>v2</td>\n",
       "      <td>1</td>\n",
       "      <td>182.25</td>\n",
       "      <td>182.25</td>\n",
       "    </tr>\n",
       "    <tr>\n",
       "      <th>66</th>\n",
       "      <td>67</td>\n",
       "      <td>2022-01-25</td>\n",
       "      <td>1</td>\n",
       "      <td>1</td>\n",
       "      <td>37206</td>\n",
       "      <td>Residential</td>\n",
       "      <td>variant 2 (VC $10 min)</td>\n",
       "      <td>v2</td>\n",
       "      <td>5</td>\n",
       "      <td>82.99</td>\n",
       "      <td>414.93</td>\n",
       "    </tr>\n",
       "    <tr>\n",
       "      <th>80</th>\n",
       "      <td>81</td>\n",
       "      <td>2022-02-12</td>\n",
       "      <td>1</td>\n",
       "      <td>1</td>\n",
       "      <td>37210</td>\n",
       "      <td>Residential</td>\n",
       "      <td>variant 2 (VC $10 min)</td>\n",
       "      <td>v2</td>\n",
       "      <td>2</td>\n",
       "      <td>189.61</td>\n",
       "      <td>379.21</td>\n",
       "    </tr>\n",
       "  </tbody>\n",
       "</table>\n",
       "</div>"
      ],
      "text/plain": [
       "    user_id assignment_date  express  loyalty  zip_code address_type  \\\n",
       "20       21      2022-02-08        1        1     37210  Residential   \n",
       "52       53      2022-01-16        1        1     37221  Residential   \n",
       "63       64      2022-01-20        0        1     37207  Residential   \n",
       "66       67      2022-01-25        1        1     37206  Residential   \n",
       "80       81      2022-02-12        1        1     37210  Residential   \n",
       "\n",
       "          experiment_group grp_code  orders_placed  avg_order_value  \\\n",
       "20  variant 2 (VC $10 min)       v2              5            72.44   \n",
       "52  variant 2 (VC $10 min)       v2              5           179.56   \n",
       "63  variant 2 (VC $10 min)       v2              1           182.25   \n",
       "66  variant 2 (VC $10 min)       v2              5            82.99   \n",
       "80  variant 2 (VC $10 min)       v2              2           189.61   \n",
       "\n",
       "    total_spend  \n",
       "20       362.22  \n",
       "52       897.78  \n",
       "63       182.25  \n",
       "66       414.93  \n",
       "80       379.21  "
      ]
     },
     "execution_count": 128,
     "metadata": {},
     "output_type": "execute_result"
    }
   ],
   "source": [
    "variant_2_loyalty_1 = variant_2[variant_2[\"loyalty\"]==1]\n",
    "variant_2_loyalty_1.head()"
   ]
  },
  {
   "cell_type": "code",
   "execution_count": 129,
   "id": "ad26c3e4-bdd2-4171-86a3-8fc41c7c105e",
   "metadata": {},
   "outputs": [
    {
     "data": {
      "text/html": [
       "<div>\n",
       "<style scoped>\n",
       "    .dataframe tbody tr th:only-of-type {\n",
       "        vertical-align: middle;\n",
       "    }\n",
       "\n",
       "    .dataframe tbody tr th {\n",
       "        vertical-align: top;\n",
       "    }\n",
       "\n",
       "    .dataframe thead th {\n",
       "        text-align: right;\n",
       "    }\n",
       "</style>\n",
       "<table border=\"1\" class=\"dataframe\">\n",
       "  <thead>\n",
       "    <tr style=\"text-align: right;\">\n",
       "      <th></th>\n",
       "      <th>user_id</th>\n",
       "      <th>assignment_date</th>\n",
       "      <th>express</th>\n",
       "      <th>loyalty</th>\n",
       "      <th>zip_code</th>\n",
       "      <th>address_type</th>\n",
       "      <th>experiment_group</th>\n",
       "      <th>grp_code</th>\n",
       "      <th>orders_placed</th>\n",
       "      <th>avg_order_value</th>\n",
       "      <th>total_spend</th>\n",
       "    </tr>\n",
       "  </thead>\n",
       "  <tbody>\n",
       "    <tr>\n",
       "      <th>63</th>\n",
       "      <td>64</td>\n",
       "      <td>2022-01-20</td>\n",
       "      <td>0</td>\n",
       "      <td>1</td>\n",
       "      <td>37207</td>\n",
       "      <td>Residential</td>\n",
       "      <td>variant 2 (VC $10 min)</td>\n",
       "      <td>v2</td>\n",
       "      <td>1</td>\n",
       "      <td>182.25</td>\n",
       "      <td>182.25</td>\n",
       "    </tr>\n",
       "    <tr>\n",
       "      <th>326</th>\n",
       "      <td>327</td>\n",
       "      <td>2022-01-18</td>\n",
       "      <td>0</td>\n",
       "      <td>1</td>\n",
       "      <td>37221</td>\n",
       "      <td>Residential</td>\n",
       "      <td>variant 2 (VC $10 min)</td>\n",
       "      <td>v2</td>\n",
       "      <td>5</td>\n",
       "      <td>134.37</td>\n",
       "      <td>671.84</td>\n",
       "    </tr>\n",
       "    <tr>\n",
       "      <th>367</th>\n",
       "      <td>368</td>\n",
       "      <td>2022-02-12</td>\n",
       "      <td>0</td>\n",
       "      <td>1</td>\n",
       "      <td>37207</td>\n",
       "      <td>Residential</td>\n",
       "      <td>variant 2 (VC $10 min)</td>\n",
       "      <td>v2</td>\n",
       "      <td>1</td>\n",
       "      <td>89.14</td>\n",
       "      <td>89.14</td>\n",
       "    </tr>\n",
       "    <tr>\n",
       "      <th>395</th>\n",
       "      <td>396</td>\n",
       "      <td>2022-02-09</td>\n",
       "      <td>0</td>\n",
       "      <td>1</td>\n",
       "      <td>37212</td>\n",
       "      <td>Residential</td>\n",
       "      <td>variant 2 (VC $10 min)</td>\n",
       "      <td>v2</td>\n",
       "      <td>3</td>\n",
       "      <td>174.63</td>\n",
       "      <td>523.90</td>\n",
       "    </tr>\n",
       "    <tr>\n",
       "      <th>469</th>\n",
       "      <td>470</td>\n",
       "      <td>2022-02-15</td>\n",
       "      <td>0</td>\n",
       "      <td>1</td>\n",
       "      <td>37206</td>\n",
       "      <td>Residential</td>\n",
       "      <td>variant 2 (VC $10 min)</td>\n",
       "      <td>v2</td>\n",
       "      <td>2</td>\n",
       "      <td>209.96</td>\n",
       "      <td>419.92</td>\n",
       "    </tr>\n",
       "  </tbody>\n",
       "</table>\n",
       "</div>"
      ],
      "text/plain": [
       "     user_id assignment_date  express  loyalty  zip_code address_type  \\\n",
       "63        64      2022-01-20        0        1     37207  Residential   \n",
       "326      327      2022-01-18        0        1     37221  Residential   \n",
       "367      368      2022-02-12        0        1     37207  Residential   \n",
       "395      396      2022-02-09        0        1     37212  Residential   \n",
       "469      470      2022-02-15        0        1     37206  Residential   \n",
       "\n",
       "           experiment_group grp_code  orders_placed  avg_order_value  \\\n",
       "63   variant 2 (VC $10 min)       v2              1           182.25   \n",
       "326  variant 2 (VC $10 min)       v2              5           134.37   \n",
       "367  variant 2 (VC $10 min)       v2              1            89.14   \n",
       "395  variant 2 (VC $10 min)       v2              3           174.63   \n",
       "469  variant 2 (VC $10 min)       v2              2           209.96   \n",
       "\n",
       "     total_spend  \n",
       "63        182.25  \n",
       "326       671.84  \n",
       "367        89.14  \n",
       "395       523.90  \n",
       "469       419.92  "
      ]
     },
     "execution_count": 129,
     "metadata": {},
     "output_type": "execute_result"
    }
   ],
   "source": [
    "variant_2_express_0_loyalty_1 = variant_2_express_0[variant_2_express_0[\"loyalty\"]== 1]\n",
    "variant_2_express_0_loyalty_1.head()"
   ]
  },
  {
   "cell_type": "code",
   "execution_count": 130,
   "id": "c0d1570f-f79b-49f5-92dc-b6c9e79a7390",
   "metadata": {},
   "outputs": [
    {
     "data": {
      "text/html": [
       "<div>\n",
       "<style scoped>\n",
       "    .dataframe tbody tr th:only-of-type {\n",
       "        vertical-align: middle;\n",
       "    }\n",
       "\n",
       "    .dataframe tbody tr th {\n",
       "        vertical-align: top;\n",
       "    }\n",
       "\n",
       "    .dataframe thead th {\n",
       "        text-align: right;\n",
       "    }\n",
       "</style>\n",
       "<table border=\"1\" class=\"dataframe\">\n",
       "  <thead>\n",
       "    <tr style=\"text-align: right;\">\n",
       "      <th></th>\n",
       "      <th>user_id</th>\n",
       "      <th>assignment_date</th>\n",
       "      <th>express</th>\n",
       "      <th>loyalty</th>\n",
       "      <th>zip_code</th>\n",
       "      <th>address_type</th>\n",
       "      <th>experiment_group</th>\n",
       "      <th>grp_code</th>\n",
       "      <th>orders_placed</th>\n",
       "      <th>avg_order_value</th>\n",
       "      <th>total_spend</th>\n",
       "    </tr>\n",
       "  </thead>\n",
       "  <tbody>\n",
       "    <tr>\n",
       "      <th>0</th>\n",
       "      <td>1</td>\n",
       "      <td>2022-01-18</td>\n",
       "      <td>0</td>\n",
       "      <td>0</td>\n",
       "      <td>37214</td>\n",
       "      <td>Residential</td>\n",
       "      <td>variant 2 (VC $10 min)</td>\n",
       "      <td>v2</td>\n",
       "      <td>1</td>\n",
       "      <td>141.89</td>\n",
       "      <td>141.89</td>\n",
       "    </tr>\n",
       "    <tr>\n",
       "      <th>4</th>\n",
       "      <td>5</td>\n",
       "      <td>2022-02-06</td>\n",
       "      <td>0</td>\n",
       "      <td>0</td>\n",
       "      <td>37211</td>\n",
       "      <td>Residential</td>\n",
       "      <td>variant 2 (VC $10 min)</td>\n",
       "      <td>v2</td>\n",
       "      <td>1</td>\n",
       "      <td>58.21</td>\n",
       "      <td>58.21</td>\n",
       "    </tr>\n",
       "    <tr>\n",
       "      <th>12</th>\n",
       "      <td>13</td>\n",
       "      <td>2022-03-01</td>\n",
       "      <td>0</td>\n",
       "      <td>0</td>\n",
       "      <td>37211</td>\n",
       "      <td>Business</td>\n",
       "      <td>variant 2 (VC $10 min)</td>\n",
       "      <td>v2</td>\n",
       "      <td>0</td>\n",
       "      <td>0.00</td>\n",
       "      <td>0.00</td>\n",
       "    </tr>\n",
       "    <tr>\n",
       "      <th>15</th>\n",
       "      <td>16</td>\n",
       "      <td>2022-01-23</td>\n",
       "      <td>0</td>\n",
       "      <td>0</td>\n",
       "      <td>37217</td>\n",
       "      <td>Residential</td>\n",
       "      <td>variant 2 (VC $10 min)</td>\n",
       "      <td>v2</td>\n",
       "      <td>4</td>\n",
       "      <td>193.39</td>\n",
       "      <td>773.55</td>\n",
       "    </tr>\n",
       "    <tr>\n",
       "      <th>22</th>\n",
       "      <td>23</td>\n",
       "      <td>2022-02-20</td>\n",
       "      <td>0</td>\n",
       "      <td>0</td>\n",
       "      <td>37216</td>\n",
       "      <td>Residential</td>\n",
       "      <td>variant 2 (VC $10 min)</td>\n",
       "      <td>v2</td>\n",
       "      <td>0</td>\n",
       "      <td>0.00</td>\n",
       "      <td>0.00</td>\n",
       "    </tr>\n",
       "  </tbody>\n",
       "</table>\n",
       "</div>"
      ],
      "text/plain": [
       "    user_id assignment_date  express  loyalty  zip_code address_type  \\\n",
       "0         1      2022-01-18        0        0     37214  Residential   \n",
       "4         5      2022-02-06        0        0     37211  Residential   \n",
       "12       13      2022-03-01        0        0     37211     Business   \n",
       "15       16      2022-01-23        0        0     37217  Residential   \n",
       "22       23      2022-02-20        0        0     37216  Residential   \n",
       "\n",
       "          experiment_group grp_code  orders_placed  avg_order_value  \\\n",
       "0   variant 2 (VC $10 min)       v2              1           141.89   \n",
       "4   variant 2 (VC $10 min)       v2              1            58.21   \n",
       "12  variant 2 (VC $10 min)       v2              0             0.00   \n",
       "15  variant 2 (VC $10 min)       v2              4           193.39   \n",
       "22  variant 2 (VC $10 min)       v2              0             0.00   \n",
       "\n",
       "    total_spend  \n",
       "0        141.89  \n",
       "4         58.21  \n",
       "12         0.00  \n",
       "15       773.55  \n",
       "22         0.00  "
      ]
     },
     "execution_count": 130,
     "metadata": {},
     "output_type": "execute_result"
    }
   ],
   "source": [
    "variant_2_express_0_loyalty_0 = variant_2_express_0[variant_2_express_0[\"express\"]== 0]\n",
    "variant_2_express_0_loyalty_0.head()"
   ]
  },
  {
   "cell_type": "code",
   "execution_count": 131,
   "id": "7ae61eb4-1964-4a2f-9cce-a67d31a5a90e",
   "metadata": {},
   "outputs": [
    {
     "data": {
      "text/html": [
       "<div>\n",
       "<style scoped>\n",
       "    .dataframe tbody tr th:only-of-type {\n",
       "        vertical-align: middle;\n",
       "    }\n",
       "\n",
       "    .dataframe tbody tr th {\n",
       "        vertical-align: top;\n",
       "    }\n",
       "\n",
       "    .dataframe thead th {\n",
       "        text-align: right;\n",
       "    }\n",
       "</style>\n",
       "<table border=\"1\" class=\"dataframe\">\n",
       "  <thead>\n",
       "    <tr style=\"text-align: right;\">\n",
       "      <th></th>\n",
       "      <th>user_id</th>\n",
       "      <th>assignment_date</th>\n",
       "      <th>express</th>\n",
       "      <th>loyalty</th>\n",
       "      <th>zip_code</th>\n",
       "      <th>address_type</th>\n",
       "      <th>experiment_group</th>\n",
       "      <th>grp_code</th>\n",
       "      <th>orders_placed</th>\n",
       "      <th>avg_order_value</th>\n",
       "      <th>total_spend</th>\n",
       "    </tr>\n",
       "  </thead>\n",
       "  <tbody>\n",
       "    <tr>\n",
       "      <th>6</th>\n",
       "      <td>7</td>\n",
       "      <td>2022-01-28</td>\n",
       "      <td>1</td>\n",
       "      <td>0</td>\n",
       "      <td>37209</td>\n",
       "      <td>Residential</td>\n",
       "      <td>variant 2 (VC $10 min)</td>\n",
       "      <td>v2</td>\n",
       "      <td>7</td>\n",
       "      <td>54.94</td>\n",
       "      <td>384.61</td>\n",
       "    </tr>\n",
       "    <tr>\n",
       "      <th>7</th>\n",
       "      <td>8</td>\n",
       "      <td>2022-02-01</td>\n",
       "      <td>1</td>\n",
       "      <td>0</td>\n",
       "      <td>37209</td>\n",
       "      <td>Residential</td>\n",
       "      <td>variant 2 (VC $10 min)</td>\n",
       "      <td>v2</td>\n",
       "      <td>1</td>\n",
       "      <td>175.93</td>\n",
       "      <td>175.93</td>\n",
       "    </tr>\n",
       "    <tr>\n",
       "      <th>25</th>\n",
       "      <td>26</td>\n",
       "      <td>2022-02-25</td>\n",
       "      <td>1</td>\n",
       "      <td>0</td>\n",
       "      <td>37215</td>\n",
       "      <td>Residential</td>\n",
       "      <td>variant 2 (VC $10 min)</td>\n",
       "      <td>v2</td>\n",
       "      <td>0</td>\n",
       "      <td>0.00</td>\n",
       "      <td>0.00</td>\n",
       "    </tr>\n",
       "    <tr>\n",
       "      <th>35</th>\n",
       "      <td>36</td>\n",
       "      <td>2022-02-21</td>\n",
       "      <td>1</td>\n",
       "      <td>0</td>\n",
       "      <td>37212</td>\n",
       "      <td>Residential</td>\n",
       "      <td>variant 2 (VC $10 min)</td>\n",
       "      <td>v2</td>\n",
       "      <td>0</td>\n",
       "      <td>0.00</td>\n",
       "      <td>0.00</td>\n",
       "    </tr>\n",
       "    <tr>\n",
       "      <th>37</th>\n",
       "      <td>38</td>\n",
       "      <td>2022-02-11</td>\n",
       "      <td>1</td>\n",
       "      <td>0</td>\n",
       "      <td>37203</td>\n",
       "      <td>Residential</td>\n",
       "      <td>variant 2 (VC $10 min)</td>\n",
       "      <td>v2</td>\n",
       "      <td>1</td>\n",
       "      <td>170.32</td>\n",
       "      <td>170.32</td>\n",
       "    </tr>\n",
       "  </tbody>\n",
       "</table>\n",
       "</div>"
      ],
      "text/plain": [
       "    user_id assignment_date  express  loyalty  zip_code address_type  \\\n",
       "6         7      2022-01-28        1        0     37209  Residential   \n",
       "7         8      2022-02-01        1        0     37209  Residential   \n",
       "25       26      2022-02-25        1        0     37215  Residential   \n",
       "35       36      2022-02-21        1        0     37212  Residential   \n",
       "37       38      2022-02-11        1        0     37203  Residential   \n",
       "\n",
       "          experiment_group grp_code  orders_placed  avg_order_value  \\\n",
       "6   variant 2 (VC $10 min)       v2              7            54.94   \n",
       "7   variant 2 (VC $10 min)       v2              1           175.93   \n",
       "25  variant 2 (VC $10 min)       v2              0             0.00   \n",
       "35  variant 2 (VC $10 min)       v2              0             0.00   \n",
       "37  variant 2 (VC $10 min)       v2              1           170.32   \n",
       "\n",
       "    total_spend  \n",
       "6        384.61  \n",
       "7        175.93  \n",
       "25         0.00  \n",
       "35         0.00  \n",
       "37       170.32  "
      ]
     },
     "execution_count": 131,
     "metadata": {},
     "output_type": "execute_result"
    }
   ],
   "source": [
    "variant_2_express_1_loyalty_0 = variant_2_express_1[variant_2_express_1[\"loyalty\"]== 0]\n",
    "variant_2_express_1_loyalty_0.head()"
   ]
  },
  {
   "cell_type": "code",
   "execution_count": 132,
   "id": "bf4bc2fb-7057-40bd-8622-37d7d48a3c76",
   "metadata": {},
   "outputs": [
    {
     "data": {
      "text/html": [
       "<div>\n",
       "<style scoped>\n",
       "    .dataframe tbody tr th:only-of-type {\n",
       "        vertical-align: middle;\n",
       "    }\n",
       "\n",
       "    .dataframe tbody tr th {\n",
       "        vertical-align: top;\n",
       "    }\n",
       "\n",
       "    .dataframe thead th {\n",
       "        text-align: right;\n",
       "    }\n",
       "</style>\n",
       "<table border=\"1\" class=\"dataframe\">\n",
       "  <thead>\n",
       "    <tr style=\"text-align: right;\">\n",
       "      <th></th>\n",
       "      <th>user_id</th>\n",
       "      <th>assignment_date</th>\n",
       "      <th>express</th>\n",
       "      <th>loyalty</th>\n",
       "      <th>zip_code</th>\n",
       "      <th>address_type</th>\n",
       "      <th>experiment_group</th>\n",
       "      <th>grp_code</th>\n",
       "      <th>orders_placed</th>\n",
       "      <th>avg_order_value</th>\n",
       "      <th>total_spend</th>\n",
       "    </tr>\n",
       "  </thead>\n",
       "  <tbody>\n",
       "    <tr>\n",
       "      <th>20</th>\n",
       "      <td>21</td>\n",
       "      <td>2022-02-08</td>\n",
       "      <td>1</td>\n",
       "      <td>1</td>\n",
       "      <td>37210</td>\n",
       "      <td>Residential</td>\n",
       "      <td>variant 2 (VC $10 min)</td>\n",
       "      <td>v2</td>\n",
       "      <td>5</td>\n",
       "      <td>72.44</td>\n",
       "      <td>362.22</td>\n",
       "    </tr>\n",
       "    <tr>\n",
       "      <th>52</th>\n",
       "      <td>53</td>\n",
       "      <td>2022-01-16</td>\n",
       "      <td>1</td>\n",
       "      <td>1</td>\n",
       "      <td>37221</td>\n",
       "      <td>Residential</td>\n",
       "      <td>variant 2 (VC $10 min)</td>\n",
       "      <td>v2</td>\n",
       "      <td>5</td>\n",
       "      <td>179.56</td>\n",
       "      <td>897.78</td>\n",
       "    </tr>\n",
       "    <tr>\n",
       "      <th>66</th>\n",
       "      <td>67</td>\n",
       "      <td>2022-01-25</td>\n",
       "      <td>1</td>\n",
       "      <td>1</td>\n",
       "      <td>37206</td>\n",
       "      <td>Residential</td>\n",
       "      <td>variant 2 (VC $10 min)</td>\n",
       "      <td>v2</td>\n",
       "      <td>5</td>\n",
       "      <td>82.99</td>\n",
       "      <td>414.93</td>\n",
       "    </tr>\n",
       "    <tr>\n",
       "      <th>80</th>\n",
       "      <td>81</td>\n",
       "      <td>2022-02-12</td>\n",
       "      <td>1</td>\n",
       "      <td>1</td>\n",
       "      <td>37210</td>\n",
       "      <td>Residential</td>\n",
       "      <td>variant 2 (VC $10 min)</td>\n",
       "      <td>v2</td>\n",
       "      <td>2</td>\n",
       "      <td>189.61</td>\n",
       "      <td>379.21</td>\n",
       "    </tr>\n",
       "    <tr>\n",
       "      <th>100</th>\n",
       "      <td>101</td>\n",
       "      <td>2022-02-17</td>\n",
       "      <td>1</td>\n",
       "      <td>1</td>\n",
       "      <td>37207</td>\n",
       "      <td>Residential</td>\n",
       "      <td>variant 2 (VC $10 min)</td>\n",
       "      <td>v2</td>\n",
       "      <td>0</td>\n",
       "      <td>0.00</td>\n",
       "      <td>0.00</td>\n",
       "    </tr>\n",
       "  </tbody>\n",
       "</table>\n",
       "</div>"
      ],
      "text/plain": [
       "     user_id assignment_date  express  loyalty  zip_code address_type  \\\n",
       "20        21      2022-02-08        1        1     37210  Residential   \n",
       "52        53      2022-01-16        1        1     37221  Residential   \n",
       "66        67      2022-01-25        1        1     37206  Residential   \n",
       "80        81      2022-02-12        1        1     37210  Residential   \n",
       "100      101      2022-02-17        1        1     37207  Residential   \n",
       "\n",
       "           experiment_group grp_code  orders_placed  avg_order_value  \\\n",
       "20   variant 2 (VC $10 min)       v2              5            72.44   \n",
       "52   variant 2 (VC $10 min)       v2              5           179.56   \n",
       "66   variant 2 (VC $10 min)       v2              5            82.99   \n",
       "80   variant 2 (VC $10 min)       v2              2           189.61   \n",
       "100  variant 2 (VC $10 min)       v2              0             0.00   \n",
       "\n",
       "     total_spend  \n",
       "20        362.22  \n",
       "52        897.78  \n",
       "66        414.93  \n",
       "80        379.21  \n",
       "100         0.00  "
      ]
     },
     "execution_count": 132,
     "metadata": {},
     "output_type": "execute_result"
    }
   ],
   "source": [
    "variant_2_express_1_loyalty_1 = variant_2_express_1[variant_2_express_1[\"loyalty\"]== 1]\n",
    "variant_2_express_1_loyalty_1.head()"
   ]
  },
  {
   "cell_type": "markdown",
   "id": "3352b2a9-843d-4638-aed3-33112c01e031",
   "metadata": {},
   "source": [
    "# control_o_the_control_group Total spend"
   ]
  },
  {
   "cell_type": "markdown",
   "id": "9ce3e402-9ff7-4611-8a52-cd541b9bd9e4",
   "metadata": {},
   "source": [
    "#### total_spend of those in express group and also in the two both (loyalty group and not loyalty group)"
   ]
  },
  {
   "cell_type": "code",
   "execution_count": 133,
   "id": "317d8e92-078e-4fa6-bc17-01ce7dbb1799",
   "metadata": {},
   "outputs": [
    {
     "data": {
      "text/plain": [
       "5893788.359999999"
      ]
     },
     "execution_count": 133,
     "metadata": {},
     "output_type": "execute_result"
    }
   ],
   "source": [
    "control_o_the_control_group_express_1_total_spend = control_o_the_control_group_express_1[\"total_spend\"].sum()\n",
    "control_o_the_control_group_express_1_total_spend"
   ]
  },
  {
   "cell_type": "markdown",
   "id": "e755095a-6089-45d8-9655-580f46282587",
   "metadata": {},
   "source": [
    "#### total_spend of those not belonging to express group, but belonging to the (loyalty group and not loyalty group) "
   ]
  },
  {
   "cell_type": "code",
   "execution_count": 134,
   "id": "81fb7576-24b2-4489-b89c-ab28062c6c6e",
   "metadata": {},
   "outputs": [
    {
     "data": {
      "text/plain": [
       "2764582.01"
      ]
     },
     "execution_count": 134,
     "metadata": {},
     "output_type": "execute_result"
    }
   ],
   "source": [
    "control_o_the_control_group_express_0_total_spend = control_o_the_control_group_express_0[\"total_spend\"].sum()\n",
    "control_o_the_control_group_express_0_total_spend"
   ]
  },
  {
   "cell_type": "markdown",
   "id": "0d42ea7e-bfe7-49b6-8a0e-37a60eeec9cf",
   "metadata": {},
   "source": [
    "#### total_spend of those in loyalty group and also in the two both (express group and not express group)"
   ]
  },
  {
   "cell_type": "code",
   "execution_count": 135,
   "id": "fe9965ab-0045-4f6e-a6c3-2e7e282e4222",
   "metadata": {},
   "outputs": [
    {
     "data": {
      "text/plain": [
       "2229027.13"
      ]
     },
     "execution_count": 135,
     "metadata": {},
     "output_type": "execute_result"
    }
   ],
   "source": [
    "control_o_the_control_group_loyalty_1_total_spend = control_o_the_control_group_loyalty_1[\"total_spend\"].sum()\n",
    "control_o_the_control_group_loyalty_1_total_spend"
   ]
  },
  {
   "cell_type": "markdown",
   "id": "e8434d95-0ce7-4199-8262-f1242f190158",
   "metadata": {},
   "source": [
    "#### total_spend of those not belonging to loyalty group but belonging to the (express group and not express group) "
   ]
  },
  {
   "cell_type": "code",
   "execution_count": 136,
   "id": "18c1adeb-4552-4f54-8388-d473485fd098",
   "metadata": {},
   "outputs": [
    {
     "data": {
      "text/plain": [
       "6429343.239999999"
      ]
     },
     "execution_count": 136,
     "metadata": {},
     "output_type": "execute_result"
    }
   ],
   "source": [
    "control_o_the_control_group_loyalty_0_total_spend = control_o_the_control_group_loyalty_0[\"total_spend\"].sum()\n",
    "control_o_the_control_group_loyalty_0_total_spend"
   ]
  },
  {
   "cell_type": "markdown",
   "id": "b8abd160-4741-4e25-8bc4-1dde42ffcee4",
   "metadata": {},
   "source": [
    "#### total_spend of those in express group but not in loyalty group "
   ]
  },
  {
   "cell_type": "code",
   "execution_count": 201,
   "id": "cc2846ee-aec0-43f8-9fb4-26ab957ebad3",
   "metadata": {},
   "outputs": [
    {
     "data": {
      "text/plain": [
       "4216195.89"
      ]
     },
     "execution_count": 201,
     "metadata": {},
     "output_type": "execute_result"
    }
   ],
   "source": [
    "control_o_the_control_group_express_1_loyalty_0_total_spend = control_o_the_control_group_express_1_loyalty_0[\"total_spend\"].sum()\n",
    "control_o_the_control_group_express_1_loyalty_0_total_spend"
   ]
  },
  {
   "cell_type": "markdown",
   "id": "bfc3b7eb-683c-49d3-9afe-c72498d46d02",
   "metadata": {},
   "source": [
    "#### total_spend of those in loyalty group but not in express group"
   ]
  },
  {
   "cell_type": "code",
   "execution_count": 139,
   "id": "4f14d853-5784-4357-9bbd-58ae23a361a4",
   "metadata": {},
   "outputs": [
    {
     "data": {
      "text/plain": [
       "551434.6599999999"
      ]
     },
     "execution_count": 139,
     "metadata": {},
     "output_type": "execute_result"
    }
   ],
   "source": [
    "control_o_the_control_group_express_0_loyalty_1_total_spend = control_o_the_control_group_express_0_loyalty_1[\"total_spend\"].sum()\n",
    "control_o_the_control_group_express_0_loyalty_1_total_spend"
   ]
  },
  {
   "cell_type": "markdown",
   "id": "607a1476-dd8c-498c-bfa3-d2c089c04986",
   "metadata": {},
   "source": [
    "#### total_spend of those in loyalty group and also in express group "
   ]
  },
  {
   "cell_type": "code",
   "execution_count": 140,
   "id": "6a8f0b72-96b8-4b61-96f2-be3ab26f784f",
   "metadata": {},
   "outputs": [
    {
     "data": {
      "text/plain": [
       "1677592.4700000002"
      ]
     },
     "execution_count": 140,
     "metadata": {},
     "output_type": "execute_result"
    }
   ],
   "source": [
    "control_o_the_control_group_express_1_loyalty_1_total_spend = control_o_the_control_group_express_1_loyalty_1[\"total_spend\"].sum()\n",
    "control_o_the_control_group_express_1_loyalty_1_total_spend"
   ]
  },
  {
   "cell_type": "markdown",
   "id": "0c320fd2-9b87-4932-9f81-a03ce34ba90c",
   "metadata": {},
   "source": [
    "#### total_spend of those not belonging to loyalty group and express group "
   ]
  },
  {
   "cell_type": "code",
   "execution_count": 141,
   "id": "b801f46d-7736-4a8f-b0cb-d06627fd77e8",
   "metadata": {
    "scrolled": true
   },
   "outputs": [
    {
     "data": {
      "text/plain": [
       "2213147.3499999996"
      ]
     },
     "execution_count": 141,
     "metadata": {},
     "output_type": "execute_result"
    }
   ],
   "source": [
    "control_o_the_control_group_express_0_loyalty_0_total_spend = control_o_the_control_group_express_0_loyalty_0[\"total_spend\"].sum()\n",
    "control_o_the_control_group_express_0_loyalty_0_total_spend"
   ]
  },
  {
   "cell_type": "code",
   "execution_count": 172,
   "id": "b8dad82e-9308-4555-98d6-362b7af326ae",
   "metadata": {},
   "outputs": [
    {
     "data": {
      "text/plain": [
       "array(['Residential', 'Business'], dtype=object)"
      ]
     },
     "execution_count": 172,
     "metadata": {},
     "output_type": "execute_result"
    }
   ],
   "source": [
    "control_o_the_control_group_express_1['address_type'].unique()"
   ]
  },
  {
   "cell_type": "code",
   "execution_count": 175,
   "id": "3fd142c2-b4cf-48b8-b9c4-4bb5b4bd626b",
   "metadata": {},
   "outputs": [],
   "source": [
    "## Residential with express group"
   ]
  },
  {
   "cell_type": "code",
   "execution_count": 174,
   "id": "debf25c9-c574-479c-b03b-8d4cb05296dc",
   "metadata": {},
   "outputs": [
    {
     "data": {
      "text/plain": [
       "5420314.02"
      ]
     },
     "execution_count": 174,
     "metadata": {},
     "output_type": "execute_result"
    }
   ],
   "source": [
    "control_o_the_control_group_express_1_Residential = control_o_the_control_group_express_1[control_o_the_control_group_express_1['address_type']=='Residential']\n",
    "control_o_the_control_group_express_1_Residential_total_spend = control_o_the_control_group_express_1_Residential[\"total_spend\"].sum()\n",
    "control_o_the_control_group_express_1_Residential_total_spend"
   ]
  },
  {
   "cell_type": "code",
   "execution_count": 176,
   "id": "c7db08c0-792c-4ef6-b650-162110d47a38",
   "metadata": {},
   "outputs": [],
   "source": [
    "## Residential without express group"
   ]
  },
  {
   "cell_type": "code",
   "execution_count": 177,
   "id": "a06c53b3-965f-4f9c-831b-329fafc8efb6",
   "metadata": {},
   "outputs": [
    {
     "data": {
      "text/plain": [
       "2551265.1500000004"
      ]
     },
     "execution_count": 177,
     "metadata": {},
     "output_type": "execute_result"
    }
   ],
   "source": [
    "control_o_the_control_group_express_0_Residential = control_o_the_control_group_express_0[control_o_the_control_group_express_0['address_type']=='Residential']\n",
    "control_o_the_control_group_express_0_Residential_total_spend = control_o_the_control_group_express_0_Residential[\"total_spend\"].sum()\n",
    "control_o_the_control_group_express_0_Residential_total_spend"
   ]
  },
  {
   "cell_type": "code",
   "execution_count": 179,
   "id": "256c131d-ecd3-4bf7-bcdb-69f23ab18528",
   "metadata": {},
   "outputs": [],
   "source": [
    "## Residential with Loyalty  group"
   ]
  },
  {
   "cell_type": "code",
   "execution_count": 180,
   "id": "70f9e54f-5da4-4366-aaea-34dc04aa7140",
   "metadata": {},
   "outputs": [
    {
     "data": {
      "text/plain": [
       "2050255.83"
      ]
     },
     "execution_count": 180,
     "metadata": {},
     "output_type": "execute_result"
    }
   ],
   "source": [
    "control_o_the_control_group_loyalty_1_Residential = control_o_the_control_group_loyalty_1[control_o_the_control_group_loyalty_1['address_type']=='Residential']\n",
    "control_o_the_control_group_loyalty_1_Residential_total_spend = control_o_the_control_group_loyalty_1_Residential[\"total_spend\"].sum()\n",
    "control_o_the_control_group_loyalty_1_Residential_total_spend"
   ]
  },
  {
   "cell_type": "code",
   "execution_count": 181,
   "id": "5a68e06b-9ea0-4b8a-ba12-f288a2d904a1",
   "metadata": {},
   "outputs": [],
   "source": [
    "## Residential without Loyalty  group"
   ]
  },
  {
   "cell_type": "code",
   "execution_count": 182,
   "id": "627ac335-0fa3-4ac9-ad8a-a4dbb640bc33",
   "metadata": {},
   "outputs": [
    {
     "data": {
      "text/plain": [
       "5921323.340000001"
      ]
     },
     "execution_count": 182,
     "metadata": {},
     "output_type": "execute_result"
    }
   ],
   "source": [
    "control_o_the_control_group_loyalty_0_Residential = control_o_the_control_group_loyalty_0[control_o_the_control_group_loyalty_0['address_type']=='Residential']\n",
    "control_o_the_control_group_loyalty_0_Residential_total_spend = control_o_the_control_group_loyalty_0_Residential[\"total_spend\"].sum()\n",
    "control_o_the_control_group_loyalty_0_Residential_total_spend"
   ]
  },
  {
   "cell_type": "code",
   "execution_count": 183,
   "id": "1d2b1727-b4d7-4d5c-9790-c37fb9946afa",
   "metadata": {},
   "outputs": [],
   "source": [
    "## Business with express group"
   ]
  },
  {
   "cell_type": "code",
   "execution_count": 184,
   "id": "5acd0021-b4f8-46ae-b03e-0dc951015b0b",
   "metadata": {},
   "outputs": [
    {
     "data": {
      "text/plain": [
       "473474.33999999997"
      ]
     },
     "execution_count": 184,
     "metadata": {},
     "output_type": "execute_result"
    }
   ],
   "source": [
    "control_o_the_control_group_express_1_Business = control_o_the_control_group_express_1[control_o_the_control_group_express_1['address_type']=='Business']\n",
    "control_o_the_control_group_express_1_Business_total_spend = control_o_the_control_group_express_1_Business[\"total_spend\"].sum()\n",
    "control_o_the_control_group_express_1_Business_total_spend"
   ]
  },
  {
   "cell_type": "markdown",
   "id": "1b3302fb-316f-4337-9d6a-289e7c67909c",
   "metadata": {},
   "source": [
    "## variant_1 Experiment 2"
   ]
  },
  {
   "cell_type": "markdown",
   "id": "10b899e4-f859-4a1f-b64a-db7e93e9592d",
   "metadata": {},
   "source": [
    "#### total_spend of those in express group and also in the two both (loyalty group and not loyalty group)"
   ]
  },
  {
   "cell_type": "code",
   "execution_count": 143,
   "id": "8c4253d0-27e8-48ed-9aee-dd5ff44b7181",
   "metadata": {},
   "outputs": [
    {
     "data": {
      "text/plain": [
       "2991486.01"
      ]
     },
     "execution_count": 143,
     "metadata": {},
     "output_type": "execute_result"
    }
   ],
   "source": [
    "variant_1_express_1_total_spend = variant_1_express_1[\"total_spend\"].sum()\n",
    "variant_1_express_1_total_spend"
   ]
  },
  {
   "cell_type": "markdown",
   "id": "f32cd820-b3c1-4160-b27c-0030e534efad",
   "metadata": {},
   "source": [
    "#### total_spend of those not belonging to express group, but belonging to the (loyalty group and not loyalty group) "
   ]
  },
  {
   "cell_type": "code",
   "execution_count": 144,
   "id": "e440ca93-73c4-454d-9b50-bf20c9f23f15",
   "metadata": {},
   "outputs": [
    {
     "data": {
      "text/plain": [
       "1470256.45"
      ]
     },
     "execution_count": 144,
     "metadata": {},
     "output_type": "execute_result"
    }
   ],
   "source": [
    "variant_1_express_0_total_spend = variant_1_express_0[\"total_spend\"].sum()\n",
    "variant_1_express_0_total_spend"
   ]
  },
  {
   "cell_type": "markdown",
   "id": "8720fda0-1f78-4925-9a5a-23143397bdac",
   "metadata": {},
   "source": [
    "#### total_spend of those in loyalty group and also in the two both (express group and not express group)"
   ]
  },
  {
   "cell_type": "code",
   "execution_count": 145,
   "id": "ad535f2c-32c1-48b7-b49c-e485bc239034",
   "metadata": {},
   "outputs": [
    {
     "data": {
      "text/plain": [
       "1070832.76"
      ]
     },
     "execution_count": 145,
     "metadata": {},
     "output_type": "execute_result"
    }
   ],
   "source": [
    "variant_1_loyalty_1_total_spend = variant_1_loyalty_1[\"total_spend\"].sum()\n",
    "variant_1_loyalty_1_total_spend"
   ]
  },
  {
   "cell_type": "markdown",
   "id": "f8c1e987-c5da-49ad-b4ce-b342f40c8816",
   "metadata": {},
   "source": [
    "#### total_spend of those not belonging to loyalty group but belonging to the (express group and not express group) "
   ]
  },
  {
   "cell_type": "code",
   "execution_count": 146,
   "id": "9e50b937-a850-4137-8109-4d8429426f25",
   "metadata": {},
   "outputs": [
    {
     "data": {
      "text/plain": [
       "3390909.7"
      ]
     },
     "execution_count": 146,
     "metadata": {},
     "output_type": "execute_result"
    }
   ],
   "source": [
    "variant_1_loyalty_0_total_spend = variant_1_loyalty_0[\"total_spend\"].sum()\n",
    "variant_1_loyalty_0_total_spend"
   ]
  },
  {
   "cell_type": "markdown",
   "id": "0f205c01-4449-4dbf-a62b-e05af2a265ac",
   "metadata": {},
   "source": [
    "#### total_spend of those in express group but not in loyalty group "
   ]
  },
  {
   "cell_type": "code",
   "execution_count": 147,
   "id": "1b9a7a66-2e5e-45c5-8478-9eafb2e568d0",
   "metadata": {},
   "outputs": [
    {
     "data": {
      "text/plain": [
       "2198708.17"
      ]
     },
     "execution_count": 147,
     "metadata": {},
     "output_type": "execute_result"
    }
   ],
   "source": [
    "variant_1_express_1_loyalty_0_total_spend = variant_1_express_1_loyalty_0[\"total_spend\"].sum()\n",
    "variant_1_express_1_loyalty_0_total_spend"
   ]
  },
  {
   "cell_type": "markdown",
   "id": "ba5d4e93-2ad4-4ea8-94d6-d258349a07fb",
   "metadata": {},
   "source": [
    "#### total_spend of those in loyalty group but not in express group"
   ]
  },
  {
   "cell_type": "code",
   "execution_count": 148,
   "id": "719ca07f-71ab-464c-bd50-013988f31259",
   "metadata": {},
   "outputs": [
    {
     "data": {
      "text/plain": [
       "278054.92"
      ]
     },
     "execution_count": 148,
     "metadata": {},
     "output_type": "execute_result"
    }
   ],
   "source": [
    "variant_1_express_0_loyalty_1_total_spend = variant_1_express_0_loyalty_1[\"total_spend\"].sum()\n",
    "variant_1_express_0_loyalty_1_total_spend"
   ]
  },
  {
   "cell_type": "markdown",
   "id": "417485fd-258e-4480-a8a1-64aa419be4c8",
   "metadata": {},
   "source": [
    "#### total_spend of those in loyalty group and also in express group "
   ]
  },
  {
   "cell_type": "code",
   "execution_count": 150,
   "id": "ccc7fba6-5294-4f8e-86df-27fc3686be7e",
   "metadata": {},
   "outputs": [
    {
     "data": {
      "text/plain": [
       "792777.84"
      ]
     },
     "execution_count": 150,
     "metadata": {},
     "output_type": "execute_result"
    }
   ],
   "source": [
    "variant_1_express_1_loyalty_1_total_spend = variant_1_express_1_loyalty_1[\"total_spend\"].sum()\n",
    "variant_1_express_1_loyalty_1_total_spend"
   ]
  },
  {
   "cell_type": "markdown",
   "id": "68839460-3c26-45ad-a28e-773d5b53fd5a",
   "metadata": {},
   "source": [
    "#### total_spend of those not belonging to loyalty group and express group "
   ]
  },
  {
   "cell_type": "code",
   "execution_count": 151,
   "id": "6f0b55cc-cc9c-4222-ab1a-0f8f8164d97d",
   "metadata": {},
   "outputs": [
    {
     "data": {
      "text/plain": [
       "1470256.45"
      ]
     },
     "execution_count": 151,
     "metadata": {},
     "output_type": "execute_result"
    }
   ],
   "source": [
    "variant_1_express_0_loyalty_0_total_spend = variant_1_express_0_loyalty_0[\"total_spend\"].sum()\n",
    "variant_1_express_0_loyalty_0_total_spend"
   ]
  },
  {
   "cell_type": "markdown",
   "id": "e55dd1e7-527d-4d9a-9469-8f8283b865a9",
   "metadata": {},
   "source": [
    "## variant_2 Experiment 3"
   ]
  },
  {
   "cell_type": "markdown",
   "id": "c456befe-521a-4ae9-8856-d20d755b4ac1",
   "metadata": {},
   "source": [
    "#### total_spend of those in express group and also in the two both (loyalty group and not loyalty group)"
   ]
  },
  {
   "cell_type": "code",
   "execution_count": 152,
   "id": "e26dd400-1ca8-4cd2-9990-1aec658c1e8a",
   "metadata": {},
   "outputs": [
    {
     "data": {
      "text/plain": [
       "3148489.65"
      ]
     },
     "execution_count": 152,
     "metadata": {},
     "output_type": "execute_result"
    }
   ],
   "source": [
    "variant_2_express_1_total_spend = variant_2_express_1[\"total_spend\"].sum()\n",
    "variant_2_express_1_total_spend"
   ]
  },
  {
   "cell_type": "markdown",
   "id": "7a9467ed-d750-48c0-9950-dea0d34edb51",
   "metadata": {},
   "source": [
    "#### total_spend of those not belonging to express group, but belonging to the (loyalty group and not loyalty group) "
   ]
  },
  {
   "cell_type": "code",
   "execution_count": 153,
   "id": "6c129f20-137f-4cee-a8d5-9386062a5d18",
   "metadata": {},
   "outputs": [
    {
     "data": {
      "text/plain": [
       "1636736.42"
      ]
     },
     "execution_count": 153,
     "metadata": {},
     "output_type": "execute_result"
    }
   ],
   "source": [
    "variant_2_express_0_total_spend = variant_2_express_0[\"total_spend\"].sum()\n",
    "variant_2_express_0_total_spend"
   ]
  },
  {
   "cell_type": "markdown",
   "id": "5708b65d-fcb3-4b8b-85c3-51907c1e9896",
   "metadata": {},
   "source": [
    "#### total_spend of those in loyalty group and also in the two both (express group and not express group)"
   ]
  },
  {
   "cell_type": "code",
   "execution_count": 154,
   "id": "81f788fd-0f58-408d-a295-0a234fb283aa",
   "metadata": {},
   "outputs": [
    {
     "data": {
      "text/plain": [
       "1140227.5899999999"
      ]
     },
     "execution_count": 154,
     "metadata": {},
     "output_type": "execute_result"
    }
   ],
   "source": [
    "variant_2_loyalty_1_total_spend = variant_2_loyalty_1[\"total_spend\"].sum()\n",
    "variant_2_loyalty_1_total_spend"
   ]
  },
  {
   "cell_type": "markdown",
   "id": "b58de3d2-0b5d-4c05-be84-f15bf37ddbcb",
   "metadata": {},
   "source": [
    "#### total_spend of those not belonging to loyalty group but belonging to the (express group and not express group) "
   ]
  },
  {
   "cell_type": "code",
   "execution_count": 155,
   "id": "bf1ec98e-e776-4af6-b189-e62281680a43",
   "metadata": {},
   "outputs": [
    {
     "data": {
      "text/plain": [
       "3644998.48"
      ]
     },
     "execution_count": 155,
     "metadata": {},
     "output_type": "execute_result"
    }
   ],
   "source": [
    "variant_2_loyalty_0_total_spend = variant_2_loyalty_0[\"total_spend\"].sum()\n",
    "variant_2_loyalty_0_total_spend"
   ]
  },
  {
   "cell_type": "markdown",
   "id": "9be1e313-9818-4e4e-8a2f-9292ab511eb7",
   "metadata": {},
   "source": [
    "#### total_spend of those in express group but not in loyalty group "
   ]
  },
  {
   "cell_type": "code",
   "execution_count": 156,
   "id": "04dd076b-cbf8-4cf3-b7ae-399e74a5254a",
   "metadata": {},
   "outputs": [
    {
     "data": {
      "text/plain": [
       "2305711.62"
      ]
     },
     "execution_count": 156,
     "metadata": {},
     "output_type": "execute_result"
    }
   ],
   "source": [
    "variant_2_express_1_loyalty_0_total_spend = variant_2_express_1_loyalty_0[\"total_spend\"].sum()\n",
    "variant_2_express_1_loyalty_0_total_spend"
   ]
  },
  {
   "cell_type": "markdown",
   "id": "227d21d1-1d92-46c4-a529-55cb7af8057f",
   "metadata": {},
   "source": [
    "#### total_spend of those in loyalty group but not in express group"
   ]
  },
  {
   "cell_type": "code",
   "execution_count": 157,
   "id": "9b7218e8-b2ce-453a-a7ea-a6e310ae3a38",
   "metadata": {},
   "outputs": [
    {
     "data": {
      "text/plain": [
       "297449.56"
      ]
     },
     "execution_count": 157,
     "metadata": {},
     "output_type": "execute_result"
    }
   ],
   "source": [
    "variant_2_express_0_loyalty_1_total_spend = variant_2_express_0_loyalty_1[\"total_spend\"].sum()\n",
    "variant_2_express_0_loyalty_1_total_spend"
   ]
  },
  {
   "cell_type": "markdown",
   "id": "5d6120d4-7504-4158-b096-3d602e530e1e",
   "metadata": {},
   "source": [
    "#### total_spend of those in loyalty group and also in express group "
   ]
  },
  {
   "cell_type": "code",
   "execution_count": 158,
   "id": "1bb77d3d-e5d3-4251-be27-01db918e6c69",
   "metadata": {},
   "outputs": [
    {
     "data": {
      "text/plain": [
       "842778.03"
      ]
     },
     "execution_count": 158,
     "metadata": {},
     "output_type": "execute_result"
    }
   ],
   "source": [
    "variant_2_express_1_loyalty_1_total_spend = variant_2_express_1_loyalty_1[\"total_spend\"].sum()\n",
    "variant_2_express_1_loyalty_1_total_spend"
   ]
  },
  {
   "cell_type": "markdown",
   "id": "8c4a7813-6ce2-4967-8ac3-b119a3eef9a7",
   "metadata": {},
   "source": [
    "#### total_spend of those not belonging to loyalty group and express group "
   ]
  },
  {
   "cell_type": "code",
   "execution_count": 159,
   "id": "cfb6d676-863d-4e36-9b54-dfbff2efa15a",
   "metadata": {},
   "outputs": [
    {
     "data": {
      "text/plain": [
       "1636736.42"
      ]
     },
     "execution_count": 159,
     "metadata": {},
     "output_type": "execute_result"
    }
   ],
   "source": [
    "variant_2_express_0_loyalty_0_total_spend = variant_2_express_0_loyalty_0[\"total_spend\"].sum()\n",
    "variant_2_express_0_loyalty_0_total_spend"
   ]
  },
  {
   "cell_type": "code",
   "execution_count": 160,
   "id": "3a6dfa07-4201-43f7-a6f7-e4a77e6e0d4c",
   "metadata": {},
   "outputs": [
    {
     "data": {
      "text/html": [
       "<div>\n",
       "<style scoped>\n",
       "    .dataframe tbody tr th:only-of-type {\n",
       "        vertical-align: middle;\n",
       "    }\n",
       "\n",
       "    .dataframe tbody tr th {\n",
       "        vertical-align: top;\n",
       "    }\n",
       "\n",
       "    .dataframe thead th {\n",
       "        text-align: right;\n",
       "    }\n",
       "</style>\n",
       "<table border=\"1\" class=\"dataframe\">\n",
       "  <thead>\n",
       "    <tr style=\"text-align: right;\">\n",
       "      <th></th>\n",
       "      <th>user_id</th>\n",
       "      <th>assignment_date</th>\n",
       "      <th>express</th>\n",
       "      <th>loyalty</th>\n",
       "      <th>zip_code</th>\n",
       "      <th>address_type</th>\n",
       "      <th>experiment_group</th>\n",
       "      <th>grp_code</th>\n",
       "      <th>orders_placed</th>\n",
       "      <th>avg_order_value</th>\n",
       "      <th>total_spend</th>\n",
       "    </tr>\n",
       "  </thead>\n",
       "  <tbody>\n",
       "    <tr>\n",
       "      <th>1</th>\n",
       "      <td>2</td>\n",
       "      <td>2022-02-22</td>\n",
       "      <td>1</td>\n",
       "      <td>0</td>\n",
       "      <td>37209</td>\n",
       "      <td>Residential</td>\n",
       "      <td>control (no VC $35 min)</td>\n",
       "      <td>c0</td>\n",
       "      <td>1</td>\n",
       "      <td>71.15</td>\n",
       "      <td>71.15</td>\n",
       "    </tr>\n",
       "    <tr>\n",
       "      <th>2</th>\n",
       "      <td>3</td>\n",
       "      <td>2022-01-15</td>\n",
       "      <td>1</td>\n",
       "      <td>1</td>\n",
       "      <td>37217</td>\n",
       "      <td>Residential</td>\n",
       "      <td>control (no VC $35 min)</td>\n",
       "      <td>c0</td>\n",
       "      <td>6</td>\n",
       "      <td>189.84</td>\n",
       "      <td>1139.07</td>\n",
       "    </tr>\n",
       "    <tr>\n",
       "      <th>5</th>\n",
       "      <td>6</td>\n",
       "      <td>2022-02-26</td>\n",
       "      <td>1</td>\n",
       "      <td>0</td>\n",
       "      <td>37221</td>\n",
       "      <td>Business</td>\n",
       "      <td>control (no VC $35 min)</td>\n",
       "      <td>c0</td>\n",
       "      <td>0</td>\n",
       "      <td>0.00</td>\n",
       "      <td>0.00</td>\n",
       "    </tr>\n",
       "    <tr>\n",
       "      <th>8</th>\n",
       "      <td>9</td>\n",
       "      <td>2022-02-16</td>\n",
       "      <td>0</td>\n",
       "      <td>1</td>\n",
       "      <td>37206</td>\n",
       "      <td>Residential</td>\n",
       "      <td>control (no VC $35 min)</td>\n",
       "      <td>c0</td>\n",
       "      <td>0</td>\n",
       "      <td>0.00</td>\n",
       "      <td>0.00</td>\n",
       "    </tr>\n",
       "    <tr>\n",
       "      <th>9</th>\n",
       "      <td>10</td>\n",
       "      <td>2022-02-04</td>\n",
       "      <td>0</td>\n",
       "      <td>0</td>\n",
       "      <td>37217</td>\n",
       "      <td>Residential</td>\n",
       "      <td>control (no VC $35 min)</td>\n",
       "      <td>c0</td>\n",
       "      <td>2</td>\n",
       "      <td>61.01</td>\n",
       "      <td>122.02</td>\n",
       "    </tr>\n",
       "  </tbody>\n",
       "</table>\n",
       "</div>"
      ],
      "text/plain": [
       "   user_id assignment_date  express  loyalty  zip_code address_type  \\\n",
       "1        2      2022-02-22        1        0     37209  Residential   \n",
       "2        3      2022-01-15        1        1     37217  Residential   \n",
       "5        6      2022-02-26        1        0     37221     Business   \n",
       "8        9      2022-02-16        0        1     37206  Residential   \n",
       "9       10      2022-02-04        0        0     37217  Residential   \n",
       "\n",
       "          experiment_group grp_code  orders_placed  avg_order_value  \\\n",
       "1  control (no VC $35 min)       c0              1            71.15   \n",
       "2  control (no VC $35 min)       c0              6           189.84   \n",
       "5  control (no VC $35 min)       c0              0             0.00   \n",
       "8  control (no VC $35 min)       c0              0             0.00   \n",
       "9  control (no VC $35 min)       c0              2            61.01   \n",
       "\n",
       "   total_spend  \n",
       "1        71.15  \n",
       "2      1139.07  \n",
       "5         0.00  \n",
       "8         0.00  \n",
       "9       122.02  "
      ]
     },
     "execution_count": 160,
     "metadata": {},
     "output_type": "execute_result"
    }
   ],
   "source": [
    "control_o_the_control_group.head()"
   ]
  },
  {
   "cell_type": "code",
   "execution_count": 161,
   "id": "7aaecc80-4a90-4cfd-8a5d-62a6916ae40c",
   "metadata": {},
   "outputs": [
    {
     "data": {
      "text/plain": [
       "array(['control (no VC $35 min)'], dtype=object)"
      ]
     },
     "execution_count": 161,
     "metadata": {},
     "output_type": "execute_result"
    }
   ],
   "source": [
    "control_o_the_control_group['experiment_group'].unique()"
   ]
  },
  {
   "cell_type": "code",
   "execution_count": 167,
   "id": "3c9a5baf-2f79-42c6-b27c-11e574feab4d",
   "metadata": {},
   "outputs": [
    {
     "data": {
      "text/plain": [
       "8658370.369999997"
      ]
     },
     "execution_count": 167,
     "metadata": {},
     "output_type": "execute_result"
    }
   ],
   "source": [
    "control_o_the_control_group_total_spend = control_o_the_control_group[\"total_spend\"].sum()\n",
    "control_o_the_control_group_total_spend"
   ]
  },
  {
   "cell_type": "code",
   "execution_count": 190,
   "id": "2030d89c-468e-49d0-9c9a-338de4000229",
   "metadata": {},
   "outputs": [
    {
     "data": {
      "text/html": [
       "<div>\n",
       "<style scoped>\n",
       "    .dataframe tbody tr th:only-of-type {\n",
       "        vertical-align: middle;\n",
       "    }\n",
       "\n",
       "    .dataframe tbody tr th {\n",
       "        vertical-align: top;\n",
       "    }\n",
       "\n",
       "    .dataframe thead th {\n",
       "        text-align: right;\n",
       "    }\n",
       "</style>\n",
       "<table border=\"1\" class=\"dataframe\">\n",
       "  <thead>\n",
       "    <tr style=\"text-align: right;\">\n",
       "      <th></th>\n",
       "      <th>user_id</th>\n",
       "      <th>assignment_date</th>\n",
       "      <th>express</th>\n",
       "      <th>loyalty</th>\n",
       "      <th>zip_code</th>\n",
       "      <th>address_type</th>\n",
       "      <th>experiment_group</th>\n",
       "      <th>grp_code</th>\n",
       "      <th>orders_placed</th>\n",
       "      <th>avg_order_value</th>\n",
       "      <th>total_spend</th>\n",
       "    </tr>\n",
       "  </thead>\n",
       "  <tbody>\n",
       "    <tr>\n",
       "      <th>1</th>\n",
       "      <td>2</td>\n",
       "      <td>2022-02-22</td>\n",
       "      <td>1</td>\n",
       "      <td>0</td>\n",
       "      <td>37209</td>\n",
       "      <td>Residential</td>\n",
       "      <td>control (no VC $35 min)</td>\n",
       "      <td>c0</td>\n",
       "      <td>1</td>\n",
       "      <td>71.15</td>\n",
       "      <td>71.15</td>\n",
       "    </tr>\n",
       "    <tr>\n",
       "      <th>2</th>\n",
       "      <td>3</td>\n",
       "      <td>2022-01-15</td>\n",
       "      <td>1</td>\n",
       "      <td>1</td>\n",
       "      <td>37217</td>\n",
       "      <td>Residential</td>\n",
       "      <td>control (no VC $35 min)</td>\n",
       "      <td>c0</td>\n",
       "      <td>6</td>\n",
       "      <td>189.84</td>\n",
       "      <td>1139.07</td>\n",
       "    </tr>\n",
       "    <tr>\n",
       "      <th>8</th>\n",
       "      <td>9</td>\n",
       "      <td>2022-02-16</td>\n",
       "      <td>0</td>\n",
       "      <td>1</td>\n",
       "      <td>37206</td>\n",
       "      <td>Residential</td>\n",
       "      <td>control (no VC $35 min)</td>\n",
       "      <td>c0</td>\n",
       "      <td>0</td>\n",
       "      <td>0.00</td>\n",
       "      <td>0.00</td>\n",
       "    </tr>\n",
       "    <tr>\n",
       "      <th>9</th>\n",
       "      <td>10</td>\n",
       "      <td>2022-02-04</td>\n",
       "      <td>0</td>\n",
       "      <td>0</td>\n",
       "      <td>37217</td>\n",
       "      <td>Residential</td>\n",
       "      <td>control (no VC $35 min)</td>\n",
       "      <td>c0</td>\n",
       "      <td>2</td>\n",
       "      <td>61.01</td>\n",
       "      <td>122.02</td>\n",
       "    </tr>\n",
       "    <tr>\n",
       "      <th>10</th>\n",
       "      <td>11</td>\n",
       "      <td>2022-02-04</td>\n",
       "      <td>0</td>\n",
       "      <td>0</td>\n",
       "      <td>37205</td>\n",
       "      <td>Residential</td>\n",
       "      <td>control (no VC $35 min)</td>\n",
       "      <td>c0</td>\n",
       "      <td>2</td>\n",
       "      <td>142.12</td>\n",
       "      <td>284.24</td>\n",
       "    </tr>\n",
       "  </tbody>\n",
       "</table>\n",
       "</div>"
      ],
      "text/plain": [
       "    user_id assignment_date  express  loyalty  zip_code address_type  \\\n",
       "1         2      2022-02-22        1        0     37209  Residential   \n",
       "2         3      2022-01-15        1        1     37217  Residential   \n",
       "8         9      2022-02-16        0        1     37206  Residential   \n",
       "9        10      2022-02-04        0        0     37217  Residential   \n",
       "10       11      2022-02-04        0        0     37205  Residential   \n",
       "\n",
       "           experiment_group grp_code  orders_placed  avg_order_value  \\\n",
       "1   control (no VC $35 min)       c0              1            71.15   \n",
       "2   control (no VC $35 min)       c0              6           189.84   \n",
       "8   control (no VC $35 min)       c0              0             0.00   \n",
       "9   control (no VC $35 min)       c0              2            61.01   \n",
       "10  control (no VC $35 min)       c0              2           142.12   \n",
       "\n",
       "    total_spend  \n",
       "1         71.15  \n",
       "2       1139.07  \n",
       "8          0.00  \n",
       "9        122.02  \n",
       "10       284.24  "
      ]
     },
     "execution_count": 190,
     "metadata": {},
     "output_type": "execute_result"
    }
   ],
   "source": [
    "control_o_the_control_group_Residential = control_o_the_control_group[control_o_the_control_group['address_type']== 'Residential']\n",
    "control_o_the_control_group_Residential.head()"
   ]
  },
  {
   "cell_type": "code",
   "execution_count": 188,
   "id": "16eb37bc-bb2f-414f-bbd6-11d5faf324b4",
   "metadata": {
    "scrolled": true
   },
   "outputs": [
    {
     "data": {
      "text/plain": [
       "7971579.170000001"
      ]
     },
     "execution_count": 188,
     "metadata": {},
     "output_type": "execute_result"
    }
   ],
   "source": [
    "control_o_the_control_group_Residential_total_spend = control_o_the_control_group_Residential[\"total_spend\"].sum()\n",
    "control_o_the_control_group_Residential_total_spend"
   ]
  },
  {
   "cell_type": "code",
   "execution_count": 187,
   "id": "75c4a076-d378-4d6f-9b1d-bd154f3b6dc7",
   "metadata": {
    "scrolled": true
   },
   "outputs": [
    {
     "data": {
      "text/html": [
       "<div>\n",
       "<style scoped>\n",
       "    .dataframe tbody tr th:only-of-type {\n",
       "        vertical-align: middle;\n",
       "    }\n",
       "\n",
       "    .dataframe tbody tr th {\n",
       "        vertical-align: top;\n",
       "    }\n",
       "\n",
       "    .dataframe thead th {\n",
       "        text-align: right;\n",
       "    }\n",
       "</style>\n",
       "<table border=\"1\" class=\"dataframe\">\n",
       "  <thead>\n",
       "    <tr style=\"text-align: right;\">\n",
       "      <th></th>\n",
       "      <th>user_id</th>\n",
       "      <th>assignment_date</th>\n",
       "      <th>express</th>\n",
       "      <th>loyalty</th>\n",
       "      <th>zip_code</th>\n",
       "      <th>address_type</th>\n",
       "      <th>experiment_group</th>\n",
       "      <th>grp_code</th>\n",
       "      <th>orders_placed</th>\n",
       "      <th>avg_order_value</th>\n",
       "      <th>total_spend</th>\n",
       "    </tr>\n",
       "  </thead>\n",
       "  <tbody>\n",
       "    <tr>\n",
       "      <th>5</th>\n",
       "      <td>6</td>\n",
       "      <td>2022-02-26</td>\n",
       "      <td>1</td>\n",
       "      <td>0</td>\n",
       "      <td>37221</td>\n",
       "      <td>Business</td>\n",
       "      <td>control (no VC $35 min)</td>\n",
       "      <td>c0</td>\n",
       "      <td>0</td>\n",
       "      <td>0.00</td>\n",
       "      <td>0.00</td>\n",
       "    </tr>\n",
       "    <tr>\n",
       "      <th>36</th>\n",
       "      <td>37</td>\n",
       "      <td>2022-02-03</td>\n",
       "      <td>1</td>\n",
       "      <td>0</td>\n",
       "      <td>37208</td>\n",
       "      <td>Business</td>\n",
       "      <td>control (no VC $35 min)</td>\n",
       "      <td>c0</td>\n",
       "      <td>1</td>\n",
       "      <td>122.04</td>\n",
       "      <td>122.04</td>\n",
       "    </tr>\n",
       "    <tr>\n",
       "      <th>134</th>\n",
       "      <td>135</td>\n",
       "      <td>2022-02-18</td>\n",
       "      <td>0</td>\n",
       "      <td>0</td>\n",
       "      <td>37209</td>\n",
       "      <td>Business</td>\n",
       "      <td>control (no VC $35 min)</td>\n",
       "      <td>c0</td>\n",
       "      <td>0</td>\n",
       "      <td>0.00</td>\n",
       "      <td>0.00</td>\n",
       "    </tr>\n",
       "    <tr>\n",
       "      <th>141</th>\n",
       "      <td>142</td>\n",
       "      <td>2022-01-30</td>\n",
       "      <td>0</td>\n",
       "      <td>0</td>\n",
       "      <td>37221</td>\n",
       "      <td>Business</td>\n",
       "      <td>control (no VC $35 min)</td>\n",
       "      <td>c0</td>\n",
       "      <td>4</td>\n",
       "      <td>151.54</td>\n",
       "      <td>606.15</td>\n",
       "    </tr>\n",
       "    <tr>\n",
       "      <th>159</th>\n",
       "      <td>160</td>\n",
       "      <td>2022-02-18</td>\n",
       "      <td>1</td>\n",
       "      <td>0</td>\n",
       "      <td>37211</td>\n",
       "      <td>Business</td>\n",
       "      <td>control (no VC $35 min)</td>\n",
       "      <td>c0</td>\n",
       "      <td>1</td>\n",
       "      <td>82.43</td>\n",
       "      <td>82.43</td>\n",
       "    </tr>\n",
       "  </tbody>\n",
       "</table>\n",
       "</div>"
      ],
      "text/plain": [
       "     user_id assignment_date  express  loyalty  zip_code address_type  \\\n",
       "5          6      2022-02-26        1        0     37221     Business   \n",
       "36        37      2022-02-03        1        0     37208     Business   \n",
       "134      135      2022-02-18        0        0     37209     Business   \n",
       "141      142      2022-01-30        0        0     37221     Business   \n",
       "159      160      2022-02-18        1        0     37211     Business   \n",
       "\n",
       "            experiment_group grp_code  orders_placed  avg_order_value  \\\n",
       "5    control (no VC $35 min)       c0              0             0.00   \n",
       "36   control (no VC $35 min)       c0              1           122.04   \n",
       "134  control (no VC $35 min)       c0              0             0.00   \n",
       "141  control (no VC $35 min)       c0              4           151.54   \n",
       "159  control (no VC $35 min)       c0              1            82.43   \n",
       "\n",
       "     total_spend  \n",
       "5           0.00  \n",
       "36        122.04  \n",
       "134         0.00  \n",
       "141       606.15  \n",
       "159        82.43  "
      ]
     },
     "execution_count": 187,
     "metadata": {},
     "output_type": "execute_result"
    }
   ],
   "source": [
    "control_o_the_control_group_Business = control_o_the_control_group[control_o_the_control_group['address_type']== 'Business']\n",
    "control_o_the_control_group_Business.head()"
   ]
  },
  {
   "cell_type": "code",
   "execution_count": 189,
   "id": "068ffd6a-24dd-453f-8178-7d1c4375141b",
   "metadata": {},
   "outputs": [
    {
     "data": {
      "text/plain": [
       "686791.2"
      ]
     },
     "execution_count": 189,
     "metadata": {},
     "output_type": "execute_result"
    }
   ],
   "source": [
    "control_o_the_control_group_Business_total_spend = control_o_the_control_group_Business[\"total_spend\"].sum()\n",
    "control_o_the_control_group_Business_total_spend"
   ]
  },
  {
   "cell_type": "code",
   "execution_count": 163,
   "id": "1474b986-3ea2-4722-ae86-8b7880ed0939",
   "metadata": {},
   "outputs": [
    {
     "data": {
      "text/html": [
       "<div>\n",
       "<style scoped>\n",
       "    .dataframe tbody tr th:only-of-type {\n",
       "        vertical-align: middle;\n",
       "    }\n",
       "\n",
       "    .dataframe tbody tr th {\n",
       "        vertical-align: top;\n",
       "    }\n",
       "\n",
       "    .dataframe thead th {\n",
       "        text-align: right;\n",
       "    }\n",
       "</style>\n",
       "<table border=\"1\" class=\"dataframe\">\n",
       "  <thead>\n",
       "    <tr style=\"text-align: right;\">\n",
       "      <th></th>\n",
       "      <th>user_id</th>\n",
       "      <th>assignment_date</th>\n",
       "      <th>express</th>\n",
       "      <th>loyalty</th>\n",
       "      <th>zip_code</th>\n",
       "      <th>address_type</th>\n",
       "      <th>experiment_group</th>\n",
       "      <th>grp_code</th>\n",
       "      <th>orders_placed</th>\n",
       "      <th>avg_order_value</th>\n",
       "      <th>total_spend</th>\n",
       "    </tr>\n",
       "  </thead>\n",
       "  <tbody>\n",
       "    <tr>\n",
       "      <th>3</th>\n",
       "      <td>4</td>\n",
       "      <td>2022-02-17</td>\n",
       "      <td>0</td>\n",
       "      <td>0</td>\n",
       "      <td>37215</td>\n",
       "      <td>Residential</td>\n",
       "      <td>variant 1 (VC $35 min)</td>\n",
       "      <td>v1</td>\n",
       "      <td>0</td>\n",
       "      <td>0.00</td>\n",
       "      <td>0.00</td>\n",
       "    </tr>\n",
       "    <tr>\n",
       "      <th>16</th>\n",
       "      <td>17</td>\n",
       "      <td>2022-01-29</td>\n",
       "      <td>0</td>\n",
       "      <td>0</td>\n",
       "      <td>37211</td>\n",
       "      <td>Residential</td>\n",
       "      <td>variant 1 (VC $35 min)</td>\n",
       "      <td>v1</td>\n",
       "      <td>2</td>\n",
       "      <td>149.22</td>\n",
       "      <td>298.45</td>\n",
       "    </tr>\n",
       "    <tr>\n",
       "      <th>23</th>\n",
       "      <td>24</td>\n",
       "      <td>2022-02-20</td>\n",
       "      <td>0</td>\n",
       "      <td>0</td>\n",
       "      <td>37207</td>\n",
       "      <td>Residential</td>\n",
       "      <td>variant 1 (VC $35 min)</td>\n",
       "      <td>v1</td>\n",
       "      <td>0</td>\n",
       "      <td>0.00</td>\n",
       "      <td>0.00</td>\n",
       "    </tr>\n",
       "    <tr>\n",
       "      <th>41</th>\n",
       "      <td>42</td>\n",
       "      <td>2022-01-20</td>\n",
       "      <td>0</td>\n",
       "      <td>0</td>\n",
       "      <td>37221</td>\n",
       "      <td>Residential</td>\n",
       "      <td>variant 1 (VC $35 min)</td>\n",
       "      <td>v1</td>\n",
       "      <td>1</td>\n",
       "      <td>205.10</td>\n",
       "      <td>205.10</td>\n",
       "    </tr>\n",
       "    <tr>\n",
       "      <th>46</th>\n",
       "      <td>47</td>\n",
       "      <td>2022-02-22</td>\n",
       "      <td>1</td>\n",
       "      <td>0</td>\n",
       "      <td>37211</td>\n",
       "      <td>Business</td>\n",
       "      <td>variant 1 (VC $35 min)</td>\n",
       "      <td>v1</td>\n",
       "      <td>0</td>\n",
       "      <td>0.00</td>\n",
       "      <td>0.00</td>\n",
       "    </tr>\n",
       "  </tbody>\n",
       "</table>\n",
       "</div>"
      ],
      "text/plain": [
       "    user_id assignment_date  express  loyalty  zip_code address_type  \\\n",
       "3         4      2022-02-17        0        0     37215  Residential   \n",
       "16       17      2022-01-29        0        0     37211  Residential   \n",
       "23       24      2022-02-20        0        0     37207  Residential   \n",
       "41       42      2022-01-20        0        0     37221  Residential   \n",
       "46       47      2022-02-22        1        0     37211     Business   \n",
       "\n",
       "          experiment_group grp_code  orders_placed  avg_order_value  \\\n",
       "3   variant 1 (VC $35 min)       v1              0             0.00   \n",
       "16  variant 1 (VC $35 min)       v1              2           149.22   \n",
       "23  variant 1 (VC $35 min)       v1              0             0.00   \n",
       "41  variant 1 (VC $35 min)       v1              1           205.10   \n",
       "46  variant 1 (VC $35 min)       v1              0             0.00   \n",
       "\n",
       "    total_spend  \n",
       "3          0.00  \n",
       "16       298.45  \n",
       "23         0.00  \n",
       "41       205.10  \n",
       "46         0.00  "
      ]
     },
     "execution_count": 163,
     "metadata": {},
     "output_type": "execute_result"
    }
   ],
   "source": [
    "variant_1.head()"
   ]
  },
  {
   "cell_type": "code",
   "execution_count": 164,
   "id": "415bc6b1-fac3-40d1-a567-c87d3aac40b9",
   "metadata": {},
   "outputs": [
    {
     "data": {
      "text/plain": [
       "array(['variant 1 (VC $35 min)'], dtype=object)"
      ]
     },
     "execution_count": 164,
     "metadata": {},
     "output_type": "execute_result"
    }
   ],
   "source": [
    "variant_1['experiment_group'].unique()"
   ]
  },
  {
   "cell_type": "code",
   "execution_count": 168,
   "id": "1eaffae6-af49-4c06-a4ab-552ee14b393d",
   "metadata": {
    "scrolled": true
   },
   "outputs": [
    {
     "data": {
      "text/plain": [
       "4461742.46"
      ]
     },
     "execution_count": 168,
     "metadata": {},
     "output_type": "execute_result"
    }
   ],
   "source": [
    "variant_1_total_spend = variant_1[\"total_spend\"].sum()\n",
    "variant_1_total_spend"
   ]
  },
  {
   "cell_type": "code",
   "execution_count": 191,
   "id": "a82a616e-c9de-4323-8760-92c7f717f1aa",
   "metadata": {},
   "outputs": [
    {
     "data": {
      "text/html": [
       "<div>\n",
       "<style scoped>\n",
       "    .dataframe tbody tr th:only-of-type {\n",
       "        vertical-align: middle;\n",
       "    }\n",
       "\n",
       "    .dataframe tbody tr th {\n",
       "        vertical-align: top;\n",
       "    }\n",
       "\n",
       "    .dataframe thead th {\n",
       "        text-align: right;\n",
       "    }\n",
       "</style>\n",
       "<table border=\"1\" class=\"dataframe\">\n",
       "  <thead>\n",
       "    <tr style=\"text-align: right;\">\n",
       "      <th></th>\n",
       "      <th>user_id</th>\n",
       "      <th>assignment_date</th>\n",
       "      <th>express</th>\n",
       "      <th>loyalty</th>\n",
       "      <th>zip_code</th>\n",
       "      <th>address_type</th>\n",
       "      <th>experiment_group</th>\n",
       "      <th>grp_code</th>\n",
       "      <th>orders_placed</th>\n",
       "      <th>avg_order_value</th>\n",
       "      <th>total_spend</th>\n",
       "    </tr>\n",
       "  </thead>\n",
       "  <tbody>\n",
       "    <tr>\n",
       "      <th>46</th>\n",
       "      <td>47</td>\n",
       "      <td>2022-02-22</td>\n",
       "      <td>1</td>\n",
       "      <td>0</td>\n",
       "      <td>37211</td>\n",
       "      <td>Business</td>\n",
       "      <td>variant 1 (VC $35 min)</td>\n",
       "      <td>v1</td>\n",
       "      <td>0</td>\n",
       "      <td>0.00</td>\n",
       "      <td>0.00</td>\n",
       "    </tr>\n",
       "    <tr>\n",
       "      <th>108</th>\n",
       "      <td>109</td>\n",
       "      <td>2022-02-25</td>\n",
       "      <td>1</td>\n",
       "      <td>0</td>\n",
       "      <td>37215</td>\n",
       "      <td>Business</td>\n",
       "      <td>variant 1 (VC $35 min)</td>\n",
       "      <td>v1</td>\n",
       "      <td>0</td>\n",
       "      <td>0.00</td>\n",
       "      <td>0.00</td>\n",
       "    </tr>\n",
       "    <tr>\n",
       "      <th>182</th>\n",
       "      <td>183</td>\n",
       "      <td>2022-01-29</td>\n",
       "      <td>0</td>\n",
       "      <td>0</td>\n",
       "      <td>37217</td>\n",
       "      <td>Business</td>\n",
       "      <td>variant 1 (VC $35 min)</td>\n",
       "      <td>v1</td>\n",
       "      <td>0</td>\n",
       "      <td>0.00</td>\n",
       "      <td>0.00</td>\n",
       "    </tr>\n",
       "    <tr>\n",
       "      <th>190</th>\n",
       "      <td>191</td>\n",
       "      <td>2022-01-19</td>\n",
       "      <td>1</td>\n",
       "      <td>0</td>\n",
       "      <td>37211</td>\n",
       "      <td>Business</td>\n",
       "      <td>variant 1 (VC $35 min)</td>\n",
       "      <td>v1</td>\n",
       "      <td>4</td>\n",
       "      <td>92.78</td>\n",
       "      <td>371.13</td>\n",
       "    </tr>\n",
       "    <tr>\n",
       "      <th>257</th>\n",
       "      <td>258</td>\n",
       "      <td>2022-02-16</td>\n",
       "      <td>0</td>\n",
       "      <td>1</td>\n",
       "      <td>37217</td>\n",
       "      <td>Business</td>\n",
       "      <td>variant 1 (VC $35 min)</td>\n",
       "      <td>v1</td>\n",
       "      <td>0</td>\n",
       "      <td>0.00</td>\n",
       "      <td>0.00</td>\n",
       "    </tr>\n",
       "  </tbody>\n",
       "</table>\n",
       "</div>"
      ],
      "text/plain": [
       "     user_id assignment_date  express  loyalty  zip_code address_type  \\\n",
       "46        47      2022-02-22        1        0     37211     Business   \n",
       "108      109      2022-02-25        1        0     37215     Business   \n",
       "182      183      2022-01-29        0        0     37217     Business   \n",
       "190      191      2022-01-19        1        0     37211     Business   \n",
       "257      258      2022-02-16        0        1     37217     Business   \n",
       "\n",
       "           experiment_group grp_code  orders_placed  avg_order_value  \\\n",
       "46   variant 1 (VC $35 min)       v1              0             0.00   \n",
       "108  variant 1 (VC $35 min)       v1              0             0.00   \n",
       "182  variant 1 (VC $35 min)       v1              0             0.00   \n",
       "190  variant 1 (VC $35 min)       v1              4            92.78   \n",
       "257  variant 1 (VC $35 min)       v1              0             0.00   \n",
       "\n",
       "     total_spend  \n",
       "46          0.00  \n",
       "108         0.00  \n",
       "182         0.00  \n",
       "190       371.13  \n",
       "257         0.00  "
      ]
     },
     "execution_count": 191,
     "metadata": {},
     "output_type": "execute_result"
    }
   ],
   "source": [
    "variant_1_Business = variant_1[variant_1['address_type']== 'Business']\n",
    "variant_1_Business.head()"
   ]
  },
  {
   "cell_type": "code",
   "execution_count": 192,
   "id": "6cd5a396-3611-4c59-9ff0-b36867acfb49",
   "metadata": {},
   "outputs": [
    {
     "data": {
      "text/plain": [
       "363367.62"
      ]
     },
     "execution_count": 192,
     "metadata": {},
     "output_type": "execute_result"
    }
   ],
   "source": [
    "variant_1_Business_total_spend = variant_1_Business[\"total_spend\"].sum()\n",
    "variant_1_Business_total_spend"
   ]
  },
  {
   "cell_type": "code",
   "execution_count": 193,
   "id": "aad689a0-d8a0-4944-82a8-4fb337cf2827",
   "metadata": {},
   "outputs": [
    {
     "data": {
      "text/html": [
       "<div>\n",
       "<style scoped>\n",
       "    .dataframe tbody tr th:only-of-type {\n",
       "        vertical-align: middle;\n",
       "    }\n",
       "\n",
       "    .dataframe tbody tr th {\n",
       "        vertical-align: top;\n",
       "    }\n",
       "\n",
       "    .dataframe thead th {\n",
       "        text-align: right;\n",
       "    }\n",
       "</style>\n",
       "<table border=\"1\" class=\"dataframe\">\n",
       "  <thead>\n",
       "    <tr style=\"text-align: right;\">\n",
       "      <th></th>\n",
       "      <th>user_id</th>\n",
       "      <th>assignment_date</th>\n",
       "      <th>express</th>\n",
       "      <th>loyalty</th>\n",
       "      <th>zip_code</th>\n",
       "      <th>address_type</th>\n",
       "      <th>experiment_group</th>\n",
       "      <th>grp_code</th>\n",
       "      <th>orders_placed</th>\n",
       "      <th>avg_order_value</th>\n",
       "      <th>total_spend</th>\n",
       "    </tr>\n",
       "  </thead>\n",
       "  <tbody>\n",
       "    <tr>\n",
       "      <th>3</th>\n",
       "      <td>4</td>\n",
       "      <td>2022-02-17</td>\n",
       "      <td>0</td>\n",
       "      <td>0</td>\n",
       "      <td>37215</td>\n",
       "      <td>Residential</td>\n",
       "      <td>variant 1 (VC $35 min)</td>\n",
       "      <td>v1</td>\n",
       "      <td>0</td>\n",
       "      <td>0.00</td>\n",
       "      <td>0.00</td>\n",
       "    </tr>\n",
       "    <tr>\n",
       "      <th>16</th>\n",
       "      <td>17</td>\n",
       "      <td>2022-01-29</td>\n",
       "      <td>0</td>\n",
       "      <td>0</td>\n",
       "      <td>37211</td>\n",
       "      <td>Residential</td>\n",
       "      <td>variant 1 (VC $35 min)</td>\n",
       "      <td>v1</td>\n",
       "      <td>2</td>\n",
       "      <td>149.22</td>\n",
       "      <td>298.45</td>\n",
       "    </tr>\n",
       "    <tr>\n",
       "      <th>23</th>\n",
       "      <td>24</td>\n",
       "      <td>2022-02-20</td>\n",
       "      <td>0</td>\n",
       "      <td>0</td>\n",
       "      <td>37207</td>\n",
       "      <td>Residential</td>\n",
       "      <td>variant 1 (VC $35 min)</td>\n",
       "      <td>v1</td>\n",
       "      <td>0</td>\n",
       "      <td>0.00</td>\n",
       "      <td>0.00</td>\n",
       "    </tr>\n",
       "    <tr>\n",
       "      <th>41</th>\n",
       "      <td>42</td>\n",
       "      <td>2022-01-20</td>\n",
       "      <td>0</td>\n",
       "      <td>0</td>\n",
       "      <td>37221</td>\n",
       "      <td>Residential</td>\n",
       "      <td>variant 1 (VC $35 min)</td>\n",
       "      <td>v1</td>\n",
       "      <td>1</td>\n",
       "      <td>205.10</td>\n",
       "      <td>205.10</td>\n",
       "    </tr>\n",
       "    <tr>\n",
       "      <th>49</th>\n",
       "      <td>50</td>\n",
       "      <td>2022-02-07</td>\n",
       "      <td>1</td>\n",
       "      <td>0</td>\n",
       "      <td>37216</td>\n",
       "      <td>Residential</td>\n",
       "      <td>variant 1 (VC $35 min)</td>\n",
       "      <td>v1</td>\n",
       "      <td>0</td>\n",
       "      <td>0.00</td>\n",
       "      <td>0.00</td>\n",
       "    </tr>\n",
       "  </tbody>\n",
       "</table>\n",
       "</div>"
      ],
      "text/plain": [
       "    user_id assignment_date  express  loyalty  zip_code address_type  \\\n",
       "3         4      2022-02-17        0        0     37215  Residential   \n",
       "16       17      2022-01-29        0        0     37211  Residential   \n",
       "23       24      2022-02-20        0        0     37207  Residential   \n",
       "41       42      2022-01-20        0        0     37221  Residential   \n",
       "49       50      2022-02-07        1        0     37216  Residential   \n",
       "\n",
       "          experiment_group grp_code  orders_placed  avg_order_value  \\\n",
       "3   variant 1 (VC $35 min)       v1              0             0.00   \n",
       "16  variant 1 (VC $35 min)       v1              2           149.22   \n",
       "23  variant 1 (VC $35 min)       v1              0             0.00   \n",
       "41  variant 1 (VC $35 min)       v1              1           205.10   \n",
       "49  variant 1 (VC $35 min)       v1              0             0.00   \n",
       "\n",
       "    total_spend  \n",
       "3          0.00  \n",
       "16       298.45  \n",
       "23         0.00  \n",
       "41       205.10  \n",
       "49         0.00  "
      ]
     },
     "execution_count": 193,
     "metadata": {},
     "output_type": "execute_result"
    }
   ],
   "source": [
    "variant_1_Residential = variant_1[variant_1['address_type']== 'Residential']\n",
    "variant_1_Residential.head()"
   ]
  },
  {
   "cell_type": "code",
   "execution_count": 194,
   "id": "53ae811f-ab65-4467-b6f6-3bb2dc1efa4d",
   "metadata": {},
   "outputs": [
    {
     "data": {
      "text/plain": [
       "4098374.8400000003"
      ]
     },
     "execution_count": 194,
     "metadata": {},
     "output_type": "execute_result"
    }
   ],
   "source": [
    "variant_1_Residential_total_spend = variant_1_Residential[\"total_spend\"].sum()\n",
    "variant_1_Residential_total_spend"
   ]
  },
  {
   "cell_type": "code",
   "execution_count": 165,
   "id": "6b661173-fa60-4df9-b876-46dd7f972377",
   "metadata": {},
   "outputs": [
    {
     "data": {
      "text/html": [
       "<div>\n",
       "<style scoped>\n",
       "    .dataframe tbody tr th:only-of-type {\n",
       "        vertical-align: middle;\n",
       "    }\n",
       "\n",
       "    .dataframe tbody tr th {\n",
       "        vertical-align: top;\n",
       "    }\n",
       "\n",
       "    .dataframe thead th {\n",
       "        text-align: right;\n",
       "    }\n",
       "</style>\n",
       "<table border=\"1\" class=\"dataframe\">\n",
       "  <thead>\n",
       "    <tr style=\"text-align: right;\">\n",
       "      <th></th>\n",
       "      <th>user_id</th>\n",
       "      <th>assignment_date</th>\n",
       "      <th>express</th>\n",
       "      <th>loyalty</th>\n",
       "      <th>zip_code</th>\n",
       "      <th>address_type</th>\n",
       "      <th>experiment_group</th>\n",
       "      <th>grp_code</th>\n",
       "      <th>orders_placed</th>\n",
       "      <th>avg_order_value</th>\n",
       "      <th>total_spend</th>\n",
       "    </tr>\n",
       "  </thead>\n",
       "  <tbody>\n",
       "    <tr>\n",
       "      <th>0</th>\n",
       "      <td>1</td>\n",
       "      <td>2022-01-18</td>\n",
       "      <td>0</td>\n",
       "      <td>0</td>\n",
       "      <td>37214</td>\n",
       "      <td>Residential</td>\n",
       "      <td>variant 2 (VC $10 min)</td>\n",
       "      <td>v2</td>\n",
       "      <td>1</td>\n",
       "      <td>141.89</td>\n",
       "      <td>141.89</td>\n",
       "    </tr>\n",
       "    <tr>\n",
       "      <th>4</th>\n",
       "      <td>5</td>\n",
       "      <td>2022-02-06</td>\n",
       "      <td>0</td>\n",
       "      <td>0</td>\n",
       "      <td>37211</td>\n",
       "      <td>Residential</td>\n",
       "      <td>variant 2 (VC $10 min)</td>\n",
       "      <td>v2</td>\n",
       "      <td>1</td>\n",
       "      <td>58.21</td>\n",
       "      <td>58.21</td>\n",
       "    </tr>\n",
       "    <tr>\n",
       "      <th>6</th>\n",
       "      <td>7</td>\n",
       "      <td>2022-01-28</td>\n",
       "      <td>1</td>\n",
       "      <td>0</td>\n",
       "      <td>37209</td>\n",
       "      <td>Residential</td>\n",
       "      <td>variant 2 (VC $10 min)</td>\n",
       "      <td>v2</td>\n",
       "      <td>7</td>\n",
       "      <td>54.94</td>\n",
       "      <td>384.61</td>\n",
       "    </tr>\n",
       "    <tr>\n",
       "      <th>7</th>\n",
       "      <td>8</td>\n",
       "      <td>2022-02-01</td>\n",
       "      <td>1</td>\n",
       "      <td>0</td>\n",
       "      <td>37209</td>\n",
       "      <td>Residential</td>\n",
       "      <td>variant 2 (VC $10 min)</td>\n",
       "      <td>v2</td>\n",
       "      <td>1</td>\n",
       "      <td>175.93</td>\n",
       "      <td>175.93</td>\n",
       "    </tr>\n",
       "    <tr>\n",
       "      <th>12</th>\n",
       "      <td>13</td>\n",
       "      <td>2022-03-01</td>\n",
       "      <td>0</td>\n",
       "      <td>0</td>\n",
       "      <td>37211</td>\n",
       "      <td>Business</td>\n",
       "      <td>variant 2 (VC $10 min)</td>\n",
       "      <td>v2</td>\n",
       "      <td>0</td>\n",
       "      <td>0.00</td>\n",
       "      <td>0.00</td>\n",
       "    </tr>\n",
       "  </tbody>\n",
       "</table>\n",
       "</div>"
      ],
      "text/plain": [
       "    user_id assignment_date  express  loyalty  zip_code address_type  \\\n",
       "0         1      2022-01-18        0        0     37214  Residential   \n",
       "4         5      2022-02-06        0        0     37211  Residential   \n",
       "6         7      2022-01-28        1        0     37209  Residential   \n",
       "7         8      2022-02-01        1        0     37209  Residential   \n",
       "12       13      2022-03-01        0        0     37211     Business   \n",
       "\n",
       "          experiment_group grp_code  orders_placed  avg_order_value  \\\n",
       "0   variant 2 (VC $10 min)       v2              1           141.89   \n",
       "4   variant 2 (VC $10 min)       v2              1            58.21   \n",
       "6   variant 2 (VC $10 min)       v2              7            54.94   \n",
       "7   variant 2 (VC $10 min)       v2              1           175.93   \n",
       "12  variant 2 (VC $10 min)       v2              0             0.00   \n",
       "\n",
       "    total_spend  \n",
       "0        141.89  \n",
       "4         58.21  \n",
       "6        384.61  \n",
       "7        175.93  \n",
       "12         0.00  "
      ]
     },
     "execution_count": 165,
     "metadata": {},
     "output_type": "execute_result"
    }
   ],
   "source": [
    "variant_2.head()"
   ]
  },
  {
   "cell_type": "code",
   "execution_count": 166,
   "id": "6485606b-1e25-429a-a2fc-111d9d1836e6",
   "metadata": {
    "scrolled": true
   },
   "outputs": [
    {
     "data": {
      "text/plain": [
       "array(['variant 2 (VC $10 min)'], dtype=object)"
      ]
     },
     "execution_count": 166,
     "metadata": {},
     "output_type": "execute_result"
    }
   ],
   "source": [
    "variant_2['experiment_group'].unique()"
   ]
  },
  {
   "cell_type": "code",
   "execution_count": 169,
   "id": "28276de9-450c-4b91-a9ae-9f4a153ef162",
   "metadata": {},
   "outputs": [
    {
     "data": {
      "text/plain": [
       "4785226.069999999"
      ]
     },
     "execution_count": 169,
     "metadata": {},
     "output_type": "execute_result"
    }
   ],
   "source": [
    "variant_2_total_spend = variant_2[\"total_spend\"].sum()\n",
    "variant_2_total_spend"
   ]
  },
  {
   "cell_type": "code",
   "execution_count": 195,
   "id": "98be1a01-3012-47b5-ae7b-2d44c160c191",
   "metadata": {},
   "outputs": [
    {
     "data": {
      "text/html": [
       "<div>\n",
       "<style scoped>\n",
       "    .dataframe tbody tr th:only-of-type {\n",
       "        vertical-align: middle;\n",
       "    }\n",
       "\n",
       "    .dataframe tbody tr th {\n",
       "        vertical-align: top;\n",
       "    }\n",
       "\n",
       "    .dataframe thead th {\n",
       "        text-align: right;\n",
       "    }\n",
       "</style>\n",
       "<table border=\"1\" class=\"dataframe\">\n",
       "  <thead>\n",
       "    <tr style=\"text-align: right;\">\n",
       "      <th></th>\n",
       "      <th>user_id</th>\n",
       "      <th>assignment_date</th>\n",
       "      <th>express</th>\n",
       "      <th>loyalty</th>\n",
       "      <th>zip_code</th>\n",
       "      <th>address_type</th>\n",
       "      <th>experiment_group</th>\n",
       "      <th>grp_code</th>\n",
       "      <th>orders_placed</th>\n",
       "      <th>avg_order_value</th>\n",
       "      <th>total_spend</th>\n",
       "    </tr>\n",
       "  </thead>\n",
       "  <tbody>\n",
       "    <tr>\n",
       "      <th>0</th>\n",
       "      <td>1</td>\n",
       "      <td>2022-01-18</td>\n",
       "      <td>0</td>\n",
       "      <td>0</td>\n",
       "      <td>37214</td>\n",
       "      <td>Residential</td>\n",
       "      <td>variant 2 (VC $10 min)</td>\n",
       "      <td>v2</td>\n",
       "      <td>1</td>\n",
       "      <td>141.89</td>\n",
       "      <td>141.89</td>\n",
       "    </tr>\n",
       "    <tr>\n",
       "      <th>4</th>\n",
       "      <td>5</td>\n",
       "      <td>2022-02-06</td>\n",
       "      <td>0</td>\n",
       "      <td>0</td>\n",
       "      <td>37211</td>\n",
       "      <td>Residential</td>\n",
       "      <td>variant 2 (VC $10 min)</td>\n",
       "      <td>v2</td>\n",
       "      <td>1</td>\n",
       "      <td>58.21</td>\n",
       "      <td>58.21</td>\n",
       "    </tr>\n",
       "    <tr>\n",
       "      <th>6</th>\n",
       "      <td>7</td>\n",
       "      <td>2022-01-28</td>\n",
       "      <td>1</td>\n",
       "      <td>0</td>\n",
       "      <td>37209</td>\n",
       "      <td>Residential</td>\n",
       "      <td>variant 2 (VC $10 min)</td>\n",
       "      <td>v2</td>\n",
       "      <td>7</td>\n",
       "      <td>54.94</td>\n",
       "      <td>384.61</td>\n",
       "    </tr>\n",
       "    <tr>\n",
       "      <th>7</th>\n",
       "      <td>8</td>\n",
       "      <td>2022-02-01</td>\n",
       "      <td>1</td>\n",
       "      <td>0</td>\n",
       "      <td>37209</td>\n",
       "      <td>Residential</td>\n",
       "      <td>variant 2 (VC $10 min)</td>\n",
       "      <td>v2</td>\n",
       "      <td>1</td>\n",
       "      <td>175.93</td>\n",
       "      <td>175.93</td>\n",
       "    </tr>\n",
       "    <tr>\n",
       "      <th>15</th>\n",
       "      <td>16</td>\n",
       "      <td>2022-01-23</td>\n",
       "      <td>0</td>\n",
       "      <td>0</td>\n",
       "      <td>37217</td>\n",
       "      <td>Residential</td>\n",
       "      <td>variant 2 (VC $10 min)</td>\n",
       "      <td>v2</td>\n",
       "      <td>4</td>\n",
       "      <td>193.39</td>\n",
       "      <td>773.55</td>\n",
       "    </tr>\n",
       "  </tbody>\n",
       "</table>\n",
       "</div>"
      ],
      "text/plain": [
       "    user_id assignment_date  express  loyalty  zip_code address_type  \\\n",
       "0         1      2022-01-18        0        0     37214  Residential   \n",
       "4         5      2022-02-06        0        0     37211  Residential   \n",
       "6         7      2022-01-28        1        0     37209  Residential   \n",
       "7         8      2022-02-01        1        0     37209  Residential   \n",
       "15       16      2022-01-23        0        0     37217  Residential   \n",
       "\n",
       "          experiment_group grp_code  orders_placed  avg_order_value  \\\n",
       "0   variant 2 (VC $10 min)       v2              1           141.89   \n",
       "4   variant 2 (VC $10 min)       v2              1            58.21   \n",
       "6   variant 2 (VC $10 min)       v2              7            54.94   \n",
       "7   variant 2 (VC $10 min)       v2              1           175.93   \n",
       "15  variant 2 (VC $10 min)       v2              4           193.39   \n",
       "\n",
       "    total_spend  \n",
       "0        141.89  \n",
       "4         58.21  \n",
       "6        384.61  \n",
       "7        175.93  \n",
       "15       773.55  "
      ]
     },
     "execution_count": 195,
     "metadata": {},
     "output_type": "execute_result"
    }
   ],
   "source": [
    "variant_2_Residential = variant_2[variant_2['address_type']== 'Residential']\n",
    "variant_2_Residential.head()"
   ]
  },
  {
   "cell_type": "code",
   "execution_count": 196,
   "id": "6fe99822-4cb2-4fa4-b0ab-7ad47d74bde2",
   "metadata": {},
   "outputs": [
    {
     "data": {
      "text/plain": [
       "4400183.45"
      ]
     },
     "execution_count": 196,
     "metadata": {},
     "output_type": "execute_result"
    }
   ],
   "source": [
    "variant_2_Residential_total_spend = variant_2_Residential[\"total_spend\"].sum()\n",
    "\n",
    "variant_2_Residential_total_spend"
   ]
  },
  {
   "cell_type": "code",
   "execution_count": 197,
   "id": "b760fa2d-d8eb-4875-9b16-bc9009b1c948",
   "metadata": {},
   "outputs": [
    {
     "data": {
      "text/html": [
       "<div>\n",
       "<style scoped>\n",
       "    .dataframe tbody tr th:only-of-type {\n",
       "        vertical-align: middle;\n",
       "    }\n",
       "\n",
       "    .dataframe tbody tr th {\n",
       "        vertical-align: top;\n",
       "    }\n",
       "\n",
       "    .dataframe thead th {\n",
       "        text-align: right;\n",
       "    }\n",
       "</style>\n",
       "<table border=\"1\" class=\"dataframe\">\n",
       "  <thead>\n",
       "    <tr style=\"text-align: right;\">\n",
       "      <th></th>\n",
       "      <th>user_id</th>\n",
       "      <th>assignment_date</th>\n",
       "      <th>express</th>\n",
       "      <th>loyalty</th>\n",
       "      <th>zip_code</th>\n",
       "      <th>address_type</th>\n",
       "      <th>experiment_group</th>\n",
       "      <th>grp_code</th>\n",
       "      <th>orders_placed</th>\n",
       "      <th>avg_order_value</th>\n",
       "      <th>total_spend</th>\n",
       "    </tr>\n",
       "  </thead>\n",
       "  <tbody>\n",
       "    <tr>\n",
       "      <th>12</th>\n",
       "      <td>13</td>\n",
       "      <td>2022-03-01</td>\n",
       "      <td>0</td>\n",
       "      <td>0</td>\n",
       "      <td>37211</td>\n",
       "      <td>Business</td>\n",
       "      <td>variant 2 (VC $10 min)</td>\n",
       "      <td>v2</td>\n",
       "      <td>0</td>\n",
       "      <td>0.00</td>\n",
       "      <td>0.00</td>\n",
       "    </tr>\n",
       "    <tr>\n",
       "      <th>140</th>\n",
       "      <td>141</td>\n",
       "      <td>2022-02-07</td>\n",
       "      <td>0</td>\n",
       "      <td>0</td>\n",
       "      <td>37205</td>\n",
       "      <td>Business</td>\n",
       "      <td>variant 2 (VC $10 min)</td>\n",
       "      <td>v2</td>\n",
       "      <td>4</td>\n",
       "      <td>90.48</td>\n",
       "      <td>361.91</td>\n",
       "    </tr>\n",
       "    <tr>\n",
       "      <th>211</th>\n",
       "      <td>212</td>\n",
       "      <td>2022-01-16</td>\n",
       "      <td>1</td>\n",
       "      <td>0</td>\n",
       "      <td>37205</td>\n",
       "      <td>Business</td>\n",
       "      <td>variant 2 (VC $10 min)</td>\n",
       "      <td>v2</td>\n",
       "      <td>4</td>\n",
       "      <td>176.37</td>\n",
       "      <td>705.47</td>\n",
       "    </tr>\n",
       "    <tr>\n",
       "      <th>285</th>\n",
       "      <td>286</td>\n",
       "      <td>2022-02-24</td>\n",
       "      <td>0</td>\n",
       "      <td>0</td>\n",
       "      <td>37203</td>\n",
       "      <td>Business</td>\n",
       "      <td>variant 2 (VC $10 min)</td>\n",
       "      <td>v2</td>\n",
       "      <td>1</td>\n",
       "      <td>55.13</td>\n",
       "      <td>55.13</td>\n",
       "    </tr>\n",
       "    <tr>\n",
       "      <th>315</th>\n",
       "      <td>316</td>\n",
       "      <td>2022-02-16</td>\n",
       "      <td>1</td>\n",
       "      <td>0</td>\n",
       "      <td>37211</td>\n",
       "      <td>Business</td>\n",
       "      <td>variant 2 (VC $10 min)</td>\n",
       "      <td>v2</td>\n",
       "      <td>0</td>\n",
       "      <td>0.00</td>\n",
       "      <td>0.00</td>\n",
       "    </tr>\n",
       "  </tbody>\n",
       "</table>\n",
       "</div>"
      ],
      "text/plain": [
       "     user_id assignment_date  express  loyalty  zip_code address_type  \\\n",
       "12        13      2022-03-01        0        0     37211     Business   \n",
       "140      141      2022-02-07        0        0     37205     Business   \n",
       "211      212      2022-01-16        1        0     37205     Business   \n",
       "285      286      2022-02-24        0        0     37203     Business   \n",
       "315      316      2022-02-16        1        0     37211     Business   \n",
       "\n",
       "           experiment_group grp_code  orders_placed  avg_order_value  \\\n",
       "12   variant 2 (VC $10 min)       v2              0             0.00   \n",
       "140  variant 2 (VC $10 min)       v2              4            90.48   \n",
       "211  variant 2 (VC $10 min)       v2              4           176.37   \n",
       "285  variant 2 (VC $10 min)       v2              1            55.13   \n",
       "315  variant 2 (VC $10 min)       v2              0             0.00   \n",
       "\n",
       "     total_spend  \n",
       "12          0.00  \n",
       "140       361.91  \n",
       "211       705.47  \n",
       "285        55.13  \n",
       "315         0.00  "
      ]
     },
     "execution_count": 197,
     "metadata": {},
     "output_type": "execute_result"
    }
   ],
   "source": [
    "variant_2_Business = variant_2[variant_2['address_type']== 'Business']\n",
    "variant_2_Business.head()"
   ]
  },
  {
   "cell_type": "code",
   "execution_count": 198,
   "id": "9aaa3d6e-0400-406b-96f2-ede56e678a2e",
   "metadata": {},
   "outputs": [
    {
     "data": {
      "text/plain": [
       "385042.62"
      ]
     },
     "execution_count": 198,
     "metadata": {},
     "output_type": "execute_result"
    }
   ],
   "source": [
    "variant_2_Business_total_spend = variant_2_Business[\"total_spend\"].sum()\n",
    "\n",
    "variant_2_Business_total_spend"
   ]
  },
  {
   "cell_type": "code",
   "execution_count": 220,
   "id": "e120e7ba-9a03-4ff2-9411-36bc4f4cc668",
   "metadata": {},
   "outputs": [],
   "source": [
    "data_big = {\"Experiment 1 control group\":[control_o_the_control_group_express_1_total_spend, control_o_the_control_group_express_0_total_spend, control_o_the_control_group_loyalty_1_total_spend, control_o_the_control_group_loyalty_0_total_spend, control_o_the_control_group_express_1_loyalty_0_total_spend, control_o_the_control_group_express_0_loyalty_1_total_spend, control_o_the_control_group_express_1_loyalty_1_total_spend, control_o_the_control_group_express_0_loyalty_0_total_spend],  \n",
    "                              \"Experiment 2 variant 1\": [variant_1_express_1_total_spend, variant_1_express_0_total_spend, variant_1_loyalty_1_total_spend, variant_1_loyalty_0_total_spend, variant_1_express_1_loyalty_0_total_spend, variant_1_express_0_loyalty_1_total_spend, variant_1_express_1_loyalty_1_total_spend, variant_1_express_0_loyalty_0_total_spend],\n",
    "                               \"Experiment 3 variant 2\": [variant_2_express_1_total_spend, variant_2_express_0_total_spend, variant_2_loyalty_1_total_spend, variant_2_loyalty_0_total_spend, variant_2_express_1_loyalty_0_total_spend, variant_2_express_0_loyalty_1_total_spend, variant_2_express_1_loyalty_1_total_spend, variant_2_express_0_loyalty_0_total_spend]\n",
    "                              }"
   ]
  },
  {
   "cell_type": "code",
   "execution_count": 221,
   "id": "2a7680ca-50a4-425e-bb95-2853b72503a6",
   "metadata": {},
   "outputs": [],
   "source": [
    "data_big = pd.DataFrame(data_big, index=[\"Express group\", \"Non Express Group\", \"Loyalty Group\", \"Non Loyalty Group\", \"Express Group but not in Loyalty Group\", \"Loyalty Group but not in Express Group\", \"Both in Express and Loyalty Group\", \"Neither Express Group non Loyalty Group\"])"
   ]
  },
  {
   "cell_type": "code",
   "execution_count": 222,
   "id": "d11a9671-637a-4065-8e9f-42946ffe5d4d",
   "metadata": {},
   "outputs": [
    {
     "data": {
      "text/html": [
       "<div>\n",
       "<style scoped>\n",
       "    .dataframe tbody tr th:only-of-type {\n",
       "        vertical-align: middle;\n",
       "    }\n",
       "\n",
       "    .dataframe tbody tr th {\n",
       "        vertical-align: top;\n",
       "    }\n",
       "\n",
       "    .dataframe thead th {\n",
       "        text-align: right;\n",
       "    }\n",
       "</style>\n",
       "<table border=\"1\" class=\"dataframe\">\n",
       "  <thead>\n",
       "    <tr style=\"text-align: right;\">\n",
       "      <th></th>\n",
       "      <th>Experiment 1 control group</th>\n",
       "      <th>Experiment 2 variant 1</th>\n",
       "      <th>Experiment 3 variant 2</th>\n",
       "    </tr>\n",
       "  </thead>\n",
       "  <tbody>\n",
       "    <tr>\n",
       "      <th>Express group</th>\n",
       "      <td>5893788.36</td>\n",
       "      <td>2991486.01</td>\n",
       "      <td>3148489.65</td>\n",
       "    </tr>\n",
       "    <tr>\n",
       "      <th>Non Express Group</th>\n",
       "      <td>2764582.01</td>\n",
       "      <td>1470256.45</td>\n",
       "      <td>1636736.42</td>\n",
       "    </tr>\n",
       "    <tr>\n",
       "      <th>Loyalty Group</th>\n",
       "      <td>2229027.13</td>\n",
       "      <td>1070832.76</td>\n",
       "      <td>1140227.59</td>\n",
       "    </tr>\n",
       "    <tr>\n",
       "      <th>Non Loyalty Group</th>\n",
       "      <td>6429343.24</td>\n",
       "      <td>3390909.70</td>\n",
       "      <td>3644998.48</td>\n",
       "    </tr>\n",
       "    <tr>\n",
       "      <th>Express Group but not in Loyalty Group</th>\n",
       "      <td>4216195.89</td>\n",
       "      <td>2198708.17</td>\n",
       "      <td>2305711.62</td>\n",
       "    </tr>\n",
       "    <tr>\n",
       "      <th>Loyalty Group but not in Express Group</th>\n",
       "      <td>551434.66</td>\n",
       "      <td>278054.92</td>\n",
       "      <td>297449.56</td>\n",
       "    </tr>\n",
       "    <tr>\n",
       "      <th>Both in Express and Loyalty Group</th>\n",
       "      <td>1677592.47</td>\n",
       "      <td>792777.84</td>\n",
       "      <td>842778.03</td>\n",
       "    </tr>\n",
       "    <tr>\n",
       "      <th>Neither Express Group non Loyalty Group</th>\n",
       "      <td>2213147.35</td>\n",
       "      <td>1470256.45</td>\n",
       "      <td>1636736.42</td>\n",
       "    </tr>\n",
       "  </tbody>\n",
       "</table>\n",
       "</div>"
      ],
      "text/plain": [
       "                                         Experiment 1 control group  \\\n",
       "Express group                                            5893788.36   \n",
       "Non Express Group                                        2764582.01   \n",
       "Loyalty Group                                            2229027.13   \n",
       "Non Loyalty Group                                        6429343.24   \n",
       "Express Group but not in Loyalty Group                   4216195.89   \n",
       "Loyalty Group but not in Express Group                    551434.66   \n",
       "Both in Express and Loyalty Group                        1677592.47   \n",
       "Neither Express Group non Loyalty Group                  2213147.35   \n",
       "\n",
       "                                         Experiment 2 variant 1  \\\n",
       "Express group                                        2991486.01   \n",
       "Non Express Group                                    1470256.45   \n",
       "Loyalty Group                                        1070832.76   \n",
       "Non Loyalty Group                                    3390909.70   \n",
       "Express Group but not in Loyalty Group               2198708.17   \n",
       "Loyalty Group but not in Express Group                278054.92   \n",
       "Both in Express and Loyalty Group                     792777.84   \n",
       "Neither Express Group non Loyalty Group              1470256.45   \n",
       "\n",
       "                                         Experiment 3 variant 2  \n",
       "Express group                                        3148489.65  \n",
       "Non Express Group                                    1636736.42  \n",
       "Loyalty Group                                        1140227.59  \n",
       "Non Loyalty Group                                    3644998.48  \n",
       "Express Group but not in Loyalty Group               2305711.62  \n",
       "Loyalty Group but not in Express Group                297449.56  \n",
       "Both in Express and Loyalty Group                     842778.03  \n",
       "Neither Express Group non Loyalty Group              1636736.42  "
      ]
     },
     "execution_count": 222,
     "metadata": {},
     "output_type": "execute_result"
    }
   ],
   "source": [
    "data_big.head(10)"
   ]
  },
  {
   "cell_type": "code",
   "execution_count": 229,
   "id": "5098a16c-19ff-4a11-ae44-81f462619164",
   "metadata": {},
   "outputs": [
    {
     "data": {
      "image/png": "[encoded data removed]",
      "text/plain": [
       "<Figure size 640x480 with 1 Axes>"
      ]
     },
     "metadata": {},
     "output_type": "display_data"
    }
   ],
   "source": [
    "data_big.plot(kind='bar')\n",
    "plt.savefig(\"Chart 1\")"
   ]
  },
  {
   "cell_type": "code",
   "execution_count": null,
   "id": "3bf643b6-423d-4698-9f9a-0c6477086ca6",
   "metadata": {},
   "outputs": [],
   "source": [
    "plt.savefig()"
   ]
  },
  {
   "cell_type": "code",
   "execution_count": 224,
   "id": "1804e980-0b27-42f9-9a09-b43a140e60fc",
   "metadata": {},
   "outputs": [
    {
     "data": {
      "text/plain": [
       "<Axes: >"
      ]
     },
     "execution_count": 224,
     "metadata": {},
     "output_type": "execute_result"
    },
    {
     "data": {
      "image/png": "[encoded data removed]",
      "text/plain": [
       "<Figure size 640x480 with 1 Axes>"
      ]
     },
     "metadata": {},
     "output_type": "display_data"
    }
   ],
   "source": [
    "data_big.plot(kind='line')"
   ]
  },
  {
   "cell_type": "code",
   "execution_count": 225,
   "id": "af41c4bb-baf9-465b-bc76-b28cb6869eb7",
   "metadata": {},
   "outputs": [],
   "source": [
    "data = {\"Experiment 1\": [control_o_the_control_group_total_spend, control_o_the_control_group_Business_total_spend, control_o_the_control_group_Residential_total_spend],\n",
    "        \"Experiment 2\": [variant_1_total_spend, variant_1_Business_total_spend, variant_1_Residential_total_spend],\n",
    "       \"Experiment 3\": [variant_2_total_spend, variant_2_Business_total_spend, variant_2_Residential_total_spend]\n",
    "       }\n",
    "\n",
    "\n",
    "data = pd.DataFrame(data, index=[\"Total_spend\", \"Business_total_spend\", \"Residential_total_spend\"])"
   ]
  },
  {
   "cell_type": "code",
   "execution_count": 226,
   "id": "04f4ece8-875a-4f27-a2f3-245f67107cda",
   "metadata": {},
   "outputs": [
    {
     "data": {
      "text/html": [
       "<div>\n",
       "<style scoped>\n",
       "    .dataframe tbody tr th:only-of-type {\n",
       "        vertical-align: middle;\n",
       "    }\n",
       "\n",
       "    .dataframe tbody tr th {\n",
       "        vertical-align: top;\n",
       "    }\n",
       "\n",
       "    .dataframe thead th {\n",
       "        text-align: right;\n",
       "    }\n",
       "</style>\n",
       "<table border=\"1\" class=\"dataframe\">\n",
       "  <thead>\n",
       "    <tr style=\"text-align: right;\">\n",
       "      <th></th>\n",
       "      <th>Experiment 1</th>\n",
       "      <th>Experiment 2</th>\n",
       "      <th>Experiment 3</th>\n",
       "    </tr>\n",
       "  </thead>\n",
       "  <tbody>\n",
       "    <tr>\n",
       "      <th>Total_spend</th>\n",
       "      <td>8658370.37</td>\n",
       "      <td>4461742.46</td>\n",
       "      <td>4785226.07</td>\n",
       "    </tr>\n",
       "    <tr>\n",
       "      <th>Business_total_spend</th>\n",
       "      <td>686791.20</td>\n",
       "      <td>363367.62</td>\n",
       "      <td>385042.62</td>\n",
       "    </tr>\n",
       "    <tr>\n",
       "      <th>Residential_total_spend</th>\n",
       "      <td>7971579.17</td>\n",
       "      <td>4098374.84</td>\n",
       "      <td>4400183.45</td>\n",
       "    </tr>\n",
       "  </tbody>\n",
       "</table>\n",
       "</div>"
      ],
      "text/plain": [
       "                         Experiment 1  Experiment 2  Experiment 3\n",
       "Total_spend                8658370.37    4461742.46    4785226.07\n",
       "Business_total_spend        686791.20     363367.62     385042.62\n",
       "Residential_total_spend    7971579.17    4098374.84    4400183.45"
      ]
     },
     "execution_count": 226,
     "metadata": {},
     "output_type": "execute_result"
    }
   ],
   "source": [
    "data"
   ]
  },
  {
   "cell_type": "code",
   "execution_count": 230,
   "id": "0819a26c-7ede-4a8b-a4f8-ad37346e1fc5",
   "metadata": {
    "scrolled": true
   },
   "outputs": [
    {
     "data": {
      "image/png": "[encoded data removed]",
      "text/plain": [
       "<Figure size 640x480 with 1 Axes>"
      ]
     },
     "metadata": {},
     "output_type": "display_data"
    }
   ],
   "source": [
    "data.plot(kind='bar')\n",
    "\n",
    "plt.savefig(\"Chart 2\")"
   ]
  },
  {
   "cell_type": "code",
   "execution_count": null,
   "id": "88d00ac2-36e7-4c7a-b130-2f1e3164f73d",
   "metadata": {},
   "outputs": [],
   "source": []
  },
  {
   "cell_type": "code",
   "execution_count": 214,
   "id": "e613992d-4562-4bf2-9867-d49584180264",
   "metadata": {},
   "outputs": [
    {
     "data": {
      "text/html": [
       "<div>\n",
       "<style scoped>\n",
       "    .dataframe tbody tr th:only-of-type {\n",
       "        vertical-align: middle;\n",
       "    }\n",
       "\n",
       "    .dataframe tbody tr th {\n",
       "        vertical-align: top;\n",
       "    }\n",
       "\n",
       "    .dataframe thead th {\n",
       "        text-align: right;\n",
       "    }\n",
       "</style>\n",
       "<table border=\"1\" class=\"dataframe\">\n",
       "  <thead>\n",
       "    <tr style=\"text-align: right;\">\n",
       "      <th></th>\n",
       "      <th>Express Group</th>\n",
       "      <th>Non Express Group</th>\n",
       "      <th>Loyalty Group</th>\n",
       "      <th>Non Loyalty Group</th>\n",
       "      <th>Express Group but not in Loyalty Group</th>\n",
       "      <th>Loyalty Group but not in Express Group</th>\n",
       "      <th>Both in Express and Loyalty Group</th>\n",
       "      <th>Neither Express Group non Loyalty Group</th>\n",
       "    </tr>\n",
       "  </thead>\n",
       "  <tbody>\n",
       "    <tr>\n",
       "      <th>0</th>\n",
       "      <td>2991486.01</td>\n",
       "      <td>1470256.45</td>\n",
       "      <td>1070832.76</td>\n",
       "      <td>3390909.7</td>\n",
       "      <td>2198708.17</td>\n",
       "      <td>278054.92</td>\n",
       "      <td>792777.84</td>\n",
       "      <td>1470256.45</td>\n",
       "    </tr>\n",
       "  </tbody>\n",
       "</table>\n",
       "</div>"
      ],
      "text/plain": [
       "   Express Group  Non Express Group  Loyalty Group  Non Loyalty Group  \\\n",
       "0     2991486.01         1470256.45     1070832.76          3390909.7   \n",
       "\n",
       "   Express Group but not in Loyalty Group  \\\n",
       "0                              2198708.17   \n",
       "\n",
       "   Loyalty Group but not in Express Group  Both in Express and Loyalty Group  \\\n",
       "0                               278054.92                          792777.84   \n",
       "\n",
       "   Neither Express Group non Loyalty Group  \n",
       "0                               1470256.45  "
      ]
     },
     "execution_count": 214,
     "metadata": {},
     "output_type": "execute_result"
    }
   ],
   "source": [
    "variant_1_table"
   ]
  },
  {
   "cell_type": "code",
   "execution_count": null,
   "id": "4be6741d-dc5f-4041-899b-273e291d6283",
   "metadata": {},
   "outputs": [],
   "source": []
  },
  {
   "cell_type": "code",
   "execution_count": 231,
   "id": "446760c1-97ad-465a-a8c8-599662e34073",
   "metadata": {},
   "outputs": [
    {
     "data": {
      "image/png": "[encoded data removed]",
      "text/plain": [
       "<Figure size 640x480 with 1 Axes>"
      ]
     },
     "metadata": {},
     "output_type": "display_data"
    }
   ],
   "source": [
    "data.plot(kind='line')\n",
    "plt.savefig(\"Chart 3\")"
   ]
  },
  {
   "cell_type": "code",
   "execution_count": null,
   "id": "b7ad5019-8546-4fc2-ad4b-516c199d591b",
   "metadata": {},
   "outputs": [],
   "source": [
    "\n",
    "\n",
    "\n",
    "\n",
    "control_o_the_control_group_Business_total_spend\n",
    "control_o_the_control_group_Residential_total_spend\n",
    "control_o_the_control_group_total_spend\n",
    "\n",
    "\n",
    "variant_1_Business_total_spend\n",
    "variant_1_Residential_total_spend\n",
    "variant_1_total_spend\n",
    "\n",
    "\n",
    "\n",
    "variant_2_Business_total_spend\n",
    "variant_2_Residential_total_spend\n",
    "variant_2_total_spend"
   ]
  },
  {
   "cell_type": "code",
   "execution_count": null,
   "id": "313fd767-e74a-45ec-905f-83bed3f041cf",
   "metadata": {},
   "outputs": [],
   "source": [
    "\n",
    "control_o_the_control_group_express_1_total_spend\n",
    "control_o_the_control_group_express_0_total_spend\n",
    "control_o_the_control_group_loyalty_1_total_spend\n",
    "control_o_the_control_group_loyalty_0_total_spend\n",
    "\n",
    "\n",
    "\n",
    "control_o_the_control_group_express_0_loyalty_1_total_spend\n",
    "control_o_the_control_group_express_0_loyalty_0_total_spend\n",
    "control_o_the_control_group_express_1_loyalty_0_total_spend\n",
    "control_o_the_control_group_express_1_loyalty_1_total_spend"
   ]
  },
  {
   "cell_type": "code",
   "execution_count": null,
   "id": "a53c3d04-4a58-47b9-976b-958c23e329c6",
   "metadata": {},
   "outputs": [],
   "source": [
    "variant_1_express_1_total_spend\n",
    "variant_1_express_0_total_spend\n",
    "variant_1_loyalty_1_total_spend\n",
    "variant_1_loyalty_0_total_spend\n",
    "\n",
    "variant_1_express_0_loyalty_0_total_spend\n",
    "variant_1_express_0_loyalty_1_total_spend\n",
    "variant_1_express_1_loyalty_0_total_spend\n",
    "variant_1_express_1_loyalty_1_total_spend"
   ]
  },
  {
   "cell_type": "code",
   "execution_count": null,
   "id": "03fe2baf-96af-499c-96ed-9645ed6568d5",
   "metadata": {},
   "outputs": [],
   "source": [
    "variant_2_express_1_total_spend\n",
    "variant_2_express_0_total_spend\n",
    "variant_2_loyalty_1_total_spend\n",
    "variant_2_loyalty_0_total_spend\n",
    "\n",
    "variant_2_express_0_loyalty_0_total_spend\n",
    "variant_2_express_0_loyalty_1_total_spend\n",
    "variant_2_express_1_loyalty_0_total_spend\n",
    "variant_2_express_1_loyalty_1_total_spend"
   ]
  },
  {
   "cell_type": "code",
   "execution_count": null,
   "id": "eb95200f-1db7-40c3-ac22-a4c703c39503",
   "metadata": {},
   "outputs": [],
   "source": [
    "control_o_the_control_group_total_spend \n",
    "variant_1_total_spend \n",
    "variant_2_total_spend"
   ]
  },
  {
   "cell_type": "code",
   "execution_count": null,
   "id": "ac840850-4cad-4ea6-8c1d-f637db842aee",
   "metadata": {},
   "outputs": [],
   "source": []
  },
  {
   "cell_type": "code",
   "execution_count": null,
   "id": "556f2598-55dd-454b-9454-7ce4943747f0",
   "metadata": {},
   "outputs": [],
   "source": [
    "control_o_the_control_group_Business_total_spend\n",
    "control_o_the_control_group_Residential_total_spend\n",
    "control_o_the_control_group_total_spend\n",
    "\n",
    "\n",
    "variant_1_Business_total_spend\n",
    "variant_1_Residential_total_spend\n",
    "variant_1_total_spend\n",
    "\n",
    "\n",
    "\n",
    "variant_2_Business_total_spend\n",
    "variant_2_Residential_total_spend\n",
    "variant_2_total_spend"
   ]
  },
  {
   "cell_type": "code",
   "execution_count": null,
   "id": "2c0dd811-456c-402e-9009-a92affe9439c",
   "metadata": {},
   "outputs": [],
   "source": []
  }
 ],
 "metadata": {
  "kernelspec": {
   "display_name": "Python 3 (ipykernel)",
   "language": "python",
   "name": "python3"
  },
  "language_info": {
   "codemirror_mode": {
    "name": "ipython",
    "version": 3
   },
   "file_extension": ".py",
   "mimetype": "text/x-python",
   "name": "python",
   "nbconvert_exporter": "python",
   "pygments_lexer": "ipython3",
   "version": "3.11.7"
  }
 },
 "nbformat": 4,
 "nbformat_minor": 5
}
